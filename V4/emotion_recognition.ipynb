{
 "cells": [
  {
   "cell_type": "markdown",
   "metadata": {},
   "source": [
    "FER2013 - CNN"
   ]
  },
  {
   "cell_type": "code",
   "execution_count": 1,
   "metadata": {},
   "outputs": [],
   "source": [
    "import os\n",
    "import pandas as pd\n",
    "import numpy as np\n",
    "import tensorflow as tf\n",
    "from matplotlib import pyplot\n",
    "from sklearn.model_selection import train_test_split\n",
    "from tensorflow.keras.preprocessing.image import ImageDataGenerator"
   ]
  },
  {
   "cell_type": "code",
   "execution_count": 2,
   "metadata": {},
   "outputs": [
    {
     "data": {
      "text/html": [
       "<div>\n",
       "<style scoped>\n",
       "    .dataframe tbody tr th:only-of-type {\n",
       "        vertical-align: middle;\n",
       "    }\n",
       "\n",
       "    .dataframe tbody tr th {\n",
       "        vertical-align: top;\n",
       "    }\n",
       "\n",
       "    .dataframe thead th {\n",
       "        text-align: right;\n",
       "    }\n",
       "</style>\n",
       "<table border=\"1\" class=\"dataframe\">\n",
       "  <thead>\n",
       "    <tr style=\"text-align: right;\">\n",
       "      <th></th>\n",
       "      <th>emotion</th>\n",
       "      <th>pixels</th>\n",
       "      <th>Usage</th>\n",
       "    </tr>\n",
       "  </thead>\n",
       "  <tbody>\n",
       "    <tr>\n",
       "      <th>0</th>\n",
       "      <td>0</td>\n",
       "      <td>70 80 82 72 58 58 60 63 54 58 60 48 89 115 121...</td>\n",
       "      <td>Training</td>\n",
       "    </tr>\n",
       "    <tr>\n",
       "      <th>1</th>\n",
       "      <td>0</td>\n",
       "      <td>151 150 147 155 148 133 111 140 170 174 182 15...</td>\n",
       "      <td>Training</td>\n",
       "    </tr>\n",
       "    <tr>\n",
       "      <th>2</th>\n",
       "      <td>2</td>\n",
       "      <td>231 212 156 164 174 138 161 173 182 200 106 38...</td>\n",
       "      <td>Training</td>\n",
       "    </tr>\n",
       "    <tr>\n",
       "      <th>3</th>\n",
       "      <td>4</td>\n",
       "      <td>24 32 36 30 32 23 19 20 30 41 21 22 32 34 21 1...</td>\n",
       "      <td>Training</td>\n",
       "    </tr>\n",
       "    <tr>\n",
       "      <th>4</th>\n",
       "      <td>6</td>\n",
       "      <td>4 0 0 0 0 0 0 0 0 0 0 0 3 15 23 28 48 50 58 84...</td>\n",
       "      <td>Training</td>\n",
       "    </tr>\n",
       "  </tbody>\n",
       "</table>\n",
       "</div>"
      ],
      "text/plain": [
       "   emotion                                             pixels     Usage\n",
       "0        0  70 80 82 72 58 58 60 63 54 58 60 48 89 115 121...  Training\n",
       "1        0  151 150 147 155 148 133 111 140 170 174 182 15...  Training\n",
       "2        2  231 212 156 164 174 138 161 173 182 200 106 38...  Training\n",
       "3        4  24 32 36 30 32 23 19 20 30 41 21 22 32 34 21 1...  Training\n",
       "4        6  4 0 0 0 0 0 0 0 0 0 0 0 3 15 23 28 48 50 58 84...  Training"
      ]
     },
     "execution_count": 2,
     "metadata": {},
     "output_type": "execute_result"
    }
   ],
   "source": [
    "df = pd.read_csv('C:/Kecilin/emotion_detection/V1/fer2013/fer2013.csv')\n",
    "df.head()"
   ]
  },
  {
   "cell_type": "code",
   "execution_count": 3,
   "metadata": {},
   "outputs": [],
   "source": [
    "label_to_text = {0:'anger', 1:'disgust', 2:'fear', 3:'happiness', 4: 'sadness', 5: 'surprise', 6: 'neutral'} "
   ]
  },
  {
   "cell_type": "code",
   "execution_count": 4,
   "metadata": {},
   "outputs": [],
   "source": [
    "img_array = df.pixels.apply(lambda x: np.array(x.split(\" \")).reshape(48,48,1).astype('float32'))\n",
    "img_array = np.stack(img_array, axis=0)\n",
    "labels = df.emotion.values"
   ]
  },
  {
   "cell_type": "code",
   "execution_count": 5,
   "metadata": {},
   "outputs": [
    {
     "data": {
      "text/plain": [
       "(35887, 48, 48, 1)"
      ]
     },
     "execution_count": 5,
     "metadata": {},
     "output_type": "execute_result"
    }
   ],
   "source": [
    "img_array.shape"
   ]
  },
  {
   "cell_type": "code",
   "execution_count": 6,
   "metadata": {},
   "outputs": [],
   "source": [
    "X_train, X_test, y_train, y_test = train_test_split(img_array, labels, test_size= .2)"
   ]
  },
  {
   "cell_type": "code",
   "execution_count": 7,
   "metadata": {},
   "outputs": [
    {
     "data": {
      "text/plain": [
       "3"
      ]
     },
     "execution_count": 7,
     "metadata": {},
     "output_type": "execute_result"
    }
   ],
   "source": [
    "y_train[0]"
   ]
  },
  {
   "cell_type": "code",
   "execution_count": 8,
   "metadata": {},
   "outputs": [],
   "source": [
    "X_train = X_train/255\n",
    "X_test = X_test/255"
   ]
  },
  {
   "cell_type": "code",
   "execution_count": 9,
   "metadata": {},
   "outputs": [],
   "source": [
    "# # Create data generators for training and validation sets\n",
    "# train_datagen = ImageDataGenerator(\n",
    "#     rotation_range=15,\n",
    "#     width_shift_range=0.1,\n",
    "#     height_shift_range=0.1,\n",
    "#     shear_range=0.2,\n",
    "#     zoom_range=0.2,\n",
    "#     horizontal_flip=True,\n",
    "# )\n",
    "\n",
    "# validation_datagen = ImageDataGenerator()  # No augmentation for validation data\n",
    "\n",
    "# # Generate augmented data for training set\n",
    "# train_generator = train_datagen.flow(X_train, y_train, batch_size=32)"
   ]
  },
  {
   "cell_type": "code",
   "execution_count": 10,
   "metadata": {},
   "outputs": [],
   "source": [
    "basemodel = tf.keras.models.Sequential([\n",
    "    tf.keras.layers.Conv2D(32, (3, 3), activation='relu', input_shape=(48, 48, 1)),\n",
    "    tf.keras.layers.MaxPool2D(2, 2),\n",
    "    tf.keras.layers.Conv2D(64, (3, 3), activation='relu'),\n",
    "    tf.keras.layers.MaxPool2D(2, 2),\n",
    "    tf.keras.layers.Flatten(),\n",
    "    tf.keras.layers.Dense(128, activation='relu'),\n",
    "    tf.keras.layers.Dropout(0.5),\n",
    "    tf.keras.layers.Dense(7, activation='softmax')\n",
    "])"
   ]
  },
  {
   "cell_type": "code",
   "execution_count": 11,
   "metadata": {},
   "outputs": [
    {
     "name": "stdout",
     "output_type": "stream",
     "text": [
      "Model: \"sequential\"\n",
      "_________________________________________________________________\n",
      " Layer (type)                Output Shape              Param #   \n",
      "=================================================================\n",
      " conv2d (Conv2D)             (None, 46, 46, 32)        320       \n",
      "                                                                 \n",
      " max_pooling2d (MaxPooling2  (None, 23, 23, 32)        0         \n",
      " D)                                                              \n",
      "                                                                 \n",
      " conv2d_1 (Conv2D)           (None, 21, 21, 64)        18496     \n",
      "                                                                 \n",
      " max_pooling2d_1 (MaxPoolin  (None, 10, 10, 64)        0         \n",
      " g2D)                                                            \n",
      "                                                                 \n",
      " flatten (Flatten)           (None, 6400)              0         \n",
      "                                                                 \n",
      " dense (Dense)               (None, 128)               819328    \n",
      "                                                                 \n",
      " dropout (Dropout)           (None, 128)               0         \n",
      "                                                                 \n",
      " dense_1 (Dense)             (None, 7)                 903       \n",
      "                                                                 \n",
      "=================================================================\n",
      "Total params: 839047 (3.20 MB)\n",
      "Trainable params: 839047 (3.20 MB)\n",
      "Non-trainable params: 0 (0.00 Byte)\n",
      "_________________________________________________________________\n"
     ]
    }
   ],
   "source": [
    "basemodel.summary()"
   ]
  },
  {
   "cell_type": "code",
   "execution_count": 12,
   "metadata": {},
   "outputs": [],
   "source": [
    "initial_learning_rate = 0.001  # You can adjust this value\n",
    "optimizer = tf.keras.optimizers.Adam(learning_rate=initial_learning_rate)\n",
    "basemodel.compile(optimizer=optimizer,\n",
    "                loss='sparse_categorical_crossentropy',\n",
    "                metrics=['accuracy'])"
   ]
  },
  {
   "cell_type": "code",
   "execution_count": 13,
   "metadata": {},
   "outputs": [],
   "source": [
    "def lr_schedule(epoch):\n",
    "    if epoch < 20:\n",
    "        return initial_learning_rate\n",
    "    else:\n",
    "        return initial_learning_rate * 0.1"
   ]
  },
  {
   "cell_type": "code",
   "execution_count": 14,
   "metadata": {},
   "outputs": [],
   "source": [
    "# # Define early stopping\n",
    "# early_stopping = tf.keras.callbacks.EarlyStopping(\n",
    "#     monitor='val_accuracy',\n",
    "#     patience=10,\n",
    "#     restore_best_weights=True\n",
    "# )"
   ]
  },
  {
   "cell_type": "code",
   "execution_count": 15,
   "metadata": {},
   "outputs": [],
   "source": [
    "file_name = 'new_model.h5'\n",
    "checkpoint_path= os.path.join('checkpoint',file_name)\n",
    "\n",
    "call_back = [\n",
    "    tf.keras.callbacks.ModelCheckpoint(filepath=checkpoint_path,\n",
    "                                        monitor='val_accuracy',\n",
    "                                        verbose=1,\n",
    "                                        save_freq='epoch',\n",
    "                                        save_best_only=True,\n",
    "                                        save_weights_only=False,\n",
    "                                        mode='max'),\n",
    "    tf.keras.callbacks.EarlyStopping(\n",
    "        monitor='val_accuracy',\n",
    "        patience=20,\n",
    "        restore_best_weights=True\n",
    "    ),\n",
    "    tf.keras.callbacks.LearningRateScheduler(lr_schedule)\n",
    "]"
   ]
  },
  {
   "cell_type": "code",
   "execution_count": 16,
   "metadata": {},
   "outputs": [
    {
     "name": "stdout",
     "output_type": "stream",
     "text": [
      "Epoch 1/50\n",
      "3586/3589 [============================>.] - ETA: 0s - loss: 1.6759 - accuracy: 0.3257\n",
      "Epoch 1: val_accuracy improved from -inf to 0.42951, saving model to checkpoint\\new_model.h5\n",
      "3589/3589 [==============================] - 62s 17ms/step - loss: 1.6758 - accuracy: 0.3257 - val_loss: 1.4636 - val_accuracy: 0.4295 - lr: 0.0010\n",
      "Epoch 2/50\n",
      "   7/3589 [..............................] - ETA: 1:07 - loss: 1.5609 - accuracy: 0.4464"
     ]
    },
    {
     "name": "stderr",
     "output_type": "stream",
     "text": [
      "C:\\Users\\vince\\AppData\\Local\\Packages\\PythonSoftwareFoundation.Python.3.11_qbz5n2kfra8p0\\LocalCache\\local-packages\\Python311\\site-packages\\keras\\src\\engine\\training.py:3000: UserWarning: You are saving your model as an HDF5 file via `model.save()`. This file format is considered legacy. We recommend using instead the native Keras format, e.g. `model.save('my_model.keras')`.\n",
      "  saving_api.save_model(\n"
     ]
    },
    {
     "name": "stdout",
     "output_type": "stream",
     "text": [
      "3588/3589 [============================>.] - ETA: 0s - loss: 1.4751 - accuracy: 0.4246\n",
      "Epoch 2: val_accuracy improved from 0.42951 to 0.47534, saving model to checkpoint\\new_model.h5\n",
      "3589/3589 [==============================] - 62s 17ms/step - loss: 1.4751 - accuracy: 0.4246 - val_loss: 1.3779 - val_accuracy: 0.4753 - lr: 0.0010\n",
      "Epoch 3/50\n",
      "3587/3589 [============================>.] - ETA: 0s - loss: 1.3894 - accuracy: 0.4622\n",
      "Epoch 3: val_accuracy improved from 0.47534 to 0.49276, saving model to checkpoint\\new_model.h5\n",
      "3589/3589 [==============================] - 62s 17ms/step - loss: 1.3894 - accuracy: 0.4622 - val_loss: 1.3235 - val_accuracy: 0.4928 - lr: 0.0010\n",
      "Epoch 4/50\n",
      "3586/3589 [============================>.] - ETA: 0s - loss: 1.3328 - accuracy: 0.4816\n",
      "Epoch 4: val_accuracy improved from 0.49276 to 0.51031, saving model to checkpoint\\new_model.h5\n",
      "3589/3589 [==============================] - 62s 17ms/step - loss: 1.3327 - accuracy: 0.4818 - val_loss: 1.2947 - val_accuracy: 0.5103 - lr: 0.0010\n",
      "Epoch 5/50\n",
      "3587/3589 [============================>.] - ETA: 0s - loss: 1.2883 - accuracy: 0.5052\n",
      "Epoch 5: val_accuracy improved from 0.51031 to 0.51435, saving model to checkpoint\\new_model.h5\n",
      "3589/3589 [==============================] - 63s 18ms/step - loss: 1.2882 - accuracy: 0.5052 - val_loss: 1.2759 - val_accuracy: 0.5143 - lr: 0.0010\n",
      "Epoch 6/50\n",
      "3588/3589 [============================>.] - ETA: 0s - loss: 1.2485 - accuracy: 0.5165\n",
      "Epoch 6: val_accuracy did not improve from 0.51435\n",
      "3589/3589 [==============================] - 62s 17ms/step - loss: 1.2484 - accuracy: 0.5165 - val_loss: 1.2915 - val_accuracy: 0.5100 - lr: 0.0010\n",
      "Epoch 7/50\n",
      "3586/3589 [============================>.] - ETA: 0s - loss: 1.2073 - accuracy: 0.5342\n",
      "Epoch 7: val_accuracy improved from 0.51435 to 0.51923, saving model to checkpoint\\new_model.h5\n",
      "3589/3589 [==============================] - 62s 17ms/step - loss: 1.2074 - accuracy: 0.5342 - val_loss: 1.2776 - val_accuracy: 0.5192 - lr: 0.0010\n",
      "Epoch 8/50\n",
      "3586/3589 [============================>.] - ETA: 0s - loss: 1.1725 - accuracy: 0.5483\n",
      "Epoch 8: val_accuracy improved from 0.51923 to 0.52786, saving model to checkpoint\\new_model.h5\n",
      "3589/3589 [==============================] - 62s 17ms/step - loss: 1.1724 - accuracy: 0.5483 - val_loss: 1.2562 - val_accuracy: 0.5279 - lr: 0.0010\n",
      "Epoch 9/50\n",
      "3587/3589 [============================>.] - ETA: 0s - loss: 1.1403 - accuracy: 0.5606\n",
      "Epoch 9: val_accuracy did not improve from 0.52786\n",
      "3589/3589 [==============================] - 62s 17ms/step - loss: 1.1401 - accuracy: 0.5607 - val_loss: 1.2835 - val_accuracy: 0.5157 - lr: 0.0010\n",
      "Epoch 10/50\n",
      "3589/3589 [==============================] - ETA: 0s - loss: 1.1089 - accuracy: 0.5747\n",
      "Epoch 10: val_accuracy improved from 0.52786 to 0.52953, saving model to checkpoint\\new_model.h5\n",
      "3589/3589 [==============================] - 62s 17ms/step - loss: 1.1089 - accuracy: 0.5747 - val_loss: 1.2993 - val_accuracy: 0.5295 - lr: 0.0010\n",
      "Epoch 11/50\n",
      "3589/3589 [==============================] - ETA: 0s - loss: 1.0786 - accuracy: 0.5838\n",
      "Epoch 11: val_accuracy did not improve from 0.52953\n",
      "3589/3589 [==============================] - 63s 17ms/step - loss: 1.0786 - accuracy: 0.5838 - val_loss: 1.3066 - val_accuracy: 0.5291 - lr: 0.0010\n",
      "Epoch 12/50\n",
      "3587/3589 [============================>.] - ETA: 0s - loss: 1.0478 - accuracy: 0.5947\n",
      "Epoch 12: val_accuracy did not improve from 0.52953\n",
      "3589/3589 [==============================] - 78s 22ms/step - loss: 1.0479 - accuracy: 0.5947 - val_loss: 1.2911 - val_accuracy: 0.5248 - lr: 0.0010\n",
      "Epoch 13/50\n",
      "3587/3589 [============================>.] - ETA: 0s - loss: 1.0195 - accuracy: 0.6045\n",
      "Epoch 13: val_accuracy did not improve from 0.52953\n",
      "3589/3589 [==============================] - 67s 19ms/step - loss: 1.0195 - accuracy: 0.6046 - val_loss: 1.3088 - val_accuracy: 0.5245 - lr: 0.0010\n",
      "Epoch 14/50\n",
      "3589/3589 [==============================] - ETA: 0s - loss: 0.9948 - accuracy: 0.6115\n",
      "Epoch 14: val_accuracy did not improve from 0.52953\n",
      "3589/3589 [==============================] - 67s 19ms/step - loss: 0.9948 - accuracy: 0.6115 - val_loss: 1.3527 - val_accuracy: 0.5244 - lr: 0.0010\n",
      "Epoch 15/50\n",
      "3588/3589 [============================>.] - ETA: 0s - loss: 0.9671 - accuracy: 0.6257\n",
      "Epoch 15: val_accuracy improved from 0.52953 to 0.53385, saving model to checkpoint\\new_model.h5\n",
      "3589/3589 [==============================] - 67s 19ms/step - loss: 0.9671 - accuracy: 0.6257 - val_loss: 1.3695 - val_accuracy: 0.5339 - lr: 0.0010\n",
      "Epoch 16/50\n",
      "3587/3589 [============================>.] - ETA: 0s - loss: 0.9392 - accuracy: 0.6304\n",
      "Epoch 16: val_accuracy did not improve from 0.53385\n",
      "3589/3589 [==============================] - 67s 19ms/step - loss: 0.9393 - accuracy: 0.6303 - val_loss: 1.3541 - val_accuracy: 0.5318 - lr: 0.0010\n",
      "Epoch 17/50\n",
      "3587/3589 [============================>.] - ETA: 0s - loss: 0.9183 - accuracy: 0.6381\n",
      "Epoch 17: val_accuracy did not improve from 0.53385\n",
      "3589/3589 [==============================] - 68s 19ms/step - loss: 0.9183 - accuracy: 0.6382 - val_loss: 1.3797 - val_accuracy: 0.5272 - lr: 0.0010\n",
      "Epoch 18/50\n",
      "3588/3589 [============================>.] - ETA: 0s - loss: 0.9054 - accuracy: 0.6448\n",
      "Epoch 18: val_accuracy did not improve from 0.53385\n",
      "3589/3589 [==============================] - 66s 18ms/step - loss: 0.9058 - accuracy: 0.6447 - val_loss: 1.4223 - val_accuracy: 0.5242 - lr: 0.0010\n",
      "Epoch 19/50\n",
      "3588/3589 [============================>.] - ETA: 0s - loss: 0.8859 - accuracy: 0.6507\n",
      "Epoch 19: val_accuracy did not improve from 0.53385\n",
      "3589/3589 [==============================] - 63s 18ms/step - loss: 0.8859 - accuracy: 0.6507 - val_loss: 1.4458 - val_accuracy: 0.5319 - lr: 0.0010\n",
      "Epoch 20/50\n",
      "3587/3589 [============================>.] - ETA: 0s - loss: 0.8668 - accuracy: 0.6586\n",
      "Epoch 20: val_accuracy improved from 0.53385 to 0.53761, saving model to checkpoint\\new_model.h5\n",
      "3589/3589 [==============================] - 63s 18ms/step - loss: 0.8669 - accuracy: 0.6586 - val_loss: 1.4884 - val_accuracy: 0.5376 - lr: 0.0010\n",
      "Epoch 21/50\n",
      "3587/3589 [============================>.] - ETA: 0s - loss: 0.7531 - accuracy: 0.6997\n",
      "Epoch 21: val_accuracy improved from 0.53761 to 0.54179, saving model to checkpoint\\new_model.h5\n",
      "3589/3589 [==============================] - 68s 19ms/step - loss: 0.7531 - accuracy: 0.6997 - val_loss: 1.5162 - val_accuracy: 0.5418 - lr: 1.0000e-04\n",
      "Epoch 22/50\n",
      "3587/3589 [============================>.] - ETA: 0s - loss: 0.7241 - accuracy: 0.7092\n",
      "Epoch 22: val_accuracy improved from 0.54179 to 0.54221, saving model to checkpoint\\new_model.h5\n",
      "3589/3589 [==============================] - 67s 19ms/step - loss: 0.7241 - accuracy: 0.7092 - val_loss: 1.5161 - val_accuracy: 0.5422 - lr: 1.0000e-04\n",
      "Epoch 23/50\n",
      "3587/3589 [============================>.] - ETA: 0s - loss: 0.7130 - accuracy: 0.7139\n",
      "Epoch 23: val_accuracy did not improve from 0.54221\n",
      "3589/3589 [==============================] - 67s 19ms/step - loss: 0.7129 - accuracy: 0.7139 - val_loss: 1.5460 - val_accuracy: 0.5386 - lr: 1.0000e-04\n",
      "Epoch 24/50\n",
      "3587/3589 [============================>.] - ETA: 0s - loss: 0.6993 - accuracy: 0.7178\n",
      "Epoch 24: val_accuracy improved from 0.54221 to 0.54235, saving model to checkpoint\\new_model.h5\n",
      "3589/3589 [==============================] - 67s 19ms/step - loss: 0.6991 - accuracy: 0.7178 - val_loss: 1.5799 - val_accuracy: 0.5424 - lr: 1.0000e-04\n",
      "Epoch 25/50\n",
      "3587/3589 [============================>.] - ETA: 0s - loss: 0.6876 - accuracy: 0.7213\n",
      "Epoch 25: val_accuracy did not improve from 0.54235\n",
      "3589/3589 [==============================] - 67s 19ms/step - loss: 0.6878 - accuracy: 0.7211 - val_loss: 1.5727 - val_accuracy: 0.5385 - lr: 1.0000e-04\n",
      "Epoch 26/50\n",
      "3587/3589 [============================>.] - ETA: 0s - loss: 0.6754 - accuracy: 0.7272\n",
      "Epoch 26: val_accuracy did not improve from 0.54235\n",
      "3589/3589 [==============================] - 68s 19ms/step - loss: 0.6753 - accuracy: 0.7273 - val_loss: 1.5985 - val_accuracy: 0.5385 - lr: 1.0000e-04\n",
      "Epoch 27/50\n",
      "3588/3589 [============================>.] - ETA: 0s - loss: 0.6710 - accuracy: 0.7274\n",
      "Epoch 27: val_accuracy did not improve from 0.54235\n",
      "3589/3589 [==============================] - 88s 24ms/step - loss: 0.6711 - accuracy: 0.7273 - val_loss: 1.6117 - val_accuracy: 0.5391 - lr: 1.0000e-04\n",
      "Epoch 28/50\n",
      "3589/3589 [==============================] - ETA: 0s - loss: 0.6637 - accuracy: 0.7319\n",
      "Epoch 28: val_accuracy did not improve from 0.54235\n",
      "3589/3589 [==============================] - 90s 25ms/step - loss: 0.6637 - accuracy: 0.7319 - val_loss: 1.6279 - val_accuracy: 0.5412 - lr: 1.0000e-04\n",
      "Epoch 29/50\n",
      "3588/3589 [============================>.] - ETA: 0s - loss: 0.6563 - accuracy: 0.7324\n",
      "Epoch 29: val_accuracy did not improve from 0.54235\n",
      "3589/3589 [==============================] - 89s 25ms/step - loss: 0.6563 - accuracy: 0.7324 - val_loss: 1.6366 - val_accuracy: 0.5418 - lr: 1.0000e-04\n",
      "Epoch 30/50\n",
      "3588/3589 [============================>.] - ETA: 0s - loss: 0.6437 - accuracy: 0.7361\n",
      "Epoch 30: val_accuracy did not improve from 0.54235\n",
      "3589/3589 [==============================] - 75s 21ms/step - loss: 0.6436 - accuracy: 0.7361 - val_loss: 1.6756 - val_accuracy: 0.5417 - lr: 1.0000e-04\n",
      "Epoch 31/50\n",
      "3587/3589 [============================>.] - ETA: 0s - loss: 0.6379 - accuracy: 0.7376\n",
      "Epoch 31: val_accuracy improved from 0.54235 to 0.54277, saving model to checkpoint\\new_model.h5\n",
      "3589/3589 [==============================] - 65s 18ms/step - loss: 0.6379 - accuracy: 0.7376 - val_loss: 1.6715 - val_accuracy: 0.5428 - lr: 1.0000e-04\n",
      "Epoch 32/50\n",
      "3587/3589 [============================>.] - ETA: 0s - loss: 0.6303 - accuracy: 0.7430\n",
      "Epoch 32: val_accuracy did not improve from 0.54277\n",
      "3589/3589 [==============================] - 65s 18ms/step - loss: 0.6304 - accuracy: 0.7429 - val_loss: 1.6861 - val_accuracy: 0.5394 - lr: 1.0000e-04\n",
      "Epoch 33/50\n",
      "3587/3589 [============================>.] - ETA: 0s - loss: 0.6263 - accuracy: 0.7445\n",
      "Epoch 33: val_accuracy improved from 0.54277 to 0.54319, saving model to checkpoint\\new_model.h5\n",
      "3589/3589 [==============================] - 63s 17ms/step - loss: 0.6262 - accuracy: 0.7445 - val_loss: 1.7337 - val_accuracy: 0.5432 - lr: 1.0000e-04\n",
      "Epoch 34/50\n",
      "3589/3589 [==============================] - ETA: 0s - loss: 0.6138 - accuracy: 0.7505\n",
      "Epoch 34: val_accuracy did not improve from 0.54319\n",
      "3589/3589 [==============================] - 68s 19ms/step - loss: 0.6138 - accuracy: 0.7505 - val_loss: 1.7427 - val_accuracy: 0.5425 - lr: 1.0000e-04\n",
      "Epoch 35/50\n",
      "3587/3589 [============================>.] - ETA: 0s - loss: 0.6117 - accuracy: 0.7497\n",
      "Epoch 35: val_accuracy did not improve from 0.54319\n",
      "3589/3589 [==============================] - 76s 21ms/step - loss: 0.6118 - accuracy: 0.7496 - val_loss: 1.7490 - val_accuracy: 0.5403 - lr: 1.0000e-04\n",
      "Epoch 36/50\n",
      "3588/3589 [============================>.] - ETA: 0s - loss: 0.6071 - accuracy: 0.7528\n",
      "Epoch 36: val_accuracy did not improve from 0.54319\n",
      "3589/3589 [==============================] - 68s 19ms/step - loss: 0.6070 - accuracy: 0.7528 - val_loss: 1.7775 - val_accuracy: 0.5407 - lr: 1.0000e-04\n",
      "Epoch 37/50\n",
      "3587/3589 [============================>.] - ETA: 0s - loss: 0.6031 - accuracy: 0.7513\n",
      "Epoch 37: val_accuracy did not improve from 0.54319\n",
      "3589/3589 [==============================] - 68s 19ms/step - loss: 0.6031 - accuracy: 0.7513 - val_loss: 1.8055 - val_accuracy: 0.5421 - lr: 1.0000e-04\n",
      "Epoch 38/50\n",
      "3588/3589 [============================>.] - ETA: 0s - loss: 0.5922 - accuracy: 0.7571\n",
      "Epoch 38: val_accuracy did not improve from 0.54319\n",
      "3589/3589 [==============================] - 68s 19ms/step - loss: 0.5922 - accuracy: 0.7571 - val_loss: 1.8260 - val_accuracy: 0.5411 - lr: 1.0000e-04\n",
      "Epoch 39/50\n",
      "3586/3589 [============================>.] - ETA: 0s - loss: 0.5878 - accuracy: 0.7580\n",
      "Epoch 39: val_accuracy did not improve from 0.54319\n",
      "3589/3589 [==============================] - 65s 18ms/step - loss: 0.5877 - accuracy: 0.7580 - val_loss: 1.8233 - val_accuracy: 0.5393 - lr: 1.0000e-04\n",
      "Epoch 40/50\n",
      "3587/3589 [============================>.] - ETA: 0s - loss: 0.5860 - accuracy: 0.7582\n",
      "Epoch 40: val_accuracy improved from 0.54319 to 0.54374, saving model to checkpoint\\new_model.h5\n",
      "3589/3589 [==============================] - 68s 19ms/step - loss: 0.5859 - accuracy: 0.7583 - val_loss: 1.8040 - val_accuracy: 0.5437 - lr: 1.0000e-04\n",
      "Epoch 41/50\n",
      "3586/3589 [============================>.] - ETA: 0s - loss: 0.5840 - accuracy: 0.7563\n",
      "Epoch 41: val_accuracy did not improve from 0.54374\n",
      "3589/3589 [==============================] - 65s 18ms/step - loss: 0.5845 - accuracy: 0.7562 - val_loss: 1.8394 - val_accuracy: 0.5398 - lr: 1.0000e-04\n",
      "Epoch 42/50\n",
      "3587/3589 [============================>.] - ETA: 0s - loss: 0.5775 - accuracy: 0.7605\n",
      "Epoch 42: val_accuracy did not improve from 0.54374\n",
      "3589/3589 [==============================] - 63s 18ms/step - loss: 0.5775 - accuracy: 0.7605 - val_loss: 1.8841 - val_accuracy: 0.5378 - lr: 1.0000e-04\n",
      "Epoch 43/50\n",
      "3588/3589 [============================>.] - ETA: 0s - loss: 0.5707 - accuracy: 0.7632\n",
      "Epoch 43: val_accuracy did not improve from 0.54374\n",
      "3589/3589 [==============================] - 63s 17ms/step - loss: 0.5709 - accuracy: 0.7631 - val_loss: 1.9073 - val_accuracy: 0.5404 - lr: 1.0000e-04\n",
      "Epoch 44/50\n",
      "3586/3589 [============================>.] - ETA: 0s - loss: 0.5721 - accuracy: 0.7645\n",
      "Epoch 44: val_accuracy did not improve from 0.54374\n",
      "3589/3589 [==============================] - 62s 17ms/step - loss: 0.5719 - accuracy: 0.7645 - val_loss: 1.9323 - val_accuracy: 0.5371 - lr: 1.0000e-04\n",
      "Epoch 45/50\n",
      "3589/3589 [==============================] - ETA: 0s - loss: 0.5665 - accuracy: 0.7637\n",
      "Epoch 45: val_accuracy did not improve from 0.54374\n",
      "3589/3589 [==============================] - 62s 17ms/step - loss: 0.5665 - accuracy: 0.7637 - val_loss: 1.9257 - val_accuracy: 0.5383 - lr: 1.0000e-04\n",
      "Epoch 46/50\n",
      "3587/3589 [============================>.] - ETA: 0s - loss: 0.5563 - accuracy: 0.7701\n",
      "Epoch 46: val_accuracy did not improve from 0.54374\n",
      "3589/3589 [==============================] - 63s 17ms/step - loss: 0.5564 - accuracy: 0.7700 - val_loss: 1.9585 - val_accuracy: 0.5391 - lr: 1.0000e-04\n",
      "Epoch 47/50\n",
      "3589/3589 [==============================] - ETA: 0s - loss: 0.5523 - accuracy: 0.7733\n",
      "Epoch 47: val_accuracy did not improve from 0.54374\n",
      "3589/3589 [==============================] - 63s 17ms/step - loss: 0.5523 - accuracy: 0.7733 - val_loss: 1.9911 - val_accuracy: 0.5372 - lr: 1.0000e-04\n",
      "Epoch 48/50\n",
      "3586/3589 [============================>.] - ETA: 0s - loss: 0.5491 - accuracy: 0.7678\n",
      "Epoch 48: val_accuracy did not improve from 0.54374\n",
      "3589/3589 [==============================] - 63s 18ms/step - loss: 0.5493 - accuracy: 0.7678 - val_loss: 2.0026 - val_accuracy: 0.5397 - lr: 1.0000e-04\n",
      "Epoch 49/50\n",
      "3587/3589 [============================>.] - ETA: 0s - loss: 0.5470 - accuracy: 0.7737\n",
      "Epoch 49: val_accuracy did not improve from 0.54374\n",
      "3589/3589 [==============================] - 60s 17ms/step - loss: 0.5469 - accuracy: 0.7738 - val_loss: 2.0098 - val_accuracy: 0.5422 - lr: 1.0000e-04\n",
      "Epoch 50/50\n",
      "3586/3589 [============================>.] - ETA: 0s - loss: 0.5438 - accuracy: 0.7739\n",
      "Epoch 50: val_accuracy did not improve from 0.54374\n",
      "3589/3589 [==============================] - 60s 17ms/step - loss: 0.5440 - accuracy: 0.7738 - val_loss: 2.0496 - val_accuracy: 0.5404 - lr: 1.0000e-04\n"
     ]
    }
   ],
   "source": [
    "history = basemodel.fit(X_train, y_train,\n",
    "                        epochs=50,\n",
    "                        batch_size=8,\n",
    "                        validation_data=(X_test, y_test),\n",
    "                        callbacks=call_back)"
   ]
  },
  {
   "cell_type": "code",
   "execution_count": 17,
   "metadata": {},
   "outputs": [
    {
     "data": {
      "text/plain": [
       "<matplotlib.legend.Legend at 0x2165ce3c850>"
      ]
     },
     "execution_count": 17,
     "metadata": {},
     "output_type": "execute_result"
    },
    {
     "data": {
      "image/png": "[encoded data removed]",
      "text/plain": [
       "<Figure size 640x480 with 1 Axes>"
      ]
     },
     "metadata": {},
     "output_type": "display_data"
    }
   ],
   "source": [
    "# Plot loss per iteration\n",
    "import matplotlib.pyplot as plt\n",
    "plt.plot(history.history['loss'], label='loss')\n",
    "plt.plot(history.history['val_loss'], label='val_loss')\n",
    "plt.legend()"
   ]
  },
  {
   "cell_type": "code",
   "execution_count": 18,
   "metadata": {},
   "outputs": [
    {
     "data": {
      "text/plain": [
       "<matplotlib.legend.Legend at 0x2165cf87b90>"
      ]
     },
     "execution_count": 18,
     "metadata": {},
     "output_type": "execute_result"
    },
    {
     "data": {
      "image/png": "[encoded data removed]",
      "text/plain": [
       "<Figure size 640x480 with 1 Axes>"
      ]
     },
     "metadata": {},
     "output_type": "display_data"
    }
   ],
   "source": [
    "# Plot accuracy per iteration\n",
    "plt.plot(history.history['accuracy'], label='acc')\n",
    "plt.plot(history.history['val_accuracy'], label='val_acc')\n",
    "plt.legend()"
   ]
  },
  {
   "cell_type": "code",
   "execution_count": 19,
   "metadata": {},
   "outputs": [
    {
     "name": "stdout",
     "output_type": "stream",
     "text": [
      "225/225 [==============================] - 2s 9ms/step\n",
      "Confusion matrix, without normalization\n",
      "[[ 409    3  125  102  168   33  143]\n",
      " [  28   26   13    9   20    1    5]\n",
      " [ 126    2  380   88  214   95  127]\n",
      " [  90    0   70 1331  120   38  127]\n",
      " [ 137    3  190  113  517   24  209]\n",
      " [  29    0   96   58   38  594   26]\n",
      " [ 115    0  109  138  242   25  622]]\n"
     ]
    },
    {
     "data": {
      "image/png": "[encoded data removed]",
      "text/plain": [
       "<Figure size 640x480 with 2 Axes>"
      ]
     },
     "metadata": {},
     "output_type": "display_data"
    }
   ],
   "source": [
    "# Plot confusion matrix\n",
    "from sklearn.metrics import confusion_matrix\n",
    "import itertools\n",
    "\n",
    "def plot_confusion_matrix(cm, classes,\n",
    "                          normalize=False,\n",
    "                          title='Confusion matrix',\n",
    "                          cmap=plt.cm.Blues):\n",
    "  \"\"\"\n",
    "  This function prints and plots the confusion matrix.\n",
    "  Normalization can be applied by setting `normalize=True`.\n",
    "  \"\"\"\n",
    "  if normalize:\n",
    "      cm = cm.astype('float') / cm.sum(axis=1)[:, np.newaxis]\n",
    "      print(\"Normalized confusion matrix\")\n",
    "  else:\n",
    "      print('Confusion matrix, without normalization')\n",
    "\n",
    "  print(cm)\n",
    "\n",
    "  plt.imshow(cm, interpolation='nearest', cmap=cmap)\n",
    "  plt.title(title)\n",
    "  plt.colorbar()\n",
    "  tick_marks = np.arange(len(classes))\n",
    "  plt.xticks(tick_marks, classes, rotation=45)\n",
    "  plt.yticks(tick_marks, classes)\n",
    "\n",
    "  fmt = '.2f' if normalize else 'd'\n",
    "  thresh = cm.max() / 2.\n",
    "  for i, j in itertools.product(range(cm.shape[0]), range(cm.shape[1])):\n",
    "      plt.text(j, i, format(cm[i, j], fmt),\n",
    "               horizontalalignment=\"center\",\n",
    "               color=\"white\" if cm[i, j] > thresh else \"black\")\n",
    "\n",
    "  plt.tight_layout()\n",
    "  plt.ylabel('True label')\n",
    "  plt.xlabel('Predicted label')\n",
    "  plt.show()\n",
    "\n",
    "\n",
    "p_test = basemodel.predict(X_test).argmax(axis=1)\n",
    "cm = confusion_matrix(y_test, p_test)\n",
    "plot_confusion_matrix(cm, list(range(9)))"
   ]
  },
  {
   "cell_type": "code",
   "execution_count": null,
   "metadata": {},
   "outputs": [],
   "source": [
    "checkpoint_path"
   ]
  },
  {
   "cell_type": "code",
   "execution_count": null,
   "metadata": {},
   "outputs": [],
   "source": [
    "final_model = tf.keras.models.load_model(checkpoint_path)\n",
    "from IPython.display import clear_output\n",
    "import time\n",
    "\n",
    "for k in range(40):\n",
    "        print(f'actual label is {label_to_text[y_test[k]]}')\n",
    "        predicted_class = final_model.predict(tf.expand_dims(X_test[k],0)).argmax()\n",
    "        print(f'predicted label is {label_to_text[predicted_class]}')\n",
    "        pyplot.imshow(X_test[k].reshape((48,48)))\n",
    "        pyplot.show()\n",
    "        time.sleep(3)\n",
    "        clear_output(wait=True)"
   ]
  }
 ],
 "metadata": {
  "kernelspec": {
   "display_name": "Python 3",
   "language": "python",
   "name": "python3"
  },
  "language_info": {
   "codemirror_mode": {
    "name": "ipython",
    "version": 3
   },
   "file_extension": ".py",
   "mimetype": "text/x-python",
   "name": "python",
   "nbconvert_exporter": "python",
   "pygments_lexer": "ipython3",
   "version": "3.11.5"
  },
  "orig_nbformat": 4
 },
 "nbformat": 4,
 "nbformat_minor": 2
}
