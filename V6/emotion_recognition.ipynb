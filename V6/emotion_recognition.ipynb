{
 "cells": [
  {
   "cell_type": "markdown",
   "metadata": {},
   "source": [
    "CK+ - CNN with LBP"
   ]
  },
  {
   "cell_type": "code",
   "execution_count": 22,
   "metadata": {},
   "outputs": [],
   "source": [
    "import os\n",
    "import pandas as pd\n",
    "import numpy as np\n",
    "import tensorflow as tf\n",
    "from matplotlib import pyplot\n",
    "from sklearn.model_selection import train_test_split\n",
    "from sklearn.preprocessing import StandardScaler\n",
    "from tensorflow.keras.callbacks import ReduceLROnPlateau\n",
    "from skimage import color, feature  # For LBP feature extraction\n",
    "from skimage.feature import local_binary_pattern\n",
    "from skimage import img_as_ubyte"
   ]
  },
  {
   "cell_type": "code",
   "execution_count": 23,
   "metadata": {},
   "outputs": [
    {
     "data": {
      "text/html": [
       "<div>\n",
       "<style scoped>\n",
       "    .dataframe tbody tr th:only-of-type {\n",
       "        vertical-align: middle;\n",
       "    }\n",
       "\n",
       "    .dataframe tbody tr th {\n",
       "        vertical-align: top;\n",
       "    }\n",
       "\n",
       "    .dataframe thead th {\n",
       "        text-align: right;\n",
       "    }\n",
       "</style>\n",
       "<table border=\"1\" class=\"dataframe\">\n",
       "  <thead>\n",
       "    <tr style=\"text-align: right;\">\n",
       "      <th></th>\n",
       "      <th>emotion</th>\n",
       "      <th>pixels</th>\n",
       "      <th>Usage</th>\n",
       "    </tr>\n",
       "  </thead>\n",
       "  <tbody>\n",
       "    <tr>\n",
       "      <th>0</th>\n",
       "      <td>6</td>\n",
       "      <td>36 39 35 25 19 11 8 7 3 13 15 9 21 57 75 90 10...</td>\n",
       "      <td>Training</td>\n",
       "    </tr>\n",
       "    <tr>\n",
       "      <th>1</th>\n",
       "      <td>6</td>\n",
       "      <td>88 74 19 4 5 5 3 12 8 21 15 21 15 18 24 29 32 ...</td>\n",
       "      <td>Training</td>\n",
       "    </tr>\n",
       "    <tr>\n",
       "      <th>2</th>\n",
       "      <td>6</td>\n",
       "      <td>9 2 4 7 1 1 1 0 7 29 49 76 115 141 156 169 177...</td>\n",
       "      <td>Training</td>\n",
       "    </tr>\n",
       "    <tr>\n",
       "      <th>3</th>\n",
       "      <td>6</td>\n",
       "      <td>104 106 108 104 95 50 60 61 58 83 126 133 139 ...</td>\n",
       "      <td>Training</td>\n",
       "    </tr>\n",
       "    <tr>\n",
       "      <th>4</th>\n",
       "      <td>6</td>\n",
       "      <td>68 72 67 67 6 2 1 1 1 1 1 14 24 24 38 65 79 94...</td>\n",
       "      <td>Training</td>\n",
       "    </tr>\n",
       "  </tbody>\n",
       "</table>\n",
       "</div>"
      ],
      "text/plain": [
       "   emotion                                             pixels     Usage\n",
       "0        6  36 39 35 25 19 11 8 7 3 13 15 9 21 57 75 90 10...  Training\n",
       "1        6  88 74 19 4 5 5 3 12 8 21 15 21 15 18 24 29 32 ...  Training\n",
       "2        6  9 2 4 7 1 1 1 0 7 29 49 76 115 141 156 169 177...  Training\n",
       "3        6  104 106 108 104 95 50 60 61 58 83 126 133 139 ...  Training\n",
       "4        6  68 72 67 67 6 2 1 1 1 1 1 14 24 24 38 65 79 94...  Training"
      ]
     },
     "execution_count": 23,
     "metadata": {},
     "output_type": "execute_result"
    }
   ],
   "source": [
    "df = pd.read_csv('C:/Kecilin/emotion_detection/V3/ckextended.csv')\n",
    "df.head()"
   ]
  },
  {
   "cell_type": "code",
   "execution_count": 24,
   "metadata": {},
   "outputs": [],
   "source": [
    "label_to_text = {0: 'Anger', 1: 'Disgust', 2: 'Fear', 3: 'Happiness', 4: 'Sadness', 5: 'Surprise', 6: 'Neutral', 7: 'Contempt'}\n",
    "\n",
    "# Define the new class mapping\n",
    "new_classes = {\n",
    "    1: ['Happiness', 'Surprise'],  # Positive\n",
    "    0: ['Neutral'],  # Neutral\n",
    "    2: ['Anger', 'Disgust', 'Fear', 'Sadness', 'Contempt']  # Negative\n",
    "}\n",
    "\n",
    "# Create a dictionary to map old labels to new labels\n",
    "new_label_mapping = {}\n",
    "for new_label, old_classes in new_classes.items():\n",
    "    for old_label, old_class in label_to_text.items():\n",
    "        if old_class in old_classes:\n",
    "            new_label_mapping[old_label] = new_label"
   ]
  },
  {
   "cell_type": "code",
   "execution_count": 25,
   "metadata": {},
   "outputs": [],
   "source": [
    "img_array = df.pixels.apply(lambda x: np.array(x.split(\" \")).reshape(48,48,1).astype('float32'))\n",
    "img_array = np.stack(img_array, axis=0)\n",
    "labels = df.emotion.values"
   ]
  },
  {
   "cell_type": "code",
   "execution_count": 26,
   "metadata": {},
   "outputs": [
    {
     "data": {
      "text/plain": [
       "(920, 48, 48, 1)"
      ]
     },
     "execution_count": 26,
     "metadata": {},
     "output_type": "execute_result"
    }
   ],
   "source": [
    "img_array.shape"
   ]
  },
  {
   "cell_type": "code",
   "execution_count": 27,
   "metadata": {},
   "outputs": [],
   "source": [
    "X_train, X_test, y_train, y_test = train_test_split(img_array, labels, test_size= .2)"
   ]
  },
  {
   "cell_type": "code",
   "execution_count": 28,
   "metadata": {},
   "outputs": [],
   "source": [
    "X_train = X_train/255\n",
    "X_test = X_test/255"
   ]
  },
  {
   "cell_type": "code",
   "execution_count": 29,
   "metadata": {},
   "outputs": [],
   "source": [
    "\n",
    "def compute_lbp(image, radius=1, n_points=8):\n",
    "    # Convert to grayscale if not already\n",
    "    if len(image.shape) == 3:\n",
    "        gray_image = image[:, :, 0]\n",
    "    else:\n",
    "        gray_image = image\n",
    "\n",
    "    # Compute LBP\n",
    "    lbp_image = local_binary_pattern(gray_image, n_points, radius, method='uniform')\n",
    "\n",
    "    return lbp_image"
   ]
  },
  {
   "cell_type": "code",
   "execution_count": 30,
   "metadata": {},
   "outputs": [
    {
     "name": "stderr",
     "output_type": "stream",
     "text": [
      "C:\\Users\\vince\\AppData\\Local\\Packages\\PythonSoftwareFoundation.Python.3.10_qbz5n2kfra8p0\\LocalCache\\local-packages\\Python310\\site-packages\\skimage\\feature\\texture.py:353: UserWarning: Applying `local_binary_pattern` to floating-point images may give unexpected results when small numerical differences between adjacent pixels are present. It is recommended to use this function with images of integer dtype.\n",
      "  warnings.warn(\n"
     ]
    }
   ],
   "source": [
    "# Compute LBP features for training and testing images\n",
    "lbp_features_train = [compute_lbp(image) for image in X_train]\n",
    "lbp_features_test = [compute_lbp(image) for image in X_test]\n",
    "\n",
    "# Flatten LBP features\n",
    "X_train_lbp_flattened = np.array([feature.flatten() for feature in lbp_features_train])\n",
    "X_test_lbp_flattened = np.array([feature.flatten() for feature in lbp_features_test])\n",
    "\n",
    "# Normalize LBP features\n",
    "scaler = StandardScaler()\n",
    "X_train_lbp_normalized = scaler.fit_transform(X_train_lbp_flattened)\n",
    "X_test_lbp_normalized = scaler.transform(X_test_lbp_flattened)\n",
    "\n",
    "# Reshape LBP data back to its original shape\n",
    "X_train_lbp_normalized = X_train_lbp_normalized.reshape(X_train.shape)\n",
    "X_test_lbp_normalized = X_test_lbp_normalized.reshape(X_test.shape)"
   ]
  },
  {
   "cell_type": "code",
   "execution_count": 31,
   "metadata": {},
   "outputs": [],
   "source": [
    "# Update the labels using the new label mapping\n",
    "y_train_updated = np.array([new_label_mapping[label] for label in y_train])\n",
    "y_test_updated = np.array([new_label_mapping[label] for label in y_test])"
   ]
  },
  {
   "cell_type": "code",
   "execution_count": 32,
   "metadata": {},
   "outputs": [],
   "source": [
    "basemodel = tf.keras.models.Sequential([\n",
    "    tf.keras.layers.Conv2D(32, (3, 3), activation='relu', input_shape=(48, 48, 1)),\n",
    "    tf.keras.layers.BatchNormalization(),\n",
    "    tf.keras.layers.MaxPool2D(2, 2),\n",
    "    tf.keras.layers.Conv2D(64, (3, 3), activation='relu'),\n",
    "    tf.keras.layers.BatchNormalization(),\n",
    "    tf.keras.layers.MaxPool2D(2, 2),\n",
    "    tf.keras.layers.Flatten(),\n",
    "    tf.keras.layers.Dense(128, activation='relu'),\n",
    "    tf.keras.layers.BatchNormalization(),\n",
    "    tf.keras.layers.Dropout(0.5),\n",
    "    tf.keras.layers.Dense(3, activation='linear')\n",
    "])"
   ]
  },
  {
   "cell_type": "code",
   "execution_count": 33,
   "metadata": {},
   "outputs": [
    {
     "name": "stdout",
     "output_type": "stream",
     "text": [
      "Model: \"sequential_1\"\n",
      "_________________________________________________________________\n",
      " Layer (type)                Output Shape              Param #   \n",
      "=================================================================\n",
      " conv2d_2 (Conv2D)           (None, 46, 46, 32)        320       \n",
      "                                                                 \n",
      " batch_normalization_3 (Bat  (None, 46, 46, 32)        128       \n",
      " chNormalization)                                                \n",
      "                                                                 \n",
      " max_pooling2d_2 (MaxPoolin  (None, 23, 23, 32)        0         \n",
      " g2D)                                                            \n",
      "                                                                 \n",
      " conv2d_3 (Conv2D)           (None, 21, 21, 64)        18496     \n",
      "                                                                 \n",
      " batch_normalization_4 (Bat  (None, 21, 21, 64)        256       \n",
      " chNormalization)                                                \n",
      "                                                                 \n",
      " max_pooling2d_3 (MaxPoolin  (None, 10, 10, 64)        0         \n",
      " g2D)                                                            \n",
      "                                                                 \n",
      " flatten_1 (Flatten)         (None, 6400)              0         \n",
      "                                                                 \n",
      " dense_2 (Dense)             (None, 128)               819328    \n",
      "                                                                 \n",
      " batch_normalization_5 (Bat  (None, 128)               512       \n",
      " chNormalization)                                                \n",
      "                                                                 \n",
      " dropout_1 (Dropout)         (None, 128)               0         \n",
      "                                                                 \n",
      " dense_3 (Dense)             (None, 3)                 387       \n",
      "                                                                 \n",
      "=================================================================\n",
      "Total params: 839427 (3.20 MB)\n",
      "Trainable params: 838979 (3.20 MB)\n",
      "Non-trainable params: 448 (1.75 KB)\n",
      "_________________________________________________________________\n"
     ]
    }
   ],
   "source": [
    "basemodel.summary()"
   ]
  },
  {
   "cell_type": "code",
   "execution_count": 34,
   "metadata": {},
   "outputs": [],
   "source": [
    "initial_learning_rate = 0.001  # You can adjust this value\n",
    "optimizer = tf.keras.optimizers.Adam(learning_rate=initial_learning_rate)\n",
    "basemodel.compile(optimizer=optimizer,\n",
    "                loss=tf.keras.losses.SparseCategoricalCrossentropy(from_logits=True),\n",
    "                metrics=['accuracy'])"
   ]
  },
  {
   "cell_type": "code",
   "execution_count": 35,
   "metadata": {},
   "outputs": [],
   "source": [
    "# def lr_schedule(epoch):\n",
    "#     if epoch < 20:\n",
    "#         return initial_learning_rate\n",
    "#     else:\n",
    "#         return initial_learning_rate * 0.1\n",
    "\n",
    "reduce_lr = ReduceLROnPlateau(\n",
    "    monitor='val_loss',  # Monitor validation loss\n",
    "    factor=0.5,          # Reduce the learning rate by a factor of 0.5\n",
    "    patience=5,          # If no improvement after 5 epochs, reduce the learning rate\n",
    "    min_lr=1e-6          # Minimum learning rate\n",
    ")"
   ]
  },
  {
   "cell_type": "code",
   "execution_count": 36,
   "metadata": {},
   "outputs": [],
   "source": [
    "file_name = 'best_model_with_reducelronplateau.h5'\n",
    "checkpoint_path= os.path.join('checkpoint',file_name)\n",
    "\n",
    "\n",
    "call_back = [\n",
    "    tf.keras.callbacks.ModelCheckpoint(filepath=checkpoint_path,\n",
    "                                        monitor='val_accuracy',\n",
    "                                        verbose=1,\n",
    "                                        save_freq='epoch',\n",
    "                                        save_best_only=True,\n",
    "                                        save_weights_only=False,\n",
    "                                        mode='max'),\n",
    "    tf.keras.callbacks.EarlyStopping(\n",
    "        monitor='val_accuracy',\n",
    "        patience=20,\n",
    "        restore_best_weights=True\n",
    "    ),\n",
    "    # tf.keras.callbacks.LearningRateScheduler(lr_schedule)\n",
    "    reduce_lr\n",
    "]"
   ]
  },
  {
   "cell_type": "code",
   "execution_count": 37,
   "metadata": {},
   "outputs": [
    {
     "name": "stdout",
     "output_type": "stream",
     "text": [
      "Epoch 1/50\n",
      "92/92 [==============================] - ETA: 0s - loss: 1.0465 - accuracy: 0.5829\n",
      "Epoch 1: val_accuracy improved from -inf to 0.60326, saving model to checkpoint\\best_model_with_reducelronplateau.h5\n",
      "92/92 [==============================] - 4s 30ms/step - loss: 1.0465 - accuracy: 0.5829 - val_loss: 4.5043 - val_accuracy: 0.6033 - lr: 0.0010\n",
      "Epoch 2/50\n",
      " 6/92 [>.............................] - ETA: 2s - loss: 0.5024 - accuracy: 0.7708"
     ]
    },
    {
     "name": "stderr",
     "output_type": "stream",
     "text": [
      "C:\\Users\\vince\\AppData\\Local\\Packages\\PythonSoftwareFoundation.Python.3.10_qbz5n2kfra8p0\\LocalCache\\local-packages\\Python310\\site-packages\\keras\\src\\engine\\training.py:3079: UserWarning: You are saving your model as an HDF5 file via `model.save()`. This file format is considered legacy. We recommend using instead the native Keras format, e.g. `model.save('my_model.keras')`.\n",
      "  saving_api.save_model(\n"
     ]
    },
    {
     "name": "stdout",
     "output_type": "stream",
     "text": [
      "90/92 [============================>.] - ETA: 0s - loss: 0.4731 - accuracy: 0.8278\n",
      "Epoch 2: val_accuracy did not improve from 0.60326\n",
      "92/92 [==============================] - 2s 26ms/step - loss: 0.4710 - accuracy: 0.8288 - val_loss: 10.7713 - val_accuracy: 0.6033 - lr: 0.0010\n",
      "Epoch 3/50\n",
      "91/92 [============================>.] - ETA: 0s - loss: 0.2670 - accuracy: 0.9052\n",
      "Epoch 3: val_accuracy did not improve from 0.60326\n",
      "92/92 [==============================] - 2s 25ms/step - loss: 0.2652 - accuracy: 0.9062 - val_loss: 3.5242 - val_accuracy: 0.6033 - lr: 0.0010\n",
      "Epoch 4/50\n",
      "90/92 [============================>.] - ETA: 0s - loss: 0.1662 - accuracy: 0.9514\n",
      "Epoch 4: val_accuracy did not improve from 0.60326\n",
      "92/92 [==============================] - 2s 26ms/step - loss: 0.1641 - accuracy: 0.9524 - val_loss: 2.7307 - val_accuracy: 0.6033 - lr: 0.0010\n",
      "Epoch 5/50\n",
      "90/92 [============================>.] - ETA: 0s - loss: 0.1358 - accuracy: 0.9583\n",
      "Epoch 5: val_accuracy improved from 0.60326 to 0.60870, saving model to checkpoint\\best_model_with_reducelronplateau.h5\n",
      "92/92 [==============================] - 2s 26ms/step - loss: 0.1349 - accuracy: 0.9592 - val_loss: 1.9998 - val_accuracy: 0.6087 - lr: 0.0010\n",
      "Epoch 6/50\n",
      "91/92 [============================>.] - ETA: 0s - loss: 0.1067 - accuracy: 0.9725\n",
      "Epoch 6: val_accuracy improved from 0.60870 to 0.80978, saving model to checkpoint\\best_model_with_reducelronplateau.h5\n",
      "92/92 [==============================] - 2s 26ms/step - loss: 0.1078 - accuracy: 0.9715 - val_loss: 0.5500 - val_accuracy: 0.8098 - lr: 0.0010\n",
      "Epoch 7/50\n",
      "90/92 [============================>.] - ETA: 0s - loss: 0.0766 - accuracy: 0.9833\n",
      "Epoch 7: val_accuracy did not improve from 0.80978\n",
      "92/92 [==============================] - 2s 26ms/step - loss: 0.0753 - accuracy: 0.9837 - val_loss: 0.6636 - val_accuracy: 0.7880 - lr: 0.0010\n",
      "Epoch 8/50\n",
      "90/92 [============================>.] - ETA: 0s - loss: 0.1131 - accuracy: 0.9611\n",
      "Epoch 8: val_accuracy did not improve from 0.80978\n",
      "92/92 [==============================] - 2s 26ms/step - loss: 0.1150 - accuracy: 0.9606 - val_loss: 0.5491 - val_accuracy: 0.7989 - lr: 0.0010\n",
      "Epoch 9/50\n",
      "91/92 [============================>.] - ETA: 0s - loss: 0.0788 - accuracy: 0.9835\n",
      "Epoch 9: val_accuracy did not improve from 0.80978\n",
      "92/92 [==============================] - 2s 25ms/step - loss: 0.0783 - accuracy: 0.9837 - val_loss: 0.6391 - val_accuracy: 0.7772 - lr: 0.0010\n",
      "Epoch 10/50\n",
      "92/92 [==============================] - ETA: 0s - loss: 0.0818 - accuracy: 0.9688\n",
      "Epoch 10: val_accuracy did not improve from 0.80978\n",
      "92/92 [==============================] - 2s 26ms/step - loss: 0.0818 - accuracy: 0.9688 - val_loss: 1.0054 - val_accuracy: 0.6848 - lr: 0.0010\n",
      "Epoch 11/50\n",
      "90/92 [============================>.] - ETA: 0s - loss: 0.0871 - accuracy: 0.9722\n",
      "Epoch 11: val_accuracy did not improve from 0.80978\n",
      "92/92 [==============================] - 2s 26ms/step - loss: 0.0882 - accuracy: 0.9715 - val_loss: 0.5783 - val_accuracy: 0.7880 - lr: 0.0010\n",
      "Epoch 12/50\n",
      "92/92 [==============================] - ETA: 0s - loss: 0.0785 - accuracy: 0.9755\n",
      "Epoch 12: val_accuracy improved from 0.80978 to 0.82065, saving model to checkpoint\\best_model_with_reducelronplateau.h5\n",
      "92/92 [==============================] - 2s 26ms/step - loss: 0.0785 - accuracy: 0.9755 - val_loss: 0.5754 - val_accuracy: 0.8207 - lr: 0.0010\n",
      "Epoch 13/50\n",
      "92/92 [==============================] - ETA: 0s - loss: 0.0865 - accuracy: 0.9674\n",
      "Epoch 13: val_accuracy improved from 0.82065 to 0.83152, saving model to checkpoint\\best_model_with_reducelronplateau.h5\n",
      "92/92 [==============================] - 2s 26ms/step - loss: 0.0865 - accuracy: 0.9674 - val_loss: 0.4955 - val_accuracy: 0.8315 - lr: 0.0010\n",
      "Epoch 14/50\n",
      "91/92 [============================>.] - ETA: 0s - loss: 0.1022 - accuracy: 0.9588\n",
      "Epoch 14: val_accuracy did not improve from 0.83152\n",
      "92/92 [==============================] - 2s 26ms/step - loss: 0.1013 - accuracy: 0.9592 - val_loss: 0.8490 - val_accuracy: 0.7500 - lr: 0.0010\n",
      "Epoch 15/50\n",
      "90/92 [============================>.] - ETA: 0s - loss: 0.1231 - accuracy: 0.9569\n",
      "Epoch 15: val_accuracy improved from 0.83152 to 0.85326, saving model to checkpoint\\best_model_with_reducelronplateau.h5\n",
      "92/92 [==============================] - 2s 26ms/step - loss: 0.1233 - accuracy: 0.9565 - val_loss: 0.4613 - val_accuracy: 0.8533 - lr: 0.0010\n",
      "Epoch 16/50\n",
      "90/92 [============================>.] - ETA: 0s - loss: 0.1308 - accuracy: 0.9514\n",
      "Epoch 16: val_accuracy did not improve from 0.85326\n",
      "92/92 [==============================] - 2s 25ms/step - loss: 0.1323 - accuracy: 0.9511 - val_loss: 0.7212 - val_accuracy: 0.7554 - lr: 0.0010\n",
      "Epoch 17/50\n",
      "92/92 [==============================] - ETA: 0s - loss: 0.1016 - accuracy: 0.9783\n",
      "Epoch 17: val_accuracy did not improve from 0.85326\n",
      "92/92 [==============================] - 2s 26ms/step - loss: 0.1016 - accuracy: 0.9783 - val_loss: 0.6789 - val_accuracy: 0.8098 - lr: 0.0010\n",
      "Epoch 18/50\n",
      "92/92 [==============================] - ETA: 0s - loss: 0.0947 - accuracy: 0.9633\n",
      "Epoch 18: val_accuracy did not improve from 0.85326\n",
      "92/92 [==============================] - 3s 28ms/step - loss: 0.0947 - accuracy: 0.9633 - val_loss: 0.7447 - val_accuracy: 0.7717 - lr: 0.0010\n",
      "Epoch 19/50\n",
      "91/92 [============================>.] - ETA: 0s - loss: 0.0617 - accuracy: 0.9821\n",
      "Epoch 19: val_accuracy did not improve from 0.85326\n",
      "92/92 [==============================] - 3s 28ms/step - loss: 0.0611 - accuracy: 0.9823 - val_loss: 0.5174 - val_accuracy: 0.8370 - lr: 0.0010\n",
      "Epoch 20/50\n",
      "92/92 [==============================] - ETA: 0s - loss: 0.0775 - accuracy: 0.9742\n",
      "Epoch 20: val_accuracy did not improve from 0.85326\n",
      "92/92 [==============================] - 3s 27ms/step - loss: 0.0775 - accuracy: 0.9742 - val_loss: 0.8283 - val_accuracy: 0.7880 - lr: 0.0010\n",
      "Epoch 21/50\n",
      "92/92 [==============================] - ETA: 0s - loss: 0.0698 - accuracy: 0.9742\n",
      "Epoch 21: val_accuracy did not improve from 0.85326\n",
      "92/92 [==============================] - 2s 26ms/step - loss: 0.0698 - accuracy: 0.9742 - val_loss: 0.6607 - val_accuracy: 0.7880 - lr: 5.0000e-04\n",
      "Epoch 22/50\n",
      "91/92 [============================>.] - ETA: 0s - loss: 0.0586 - accuracy: 0.9835\n",
      "Epoch 22: val_accuracy did not improve from 0.85326\n",
      "92/92 [==============================] - 2s 25ms/step - loss: 0.0590 - accuracy: 0.9837 - val_loss: 0.6090 - val_accuracy: 0.8098 - lr: 5.0000e-04\n",
      "Epoch 23/50\n",
      "92/92 [==============================] - ETA: 0s - loss: 0.0375 - accuracy: 0.9878\n",
      "Epoch 23: val_accuracy did not improve from 0.85326\n",
      "92/92 [==============================] - 2s 25ms/step - loss: 0.0375 - accuracy: 0.9878 - val_loss: 0.5964 - val_accuracy: 0.8152 - lr: 5.0000e-04\n",
      "Epoch 24/50\n",
      "90/92 [============================>.] - ETA: 0s - loss: 0.0315 - accuracy: 0.9944\n",
      "Epoch 24: val_accuracy did not improve from 0.85326\n",
      "92/92 [==============================] - 2s 26ms/step - loss: 0.0310 - accuracy: 0.9946 - val_loss: 0.6570 - val_accuracy: 0.7935 - lr: 5.0000e-04\n",
      "Epoch 25/50\n",
      "90/92 [============================>.] - ETA: 0s - loss: 0.0221 - accuracy: 0.9944\n",
      "Epoch 25: val_accuracy did not improve from 0.85326\n",
      "92/92 [==============================] - 2s 25ms/step - loss: 0.0219 - accuracy: 0.9946 - val_loss: 0.6686 - val_accuracy: 0.8098 - lr: 5.0000e-04\n",
      "Epoch 26/50\n",
      "92/92 [==============================] - ETA: 0s - loss: 0.0324 - accuracy: 0.9878\n",
      "Epoch 26: val_accuracy did not improve from 0.85326\n",
      "92/92 [==============================] - 2s 25ms/step - loss: 0.0324 - accuracy: 0.9878 - val_loss: 0.7650 - val_accuracy: 0.8043 - lr: 2.5000e-04\n",
      "Epoch 27/50\n",
      "91/92 [============================>.] - ETA: 0s - loss: 0.0328 - accuracy: 0.9931\n",
      "Epoch 27: val_accuracy did not improve from 0.85326\n",
      "92/92 [==============================] - 2s 26ms/step - loss: 0.0325 - accuracy: 0.9932 - val_loss: 0.6983 - val_accuracy: 0.8043 - lr: 2.5000e-04\n",
      "Epoch 28/50\n",
      "91/92 [============================>.] - ETA: 0s - loss: 0.0330 - accuracy: 0.9890\n",
      "Epoch 28: val_accuracy did not improve from 0.85326\n",
      "92/92 [==============================] - 2s 25ms/step - loss: 0.0329 - accuracy: 0.9891 - val_loss: 0.6902 - val_accuracy: 0.8043 - lr: 2.5000e-04\n",
      "Epoch 29/50\n",
      "91/92 [============================>.] - ETA: 0s - loss: 0.0416 - accuracy: 0.9821\n",
      "Epoch 29: val_accuracy did not improve from 0.85326\n",
      "92/92 [==============================] - 2s 25ms/step - loss: 0.0412 - accuracy: 0.9823 - val_loss: 0.6699 - val_accuracy: 0.8043 - lr: 2.5000e-04\n",
      "Epoch 30/50\n",
      "90/92 [============================>.] - ETA: 0s - loss: 0.0189 - accuracy: 0.9986\n",
      "Epoch 30: val_accuracy did not improve from 0.85326\n",
      "92/92 [==============================] - 2s 25ms/step - loss: 0.0200 - accuracy: 0.9973 - val_loss: 0.6804 - val_accuracy: 0.8098 - lr: 2.5000e-04\n",
      "Epoch 31/50\n",
      "90/92 [============================>.] - ETA: 0s - loss: 0.0219 - accuracy: 0.9958\n",
      "Epoch 31: val_accuracy did not improve from 0.85326\n",
      "92/92 [==============================] - 2s 25ms/step - loss: 0.0228 - accuracy: 0.9959 - val_loss: 0.6405 - val_accuracy: 0.8043 - lr: 1.2500e-04\n",
      "Epoch 32/50\n",
      "92/92 [==============================] - ETA: 0s - loss: 0.0185 - accuracy: 0.9959\n",
      "Epoch 32: val_accuracy did not improve from 0.85326\n",
      "92/92 [==============================] - 2s 25ms/step - loss: 0.0185 - accuracy: 0.9959 - val_loss: 0.6397 - val_accuracy: 0.8098 - lr: 1.2500e-04\n",
      "Epoch 33/50\n",
      "92/92 [==============================] - ETA: 0s - loss: 0.0401 - accuracy: 0.9878\n",
      "Epoch 33: val_accuracy did not improve from 0.85326\n",
      "92/92 [==============================] - 2s 26ms/step - loss: 0.0401 - accuracy: 0.9878 - val_loss: 0.6115 - val_accuracy: 0.8315 - lr: 1.2500e-04\n",
      "Epoch 34/50\n",
      "90/92 [============================>.] - ETA: 0s - loss: 0.0397 - accuracy: 0.9917\n",
      "Epoch 34: val_accuracy did not improve from 0.85326\n",
      "92/92 [==============================] - 2s 25ms/step - loss: 0.0395 - accuracy: 0.9918 - val_loss: 0.6264 - val_accuracy: 0.8152 - lr: 1.2500e-04\n",
      "Epoch 35/50\n",
      "91/92 [============================>.] - ETA: 0s - loss: 0.0264 - accuracy: 0.9904\n",
      "Epoch 35: val_accuracy did not improve from 0.85326\n",
      "92/92 [==============================] - 2s 26ms/step - loss: 0.0262 - accuracy: 0.9905 - val_loss: 0.7012 - val_accuracy: 0.7935 - lr: 1.2500e-04\n"
     ]
    }
   ],
   "source": [
    "history = basemodel.fit(X_train_lbp_normalized, y_train_updated,\n",
    "                        epochs=50,\n",
    "                        batch_size=8,\n",
    "                        validation_data=(X_test_lbp_normalized, y_test_updated),\n",
    "                        callbacks=call_back)"
   ]
  },
  {
   "cell_type": "code",
   "execution_count": 38,
   "metadata": {},
   "outputs": [
    {
     "data": {
      "text/plain": [
       "<matplotlib.legend.Legend at 0x267cd6cda50>"
      ]
     },
     "execution_count": 38,
     "metadata": {},
     "output_type": "execute_result"
    },
    {
     "data": {
      "image/png": "[encoded data removed]",
      "text/plain": [
       "<Figure size 640x480 with 1 Axes>"
      ]
     },
     "metadata": {},
     "output_type": "display_data"
    }
   ],
   "source": [
    "# Plot loss per iteration\n",
    "import matplotlib.pyplot as plt\n",
    "plt.plot(history.history['loss'], label='loss')\n",
    "plt.plot(history.history['val_loss'], label='val_loss')\n",
    "plt.legend()"
   ]
  },
  {
   "cell_type": "code",
   "execution_count": 39,
   "metadata": {},
   "outputs": [
    {
     "data": {
      "text/plain": [
       "<matplotlib.legend.Legend at 0x267d22baec0>"
      ]
     },
     "execution_count": 39,
     "metadata": {},
     "output_type": "execute_result"
    },
    {
     "data": {
      "image/png": "[encoded data removed]",
      "text/plain": [
       "<Figure size 640x480 with 1 Axes>"
      ]
     },
     "metadata": {},
     "output_type": "display_data"
    }
   ],
   "source": [
    "# Plot accuracy per iteration\n",
    "plt.plot(history.history['accuracy'], label='acc')\n",
    "plt.plot(history.history['val_accuracy'], label='val_acc')\n",
    "plt.legend()"
   ]
  },
  {
   "cell_type": "code",
   "execution_count": 40,
   "metadata": {},
   "outputs": [
    {
     "name": "stdout",
     "output_type": "stream",
     "text": [
      "6/6 [==============================] - 0s 14ms/step\n",
      "Confusion matrix, without normalization\n",
      "[[ 3  3  1  0  0  0  0  0]\n",
      " [ 7  2  1  0  0  0  0  0]\n",
      " [ 2  1  0  0  0  0  0  0]\n",
      " [ 9  5  2  0  0  0  0  0]\n",
      " [ 1  2  3  0  0  0  0  0]\n",
      " [15  4  7  0  0  0  0  0]\n",
      " [63 33 15  0  0  0  0  0]\n",
      " [ 2  2  1  0  0  0  0  0]]\n"
     ]
    },
    {
     "data": {
      "image/png": "[encoded data removed]",
      "text/plain": [
       "<Figure size 640x480 with 2 Axes>"
      ]
     },
     "metadata": {},
     "output_type": "display_data"
    }
   ],
   "source": [
    "# Plot confusion matrix\n",
    "from sklearn.metrics import confusion_matrix\n",
    "import itertools\n",
    "\n",
    "def plot_confusion_matrix(cm, classes,\n",
    "                          normalize=False,\n",
    "                          title='Confusion matrix',\n",
    "                          cmap=plt.cm.Blues):\n",
    "  \"\"\"\n",
    "  This function prints and plots the confusion matrix.\n",
    "  Normalization can be applied by setting `normalize=True`.\n",
    "  \"\"\"\n",
    "  if normalize:\n",
    "      cm = cm.astype('float') / cm.sum(axis=1)[:, np.newaxis]\n",
    "      print(\"Normalized confusion matrix\")\n",
    "  else:\n",
    "      print('Confusion matrix, without normalization')\n",
    "\n",
    "  print(cm)\n",
    "\n",
    "  plt.imshow(cm, interpolation='nearest', cmap=cmap)\n",
    "  plt.title(title)\n",
    "  plt.colorbar()\n",
    "  tick_marks = np.arange(len(classes))\n",
    "  plt.xticks(tick_marks, classes, rotation=45)\n",
    "  plt.yticks(tick_marks, classes)\n",
    "\n",
    "  fmt = '.2f' if normalize else 'd'\n",
    "  thresh = cm.max() / 2.\n",
    "  for i, j in itertools.product(range(cm.shape[0]), range(cm.shape[1])):\n",
    "      plt.text(j, i, format(cm[i, j], fmt),\n",
    "               horizontalalignment=\"center\",\n",
    "               color=\"white\" if cm[i, j] > thresh else \"black\")\n",
    "\n",
    "  plt.tight_layout()\n",
    "  plt.ylabel('True label')\n",
    "  plt.xlabel('Predicted label')\n",
    "  plt.show()\n",
    "\n",
    "\n",
    "p_test = basemodel.predict(X_test).argmax(axis=1)\n",
    "cm = confusion_matrix(y_test, p_test)\n",
    "plot_confusion_matrix(cm, list(range(3)))"
   ]
  },
  {
   "cell_type": "code",
   "execution_count": 41,
   "metadata": {},
   "outputs": [
    {
     "data": {
      "text/plain": [
       "'checkpoint\\\\best_model_with_reducelronplateau.h5'"
      ]
     },
     "execution_count": 41,
     "metadata": {},
     "output_type": "execute_result"
    }
   ],
   "source": [
    "checkpoint_path"
   ]
  },
  {
   "cell_type": "code",
   "execution_count": 42,
   "metadata": {},
   "outputs": [],
   "source": [
    "# final_model = tf.keras.models.load_model(checkpoint_path)\n",
    "# from IPython.display import clear_output\n",
    "# import time\n",
    "\n",
    "# for k in range(40):\n",
    "#         print(f'actual label is {label_to_text[y_test[k]]}')\n",
    "#         predicted_class = final_model.predict(tf.expand_dims(X_test[k],0)).argmax()\n",
    "#         print(f'predicted label is {label_to_text[predicted_class]}')\n",
    "#         pyplot.imshow(X_test[k].reshape((48,48)))\n",
    "#         pyplot.show()\n",
    "#         time.sleep(3)\n",
    "#         clear_output(wait=True)"
   ]
  }
 ],
 "metadata": {
  "kernelspec": {
   "display_name": "Python 3",
   "language": "python",
   "name": "python3"
  },
  "language_info": {
   "codemirror_mode": {
    "name": "ipython",
    "version": 3
   },
   "file_extension": ".py",
   "mimetype": "text/x-python",
   "name": "python",
   "nbconvert_exporter": "python",
   "pygments_lexer": "ipython3",
   "version": "3.10.11"
  },
  "orig_nbformat": 4
 },
 "nbformat": 4,
 "nbformat_minor": 2
}
