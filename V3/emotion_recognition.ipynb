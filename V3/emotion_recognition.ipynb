{
 "cells": [
  {
   "cell_type": "code",
   "execution_count": 1,
   "metadata": {},
   "outputs": [],
   "source": [
    "import os\n",
    "import pandas as pd\n",
    "import numpy as np\n",
    "import tensorflow as tf\n",
    "from matplotlib import pyplot\n",
    "from sklearn.model_selection import train_test_split\n",
    "from tensorflow.keras.preprocessing.image import ImageDataGenerator"
   ]
  },
  {
   "cell_type": "code",
   "execution_count": 2,
   "metadata": {},
   "outputs": [
    {
     "data": {
      "text/html": [
       "<div>\n",
       "<style scoped>\n",
       "    .dataframe tbody tr th:only-of-type {\n",
       "        vertical-align: middle;\n",
       "    }\n",
       "\n",
       "    .dataframe tbody tr th {\n",
       "        vertical-align: top;\n",
       "    }\n",
       "\n",
       "    .dataframe thead th {\n",
       "        text-align: right;\n",
       "    }\n",
       "</style>\n",
       "<table border=\"1\" class=\"dataframe\">\n",
       "  <thead>\n",
       "    <tr style=\"text-align: right;\">\n",
       "      <th></th>\n",
       "      <th>emotion</th>\n",
       "      <th>pixels</th>\n",
       "      <th>Usage</th>\n",
       "    </tr>\n",
       "  </thead>\n",
       "  <tbody>\n",
       "    <tr>\n",
       "      <th>0</th>\n",
       "      <td>6</td>\n",
       "      <td>36 39 35 25 19 11 8 7 3 13 15 9 21 57 75 90 10...</td>\n",
       "      <td>Training</td>\n",
       "    </tr>\n",
       "    <tr>\n",
       "      <th>1</th>\n",
       "      <td>6</td>\n",
       "      <td>88 74 19 4 5 5 3 12 8 21 15 21 15 18 24 29 32 ...</td>\n",
       "      <td>Training</td>\n",
       "    </tr>\n",
       "    <tr>\n",
       "      <th>2</th>\n",
       "      <td>6</td>\n",
       "      <td>9 2 4 7 1 1 1 0 7 29 49 76 115 141 156 169 177...</td>\n",
       "      <td>Training</td>\n",
       "    </tr>\n",
       "    <tr>\n",
       "      <th>3</th>\n",
       "      <td>6</td>\n",
       "      <td>104 106 108 104 95 50 60 61 58 83 126 133 139 ...</td>\n",
       "      <td>Training</td>\n",
       "    </tr>\n",
       "    <tr>\n",
       "      <th>4</th>\n",
       "      <td>6</td>\n",
       "      <td>68 72 67 67 6 2 1 1 1 1 1 14 24 24 38 65 79 94...</td>\n",
       "      <td>Training</td>\n",
       "    </tr>\n",
       "  </tbody>\n",
       "</table>\n",
       "</div>"
      ],
      "text/plain": [
       "   emotion                                             pixels     Usage\n",
       "0        6  36 39 35 25 19 11 8 7 3 13 15 9 21 57 75 90 10...  Training\n",
       "1        6  88 74 19 4 5 5 3 12 8 21 15 21 15 18 24 29 32 ...  Training\n",
       "2        6  9 2 4 7 1 1 1 0 7 29 49 76 115 141 156 169 177...  Training\n",
       "3        6  104 106 108 104 95 50 60 61 58 83 126 133 139 ...  Training\n",
       "4        6  68 72 67 67 6 2 1 1 1 1 1 14 24 24 38 65 79 94...  Training"
      ]
     },
     "execution_count": 2,
     "metadata": {},
     "output_type": "execute_result"
    }
   ],
   "source": [
    "df = pd.read_csv('C:/Kecilin/emotion_detection/V3/ckextended.csv')\n",
    "df.head()"
   ]
  },
  {
   "cell_type": "code",
   "execution_count": 3,
   "metadata": {},
   "outputs": [],
   "source": [
    "label_to_text = {0:'Anger', 1:'Disgust', 2:'Fear', 3:'Happiness', 4: 'Sadness', 5: 'Surprise', 6: 'Neutral', 7: 'Contempt'} "
   ]
  },
  {
   "cell_type": "code",
   "execution_count": 4,
   "metadata": {},
   "outputs": [],
   "source": [
    "img_array = df.pixels.apply(lambda x: np.array(x.split(\" \")).reshape(48,48,1).astype('float32'))\n",
    "img_array = np.stack(img_array, axis=0)\n",
    "labels = df.emotion.values"
   ]
  },
  {
   "cell_type": "code",
   "execution_count": 5,
   "metadata": {},
   "outputs": [
    {
     "data": {
      "text/plain": [
       "(920, 48, 48, 1)"
      ]
     },
     "execution_count": 5,
     "metadata": {},
     "output_type": "execute_result"
    }
   ],
   "source": [
    "img_array.shape"
   ]
  },
  {
   "cell_type": "code",
   "execution_count": 6,
   "metadata": {},
   "outputs": [],
   "source": [
    "X_train, X_test, y_train, y_test = train_test_split(img_array, labels, test_size= .2)"
   ]
  },
  {
   "cell_type": "code",
   "execution_count": 7,
   "metadata": {},
   "outputs": [
    {
     "data": {
      "text/plain": [
       "6"
      ]
     },
     "execution_count": 7,
     "metadata": {},
     "output_type": "execute_result"
    }
   ],
   "source": [
    "y_train[0]"
   ]
  },
  {
   "cell_type": "code",
   "execution_count": 8,
   "metadata": {},
   "outputs": [],
   "source": [
    "X_train = X_train/255\n",
    "X_test = X_test/255"
   ]
  },
  {
   "cell_type": "code",
   "execution_count": 9,
   "metadata": {},
   "outputs": [],
   "source": [
    "# # Create data generators for training and validation sets\n",
    "# train_datagen = ImageDataGenerator(\n",
    "#     rotation_range=15,\n",
    "#     width_shift_range=0.1,\n",
    "#     height_shift_range=0.1,\n",
    "#     shear_range=0.2,\n",
    "#     zoom_range=0.2,\n",
    "#     horizontal_flip=True,\n",
    "# )\n",
    "\n",
    "# validation_datagen = ImageDataGenerator()  # No augmentation for validation data\n",
    "\n",
    "# # Generate augmented data for training set\n",
    "# train_generator = train_datagen.flow(X_train, y_train, batch_size=32)"
   ]
  },
  {
   "cell_type": "code",
   "execution_count": 35,
   "metadata": {},
   "outputs": [],
   "source": [
    "# basemodel = tf.keras.models.Sequential([\n",
    "#     tf.keras.layers.Conv2D(6, (3, 3), activation='relu', input_shape=(48, 48, 1)),\n",
    "#     tf.keras.layers.MaxPool2D(2, 2),\n",
    "#     tf.keras.layers.Conv2D(6, (3, 3), activation='relu'),\n",
    "#     tf.keras.layers.MaxPool2D(2, 2),\n",
    "#     tf.keras.layers.Conv2D(64, (3, 3), activation='relu'),\n",
    "#     tf.keras.layers.MaxPool2D(2, 2),\n",
    "#     tf.keras.layers.Conv2D(64, (3, 3), activation='relu'),\n",
    "#     tf.keras.layers.MaxPool2D(2, 2),\n",
    "#     tf.keras.layers.Conv2D(64, (3, 3), activation='relu'),\n",
    "#     tf.keras.layers.MaxPool2D(2, 2),\n",
    "#     tf.keras.layers.Flatten(),\n",
    "#     tf.keras.layers.Dense(128, activation='relu'),\n",
    "#     tf.keras.layers.Dropout(0.5),\n",
    "#     tf.keras.layers.Dense(7, activation='softmax')\n",
    "# ])\n",
    "\n",
    "basemodel = tf.keras.models.Sequential([\n",
    "    tf.keras.layers.Conv2D(32, (3, 3), activation='relu', input_shape=(48, 48, 1)),\n",
    "    tf.keras.layers.MaxPool2D(2, 2),\n",
    "    tf.keras.layers.Conv2D(64, (3, 3), activation='relu'),\n",
    "    tf.keras.layers.MaxPool2D(2, 2),\n",
    "    tf.keras.layers.Flatten(),\n",
    "    tf.keras.layers.Dense(128, activation='relu'),\n",
    "    tf.keras.layers.Dropout(0.5),\n",
    "    tf.keras.layers.Dense(8, activation='softmax')\n",
    "])"
   ]
  },
  {
   "cell_type": "code",
   "execution_count": 36,
   "metadata": {},
   "outputs": [
    {
     "name": "stdout",
     "output_type": "stream",
     "text": [
      "Model: \"sequential_4\"\n",
      "_________________________________________________________________\n",
      " Layer (type)                Output Shape              Param #   \n",
      "=================================================================\n",
      " conv2d_14 (Conv2D)          (None, 46, 46, 32)        320       \n",
      "                                                                 \n",
      " max_pooling2d_14 (MaxPooli  (None, 23, 23, 32)        0         \n",
      " ng2D)                                                           \n",
      "                                                                 \n",
      " conv2d_15 (Conv2D)          (None, 21, 21, 64)        18496     \n",
      "                                                                 \n",
      " max_pooling2d_15 (MaxPooli  (None, 10, 10, 64)        0         \n",
      " ng2D)                                                           \n",
      "                                                                 \n",
      " flatten_4 (Flatten)         (None, 6400)              0         \n",
      "                                                                 \n",
      " dense_8 (Dense)             (None, 128)               819328    \n",
      "                                                                 \n",
      " dropout_4 (Dropout)         (None, 128)               0         \n",
      "                                                                 \n",
      " dense_9 (Dense)             (None, 8)                 1032      \n",
      "                                                                 \n",
      "=================================================================\n",
      "Total params: 839176 (3.20 MB)\n",
      "Trainable params: 839176 (3.20 MB)\n",
      "Non-trainable params: 0 (0.00 Byte)\n",
      "_________________________________________________________________\n"
     ]
    }
   ],
   "source": [
    "basemodel.summary()"
   ]
  },
  {
   "cell_type": "code",
   "execution_count": 37,
   "metadata": {},
   "outputs": [],
   "source": [
    "initial_learning_rate = 0.001  # You can adjust this value\n",
    "optimizer = tf.keras.optimizers.Adam(learning_rate=initial_learning_rate)\n",
    "basemodel.compile(optimizer=optimizer,\n",
    "                loss='sparse_categorical_crossentropy',\n",
    "                metrics=['accuracy'])"
   ]
  },
  {
   "cell_type": "code",
   "execution_count": 38,
   "metadata": {},
   "outputs": [],
   "source": [
    "def lr_schedule(epoch):\n",
    "    if epoch < 20:\n",
    "        return initial_learning_rate\n",
    "    else:\n",
    "        return initial_learning_rate * 0.1"
   ]
  },
  {
   "cell_type": "code",
   "execution_count": 39,
   "metadata": {},
   "outputs": [],
   "source": [
    "# # Define early stopping\n",
    "# early_stopping = tf.keras.callbacks.EarlyStopping(\n",
    "#     monitor='val_accuracy',\n",
    "#     patience=10,\n",
    "#     restore_best_weights=True\n",
    "# )"
   ]
  },
  {
   "cell_type": "code",
   "execution_count": 40,
   "metadata": {},
   "outputs": [],
   "source": [
    "file_name = 'best_model.h5'\n",
    "checkpoint_path= os.path.join('checkpoint',file_name)\n",
    "\n",
    "\n",
    "call_back = [\n",
    "    tf.keras.callbacks.ModelCheckpoint(filepath=checkpoint_path,\n",
    "                                        monitor='val_accuracy',\n",
    "                                        verbose=1,\n",
    "                                        save_freq='epoch',\n",
    "                                        save_best_only=True,\n",
    "                                        save_weights_only=False,\n",
    "                                        mode='max'),\n",
    "    tf.keras.callbacks.EarlyStopping(\n",
    "        monitor='val_accuracy',\n",
    "        patience=20,\n",
    "        restore_best_weights=True\n",
    "    ),\n",
    "    tf.keras.callbacks.LearningRateScheduler(lr_schedule)\n",
    "]"
   ]
  },
  {
   "cell_type": "code",
   "execution_count": 41,
   "metadata": {},
   "outputs": [
    {
     "name": "stdout",
     "output_type": "stream",
     "text": [
      "Epoch 1/50\n",
      "91/92 [============================>.] - ETA: 0s - loss: 1.4514 - accuracy: 0.6442\n",
      "Epoch 1: val_accuracy improved from -inf to 0.60326, saving model to checkpoint\\best_model.h5\n",
      "92/92 [==============================] - 4s 25ms/step - loss: 1.4437 - accuracy: 0.6467 - val_loss: 1.3994 - val_accuracy: 0.6033 - lr: 0.0010\n",
      "Epoch 2/50\n",
      " 4/92 [>.............................] - ETA: 1s - loss: 1.1597 - accuracy: 0.6562"
     ]
    },
    {
     "name": "stderr",
     "output_type": "stream",
     "text": [
      "C:\\Users\\vince\\AppData\\Local\\Packages\\PythonSoftwareFoundation.Python.3.11_qbz5n2kfra8p0\\LocalCache\\local-packages\\Python311\\site-packages\\keras\\src\\engine\\training.py:3000: UserWarning: You are saving your model as an HDF5 file via `model.save()`. This file format is considered legacy. We recommend using instead the native Keras format, e.g. `model.save('my_model.keras')`.\n",
      "  saving_api.save_model(\n"
     ]
    },
    {
     "name": "stdout",
     "output_type": "stream",
     "text": [
      "91/92 [============================>.] - ETA: 0s - loss: 1.2034 - accuracy: 0.6580\n",
      "Epoch 2: val_accuracy improved from 0.60326 to 0.67935, saving model to checkpoint\\best_model.h5\n",
      "92/92 [==============================] - 2s 22ms/step - loss: 1.2041 - accuracy: 0.6576 - val_loss: 1.1188 - val_accuracy: 0.6793 - lr: 0.0010\n",
      "Epoch 3/50\n",
      "91/92 [============================>.] - ETA: 0s - loss: 0.9357 - accuracy: 0.7376\n",
      "Epoch 3: val_accuracy improved from 0.67935 to 0.71196, saving model to checkpoint\\best_model.h5\n",
      "92/92 [==============================] - 2s 20ms/step - loss: 0.9275 - accuracy: 0.7405 - val_loss: 1.0240 - val_accuracy: 0.7120 - lr: 0.0010\n",
      "Epoch 4/50\n",
      "90/92 [============================>.] - ETA: 0s - loss: 0.7710 - accuracy: 0.7778\n",
      "Epoch 4: val_accuracy improved from 0.71196 to 0.78261, saving model to checkpoint\\best_model.h5\n",
      "92/92 [==============================] - 2s 19ms/step - loss: 0.7654 - accuracy: 0.7799 - val_loss: 0.7790 - val_accuracy: 0.7826 - lr: 0.0010\n",
      "Epoch 5/50\n",
      "92/92 [==============================] - ETA: 0s - loss: 0.6156 - accuracy: 0.8166\n",
      "Epoch 5: val_accuracy improved from 0.78261 to 0.80978, saving model to checkpoint\\best_model.h5\n",
      "92/92 [==============================] - 2s 20ms/step - loss: 0.6156 - accuracy: 0.8166 - val_loss: 0.6942 - val_accuracy: 0.8098 - lr: 0.0010\n",
      "Epoch 6/50\n",
      "92/92 [==============================] - ETA: 0s - loss: 0.5358 - accuracy: 0.8465\n",
      "Epoch 6: val_accuracy did not improve from 0.80978\n",
      "92/92 [==============================] - 2s 20ms/step - loss: 0.5358 - accuracy: 0.8465 - val_loss: 0.6653 - val_accuracy: 0.8098 - lr: 0.0010\n",
      "Epoch 7/50\n",
      "92/92 [==============================] - ETA: 0s - loss: 0.4393 - accuracy: 0.8655\n",
      "Epoch 7: val_accuracy improved from 0.80978 to 0.83696, saving model to checkpoint\\best_model.h5\n",
      "92/92 [==============================] - 2s 19ms/step - loss: 0.4393 - accuracy: 0.8655 - val_loss: 0.5845 - val_accuracy: 0.8370 - lr: 0.0010\n",
      "Epoch 8/50\n",
      "91/92 [============================>.] - ETA: 0s - loss: 0.3913 - accuracy: 0.8777\n",
      "Epoch 8: val_accuracy improved from 0.83696 to 0.85326, saving model to checkpoint\\best_model.h5\n",
      "92/92 [==============================] - 2s 19ms/step - loss: 0.3944 - accuracy: 0.8777 - val_loss: 0.5669 - val_accuracy: 0.8533 - lr: 0.0010\n",
      "Epoch 9/50\n",
      "92/92 [==============================] - ETA: 0s - loss: 0.3218 - accuracy: 0.8995\n",
      "Epoch 9: val_accuracy did not improve from 0.85326\n",
      "92/92 [==============================] - 2s 19ms/step - loss: 0.3218 - accuracy: 0.8995 - val_loss: 0.5951 - val_accuracy: 0.8478 - lr: 0.0010\n",
      "Epoch 10/50\n",
      "92/92 [==============================] - ETA: 0s - loss: 0.3155 - accuracy: 0.8981\n",
      "Epoch 10: val_accuracy did not improve from 0.85326\n",
      "92/92 [==============================] - 2s 19ms/step - loss: 0.3155 - accuracy: 0.8981 - val_loss: 0.5299 - val_accuracy: 0.8424 - lr: 0.0010\n",
      "Epoch 11/50\n",
      "90/92 [============================>.] - ETA: 0s - loss: 0.2884 - accuracy: 0.9028\n",
      "Epoch 11: val_accuracy did not improve from 0.85326\n",
      "92/92 [==============================] - 2s 19ms/step - loss: 0.2911 - accuracy: 0.9022 - val_loss: 0.6045 - val_accuracy: 0.8370 - lr: 0.0010\n",
      "Epoch 12/50\n",
      "90/92 [============================>.] - ETA: 0s - loss: 0.2396 - accuracy: 0.9125\n",
      "Epoch 12: val_accuracy did not improve from 0.85326\n",
      "92/92 [==============================] - 2s 18ms/step - loss: 0.2464 - accuracy: 0.9090 - val_loss: 0.5191 - val_accuracy: 0.8478 - lr: 0.0010\n",
      "Epoch 13/50\n",
      "92/92 [==============================] - ETA: 0s - loss: 0.2270 - accuracy: 0.9280\n",
      "Epoch 13: val_accuracy improved from 0.85326 to 0.86413, saving model to checkpoint\\best_model.h5\n",
      "92/92 [==============================] - 2s 19ms/step - loss: 0.2270 - accuracy: 0.9280 - val_loss: 0.4552 - val_accuracy: 0.8641 - lr: 0.0010\n",
      "Epoch 14/50\n",
      "92/92 [==============================] - ETA: 0s - loss: 0.2355 - accuracy: 0.9198\n",
      "Epoch 14: val_accuracy improved from 0.86413 to 0.89674, saving model to checkpoint\\best_model.h5\n",
      "92/92 [==============================] - 2s 19ms/step - loss: 0.2355 - accuracy: 0.9198 - val_loss: 0.4070 - val_accuracy: 0.8967 - lr: 0.0010\n",
      "Epoch 15/50\n",
      "90/92 [============================>.] - ETA: 0s - loss: 0.1610 - accuracy: 0.9514\n",
      "Epoch 15: val_accuracy did not improve from 0.89674\n",
      "92/92 [==============================] - 2s 18ms/step - loss: 0.1673 - accuracy: 0.9497 - val_loss: 0.5521 - val_accuracy: 0.8750 - lr: 0.0010\n",
      "Epoch 16/50\n",
      "91/92 [============================>.] - ETA: 0s - loss: 0.1769 - accuracy: 0.9368\n",
      "Epoch 16: val_accuracy did not improve from 0.89674\n",
      "92/92 [==============================] - 2s 19ms/step - loss: 0.1771 - accuracy: 0.9361 - val_loss: 0.5236 - val_accuracy: 0.8696 - lr: 0.0010\n",
      "Epoch 17/50\n",
      "90/92 [============================>.] - ETA: 0s - loss: 0.1488 - accuracy: 0.9417\n",
      "Epoch 17: val_accuracy did not improve from 0.89674\n",
      "92/92 [==============================] - 2s 19ms/step - loss: 0.1488 - accuracy: 0.9416 - val_loss: 0.5104 - val_accuracy: 0.8696 - lr: 0.0010\n",
      "Epoch 18/50\n",
      "92/92 [==============================] - ETA: 0s - loss: 0.1316 - accuracy: 0.9484\n",
      "Epoch 18: val_accuracy improved from 0.89674 to 0.90761, saving model to checkpoint\\best_model.h5\n",
      "92/92 [==============================] - 2s 19ms/step - loss: 0.1316 - accuracy: 0.9484 - val_loss: 0.4205 - val_accuracy: 0.9076 - lr: 0.0010\n",
      "Epoch 19/50\n",
      "92/92 [==============================] - ETA: 0s - loss: 0.1141 - accuracy: 0.9701\n",
      "Epoch 19: val_accuracy did not improve from 0.90761\n",
      "92/92 [==============================] - 2s 18ms/step - loss: 0.1141 - accuracy: 0.9701 - val_loss: 0.3841 - val_accuracy: 0.8967 - lr: 0.0010\n",
      "Epoch 20/50\n",
      "92/92 [==============================] - ETA: 0s - loss: 0.1321 - accuracy: 0.9620\n",
      "Epoch 20: val_accuracy did not improve from 0.90761\n",
      "92/92 [==============================] - 2s 19ms/step - loss: 0.1321 - accuracy: 0.9620 - val_loss: 0.4379 - val_accuracy: 0.9022 - lr: 0.0010\n",
      "Epoch 21/50\n",
      "90/92 [============================>.] - ETA: 0s - loss: 0.0742 - accuracy: 0.9764\n",
      "Epoch 21: val_accuracy did not improve from 0.90761\n",
      "92/92 [==============================] - 2s 18ms/step - loss: 0.0787 - accuracy: 0.9755 - val_loss: 0.4947 - val_accuracy: 0.8859 - lr: 1.0000e-04\n",
      "Epoch 22/50\n",
      "90/92 [============================>.] - ETA: 0s - loss: 0.1017 - accuracy: 0.9694\n",
      "Epoch 22: val_accuracy did not improve from 0.90761\n",
      "92/92 [==============================] - 2s 18ms/step - loss: 0.1025 - accuracy: 0.9688 - val_loss: 0.5341 - val_accuracy: 0.8859 - lr: 1.0000e-04\n",
      "Epoch 23/50\n",
      "90/92 [============================>.] - ETA: 0s - loss: 0.0741 - accuracy: 0.9764\n",
      "Epoch 23: val_accuracy did not improve from 0.90761\n",
      "92/92 [==============================] - 2s 18ms/step - loss: 0.0728 - accuracy: 0.9769 - val_loss: 0.4908 - val_accuracy: 0.8913 - lr: 1.0000e-04\n",
      "Epoch 24/50\n",
      "91/92 [============================>.] - ETA: 0s - loss: 0.0619 - accuracy: 0.9808\n",
      "Epoch 24: val_accuracy did not improve from 0.90761\n",
      "92/92 [==============================] - 2s 18ms/step - loss: 0.0624 - accuracy: 0.9810 - val_loss: 0.5373 - val_accuracy: 0.8913 - lr: 1.0000e-04\n",
      "Epoch 25/50\n",
      "90/92 [============================>.] - ETA: 0s - loss: 0.0575 - accuracy: 0.9806\n",
      "Epoch 25: val_accuracy did not improve from 0.90761\n",
      "92/92 [==============================] - 2s 19ms/step - loss: 0.0577 - accuracy: 0.9810 - val_loss: 0.5310 - val_accuracy: 0.8913 - lr: 1.0000e-04\n",
      "Epoch 26/50\n",
      "91/92 [============================>.] - ETA: 0s - loss: 0.0620 - accuracy: 0.9835\n",
      "Epoch 26: val_accuracy did not improve from 0.90761\n",
      "92/92 [==============================] - 2s 18ms/step - loss: 0.0614 - accuracy: 0.9837 - val_loss: 0.5519 - val_accuracy: 0.8913 - lr: 1.0000e-04\n",
      "Epoch 27/50\n",
      "91/92 [============================>.] - ETA: 0s - loss: 0.0676 - accuracy: 0.9766\n",
      "Epoch 27: val_accuracy did not improve from 0.90761\n",
      "92/92 [==============================] - 2s 18ms/step - loss: 0.0674 - accuracy: 0.9769 - val_loss: 0.5765 - val_accuracy: 0.8859 - lr: 1.0000e-04\n",
      "Epoch 28/50\n",
      "90/92 [============================>.] - ETA: 0s - loss: 0.0529 - accuracy: 0.9861\n",
      "Epoch 28: val_accuracy did not improve from 0.90761\n",
      "92/92 [==============================] - 2s 18ms/step - loss: 0.0519 - accuracy: 0.9864 - val_loss: 0.5574 - val_accuracy: 0.8913 - lr: 1.0000e-04\n",
      "Epoch 29/50\n",
      "91/92 [============================>.] - ETA: 0s - loss: 0.0541 - accuracy: 0.9808\n",
      "Epoch 29: val_accuracy did not improve from 0.90761\n",
      "92/92 [==============================] - 2s 19ms/step - loss: 0.0548 - accuracy: 0.9796 - val_loss: 0.5727 - val_accuracy: 0.8913 - lr: 1.0000e-04\n",
      "Epoch 30/50\n",
      "90/92 [============================>.] - ETA: 0s - loss: 0.0604 - accuracy: 0.9764\n",
      "Epoch 30: val_accuracy did not improve from 0.90761\n",
      "92/92 [==============================] - 2s 18ms/step - loss: 0.0595 - accuracy: 0.9769 - val_loss: 0.6061 - val_accuracy: 0.8913 - lr: 1.0000e-04\n",
      "Epoch 31/50\n",
      "92/92 [==============================] - ETA: 0s - loss: 0.0650 - accuracy: 0.9769\n",
      "Epoch 31: val_accuracy did not improve from 0.90761\n",
      "92/92 [==============================] - 2s 18ms/step - loss: 0.0650 - accuracy: 0.9769 - val_loss: 0.5441 - val_accuracy: 0.8913 - lr: 1.0000e-04\n",
      "Epoch 32/50\n",
      "90/92 [============================>.] - ETA: 0s - loss: 0.0709 - accuracy: 0.9750\n",
      "Epoch 32: val_accuracy did not improve from 0.90761\n",
      "92/92 [==============================] - 2s 18ms/step - loss: 0.0698 - accuracy: 0.9755 - val_loss: 0.5793 - val_accuracy: 0.8859 - lr: 1.0000e-04\n",
      "Epoch 33/50\n",
      "92/92 [==============================] - ETA: 0s - loss: 0.0501 - accuracy: 0.9823\n",
      "Epoch 33: val_accuracy did not improve from 0.90761\n",
      "92/92 [==============================] - 2s 19ms/step - loss: 0.0501 - accuracy: 0.9823 - val_loss: 0.6085 - val_accuracy: 0.8804 - lr: 1.0000e-04\n",
      "Epoch 34/50\n",
      "90/92 [============================>.] - ETA: 0s - loss: 0.0510 - accuracy: 0.9861\n",
      "Epoch 34: val_accuracy did not improve from 0.90761\n",
      "92/92 [==============================] - 2s 18ms/step - loss: 0.0504 - accuracy: 0.9864 - val_loss: 0.5839 - val_accuracy: 0.8859 - lr: 1.0000e-04\n",
      "Epoch 35/50\n",
      "92/92 [==============================] - ETA: 0s - loss: 0.0550 - accuracy: 0.9837\n",
      "Epoch 35: val_accuracy did not improve from 0.90761\n",
      "92/92 [==============================] - 2s 19ms/step - loss: 0.0550 - accuracy: 0.9837 - val_loss: 0.6012 - val_accuracy: 0.8913 - lr: 1.0000e-04\n",
      "Epoch 36/50\n",
      "92/92 [==============================] - ETA: 0s - loss: 0.0406 - accuracy: 0.9918\n",
      "Epoch 36: val_accuracy did not improve from 0.90761\n",
      "92/92 [==============================] - 2s 19ms/step - loss: 0.0406 - accuracy: 0.9918 - val_loss: 0.5959 - val_accuracy: 0.8913 - lr: 1.0000e-04\n",
      "Epoch 37/50\n",
      "90/92 [============================>.] - ETA: 0s - loss: 0.0477 - accuracy: 0.9833\n",
      "Epoch 37: val_accuracy did not improve from 0.90761\n",
      "92/92 [==============================] - 2s 18ms/step - loss: 0.0473 - accuracy: 0.9837 - val_loss: 0.6097 - val_accuracy: 0.8859 - lr: 1.0000e-04\n",
      "Epoch 38/50\n",
      "91/92 [============================>.] - ETA: 0s - loss: 0.0398 - accuracy: 0.9876\n",
      "Epoch 38: val_accuracy did not improve from 0.90761\n",
      "92/92 [==============================] - 2s 19ms/step - loss: 0.0395 - accuracy: 0.9878 - val_loss: 0.5105 - val_accuracy: 0.8913 - lr: 1.0000e-04\n"
     ]
    }
   ],
   "source": [
    "history = basemodel.fit(X_train, y_train,\n",
    "                        epochs=50,\n",
    "                        batch_size=8,\n",
    "                        validation_data=(X_test, y_test),\n",
    "                        callbacks=call_back)"
   ]
  },
  {
   "cell_type": "code",
   "execution_count": 42,
   "metadata": {},
   "outputs": [
    {
     "data": {
      "text/plain": [
       "<matplotlib.legend.Legend at 0x2ac0e970a50>"
      ]
     },
     "execution_count": 42,
     "metadata": {},
     "output_type": "execute_result"
    },
    {
     "data": {
      "image/png": "[encoded data removed]",
      "text/plain": [
       "<Figure size 640x480 with 1 Axes>"
      ]
     },
     "metadata": {},
     "output_type": "display_data"
    }
   ],
   "source": [
    "# Plot loss per iteration\n",
    "import matplotlib.pyplot as plt\n",
    "plt.plot(history.history['loss'], label='loss')\n",
    "plt.plot(history.history['val_loss'], label='val_loss')\n",
    "plt.legend()"
   ]
  },
  {
   "cell_type": "code",
   "execution_count": 43,
   "metadata": {},
   "outputs": [
    {
     "data": {
      "text/plain": [
       "<matplotlib.legend.Legend at 0x2ac0e9e2190>"
      ]
     },
     "execution_count": 43,
     "metadata": {},
     "output_type": "execute_result"
    },
    {
     "data": {
      "image/png": "[encoded data removed]",
      "text/plain": [
       "<Figure size 640x480 with 1 Axes>"
      ]
     },
     "metadata": {},
     "output_type": "display_data"
    }
   ],
   "source": [
    "# Plot accuracy per iteration\n",
    "plt.plot(history.history['accuracy'], label='acc')\n",
    "plt.plot(history.history['val_accuracy'], label='val_acc')\n",
    "plt.legend()"
   ]
  },
  {
   "cell_type": "code",
   "execution_count": 45,
   "metadata": {},
   "outputs": [
    {
     "name": "stdout",
     "output_type": "stream",
     "text": [
      "6/6 [==============================] - 0s 11ms/step\n",
      "Confusion matrix, without normalization\n",
      "[[  7   0   0   0   0   0   0   0]\n",
      " [  0  12   0   0   0   0   0   0]\n",
      " [  0   0   3   0   0   0   3   0]\n",
      " [  0   0   0  16   0   0   0   0]\n",
      " [  0   0   0   0   0   0   7   0]\n",
      " [  0   0   0   0   0  16   2   1]\n",
      " [  0   0   0   0   0   0 111   0]\n",
      " [  0   0   1   0   0   0   3   2]]\n"
     ]
    },
    {
     "data": {
      "image/png": "[encoded data removed]",
      "text/plain": [
       "<Figure size 640x480 with 2 Axes>"
      ]
     },
     "metadata": {},
     "output_type": "display_data"
    }
   ],
   "source": [
    "# Plot confusion matrix\n",
    "from sklearn.metrics import confusion_matrix\n",
    "import itertools\n",
    "\n",
    "def plot_confusion_matrix(cm, classes,\n",
    "                          normalize=False,\n",
    "                          title='Confusion matrix',\n",
    "                          cmap=plt.cm.Blues):\n",
    "  \"\"\"\n",
    "  This function prints and plots the confusion matrix.\n",
    "  Normalization can be applied by setting `normalize=True`.\n",
    "  \"\"\"\n",
    "  if normalize:\n",
    "      cm = cm.astype('float') / cm.sum(axis=1)[:, np.newaxis]\n",
    "      print(\"Normalized confusion matrix\")\n",
    "  else:\n",
    "      print('Confusion matrix, without normalization')\n",
    "\n",
    "  print(cm)\n",
    "\n",
    "  plt.imshow(cm, interpolation='nearest', cmap=cmap)\n",
    "  plt.title(title)\n",
    "  plt.colorbar()\n",
    "  tick_marks = np.arange(len(classes))\n",
    "  plt.xticks(tick_marks, classes, rotation=45)\n",
    "  plt.yticks(tick_marks, classes)\n",
    "\n",
    "  fmt = '.2f' if normalize else 'd'\n",
    "  thresh = cm.max() / 2.\n",
    "  for i, j in itertools.product(range(cm.shape[0]), range(cm.shape[1])):\n",
    "      plt.text(j, i, format(cm[i, j], fmt),\n",
    "               horizontalalignment=\"center\",\n",
    "               color=\"white\" if cm[i, j] > thresh else \"black\")\n",
    "\n",
    "  plt.tight_layout()\n",
    "  plt.ylabel('True label')\n",
    "  plt.xlabel('Predicted label')\n",
    "  plt.show()\n",
    "\n",
    "\n",
    "p_test = basemodel.predict(X_test).argmax(axis=1)\n",
    "cm = confusion_matrix(y_test, p_test)\n",
    "plot_confusion_matrix(cm, list(range(9)))"
   ]
  },
  {
   "cell_type": "code",
   "execution_count": null,
   "metadata": {},
   "outputs": [],
   "source": [
    "checkpoint_path"
   ]
  },
  {
   "cell_type": "code",
   "execution_count": null,
   "metadata": {},
   "outputs": [],
   "source": [
    "final_model = tf.keras.models.load_model(checkpoint_path)\n",
    "from IPython.display import clear_output\n",
    "import time\n",
    "\n",
    "for k in range(40):\n",
    "        print(f'actual label is {label_to_text[y_test[k]]}')\n",
    "        predicted_class = final_model.predict(tf.expand_dims(X_test[k],0)).argmax()\n",
    "        print(f'predicted label is {label_to_text[predicted_class]}')\n",
    "        pyplot.imshow(X_test[k].reshape((48,48)))\n",
    "        pyplot.show()\n",
    "        time.sleep(3)\n",
    "        clear_output(wait=True)"
   ]
  }
 ],
 "metadata": {
  "kernelspec": {
   "display_name": "Python 3",
   "language": "python",
   "name": "python3"
  },
  "language_info": {
   "codemirror_mode": {
    "name": "ipython",
    "version": 3
   },
   "file_extension": ".py",
   "mimetype": "text/x-python",
   "name": "python",
   "nbconvert_exporter": "python",
   "pygments_lexer": "ipython3",
   "version": "3.11.5"
  },
  "orig_nbformat": 4
 },
 "nbformat": 4,
 "nbformat_minor": 2
}
