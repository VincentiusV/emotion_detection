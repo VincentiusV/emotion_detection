{
 "cells": [
  {
   "cell_type": "code",
   "execution_count": 1,
   "metadata": {},
   "outputs": [],
   "source": [
    "# import tarfile\n",
    "\n",
    "\n",
    "# fname = 'fer2013.tar.gz'\n",
    "# if fname.endswith(\"tar.gz\"):\n",
    "#     tar = tarfile.open(fname, \"r:gz\")\n",
    "#     tar.extractall()\n",
    "#     tar.close()\n",
    "# elif fname.endswith(\"tar\"):\n",
    "#     tar = tarfile.open(fname, \"r:\")\n",
    "#     tar.extractall()\n",
    "#     tar.close()"
   ]
  },
  {
   "cell_type": "code",
   "execution_count": 2,
   "metadata": {},
   "outputs": [],
   "source": [
    "import os\n",
    "import pandas as pd\n",
    "import numpy as np\n",
    "import tensorflow as tf\n",
    "from matplotlib import pyplot\n",
    "from sklearn.model_selection import train_test_split\n",
    "from tensorflow.keras.preprocessing.image import ImageDataGenerator"
   ]
  },
  {
   "cell_type": "code",
   "execution_count": 3,
   "metadata": {},
   "outputs": [
    {
     "data": {
      "text/html": [
       "<div>\n",
       "<style scoped>\n",
       "    .dataframe tbody tr th:only-of-type {\n",
       "        vertical-align: middle;\n",
       "    }\n",
       "\n",
       "    .dataframe tbody tr th {\n",
       "        vertical-align: top;\n",
       "    }\n",
       "\n",
       "    .dataframe thead th {\n",
       "        text-align: right;\n",
       "    }\n",
       "</style>\n",
       "<table border=\"1\" class=\"dataframe\">\n",
       "  <thead>\n",
       "    <tr style=\"text-align: right;\">\n",
       "      <th></th>\n",
       "      <th>emotion</th>\n",
       "      <th>pixels</th>\n",
       "      <th>Usage</th>\n",
       "    </tr>\n",
       "  </thead>\n",
       "  <tbody>\n",
       "    <tr>\n",
       "      <th>0</th>\n",
       "      <td>6</td>\n",
       "      <td>36 39 35 25 19 11 8 7 3 13 15 9 21 57 75 90 10...</td>\n",
       "      <td>Training</td>\n",
       "    </tr>\n",
       "    <tr>\n",
       "      <th>1</th>\n",
       "      <td>6</td>\n",
       "      <td>88 74 19 4 5 5 3 12 8 21 15 21 15 18 24 29 32 ...</td>\n",
       "      <td>Training</td>\n",
       "    </tr>\n",
       "    <tr>\n",
       "      <th>2</th>\n",
       "      <td>6</td>\n",
       "      <td>9 2 4 7 1 1 1 0 7 29 49 76 115 141 156 169 177...</td>\n",
       "      <td>Training</td>\n",
       "    </tr>\n",
       "    <tr>\n",
       "      <th>3</th>\n",
       "      <td>6</td>\n",
       "      <td>104 106 108 104 95 50 60 61 58 83 126 133 139 ...</td>\n",
       "      <td>Training</td>\n",
       "    </tr>\n",
       "    <tr>\n",
       "      <th>4</th>\n",
       "      <td>6</td>\n",
       "      <td>68 72 67 67 6 2 1 1 1 1 1 14 24 24 38 65 79 94...</td>\n",
       "      <td>Training</td>\n",
       "    </tr>\n",
       "  </tbody>\n",
       "</table>\n",
       "</div>"
      ],
      "text/plain": [
       "   emotion                                             pixels     Usage\n",
       "0        6  36 39 35 25 19 11 8 7 3 13 15 9 21 57 75 90 10...  Training\n",
       "1        6  88 74 19 4 5 5 3 12 8 21 15 21 15 18 24 29 32 ...  Training\n",
       "2        6  9 2 4 7 1 1 1 0 7 29 49 76 115 141 156 169 177...  Training\n",
       "3        6  104 106 108 104 95 50 60 61 58 83 126 133 139 ...  Training\n",
       "4        6  68 72 67 67 6 2 1 1 1 1 1 14 24 24 38 65 79 94...  Training"
      ]
     },
     "execution_count": 3,
     "metadata": {},
     "output_type": "execute_result"
    }
   ],
   "source": [
    "df = pd.read_csv('C:/Kecilin/emotion_detection/V3/ckextended.csv')\n",
    "df.head()"
   ]
  },
  {
   "cell_type": "code",
   "execution_count": 4,
   "metadata": {},
   "outputs": [],
   "source": [
    "label_to_text = {0:'Anger', 1:'Disgust', 2:'Fear', 3:'Happiness', 4: 'Sadness', 5: 'Surprise', 6: 'Neutral', 7: 'Contempt'} "
   ]
  },
  {
   "cell_type": "code",
   "execution_count": 5,
   "metadata": {},
   "outputs": [],
   "source": [
    "img_array = df.pixels.apply(lambda x: np.array(x.split(\" \")).reshape(48,48,1).astype('float32'))\n",
    "img_array = np.stack(img_array, axis=0)\n",
    "labels = df.emotion.values"
   ]
  },
  {
   "cell_type": "code",
   "execution_count": 6,
   "metadata": {},
   "outputs": [
    {
     "data": {
      "text/plain": [
       "(920, 48, 48, 1)"
      ]
     },
     "execution_count": 6,
     "metadata": {},
     "output_type": "execute_result"
    }
   ],
   "source": [
    "img_array.shape"
   ]
  },
  {
   "cell_type": "code",
   "execution_count": 7,
   "metadata": {},
   "outputs": [],
   "source": [
    "X_train, X_test, y_train, y_test = train_test_split(img_array, labels, test_size= .2)"
   ]
  },
  {
   "cell_type": "code",
   "execution_count": 8,
   "metadata": {},
   "outputs": [
    {
     "data": {
      "text/plain": [
       "3"
      ]
     },
     "execution_count": 8,
     "metadata": {},
     "output_type": "execute_result"
    }
   ],
   "source": [
    "y_train[0]"
   ]
  },
  {
   "cell_type": "code",
   "execution_count": 9,
   "metadata": {},
   "outputs": [],
   "source": [
    "X_train = X_train/255\n",
    "X_test = X_test/255"
   ]
  },
  {
   "cell_type": "code",
   "execution_count": 10,
   "metadata": {},
   "outputs": [],
   "source": [
    "# datagen = ImageDataGenerator(\n",
    "#     rotation_range=15,\n",
    "#     width_shift_range=0.1,\n",
    "#     height_shift_range=0.1,\n",
    "#     shear_range=0.2,\n",
    "#     zoom_range=0.2,\n",
    "#     horizontal_flip=True,\n",
    "# )\n",
    "# datagen.fit(X_train)\n",
    "\n",
    "# Create data generators for training and validation sets\n",
    "train_datagen = ImageDataGenerator(\n",
    "    rotation_range=15,\n",
    "    width_shift_range=0.1,\n",
    "    height_shift_range=0.1,\n",
    "    shear_range=0.2,\n",
    "    zoom_range=0.2,\n",
    "    horizontal_flip=True,\n",
    ")\n",
    "\n",
    "validation_datagen = ImageDataGenerator()  # No augmentation for validation data\n",
    "\n",
    "# Generate augmented data for training set\n",
    "train_generator = train_datagen.flow(X_train, y_train, batch_size=32)"
   ]
  },
  {
   "cell_type": "code",
   "execution_count": 11,
   "metadata": {},
   "outputs": [],
   "source": [
    "basemodel = tf.keras.models.Sequential([\n",
    "                                        tf.keras.layers.Conv2D(32, (3, 3), activation='relu', input_shape=(48, 48, 1)),\n",
    "                                        tf.keras.layers.MaxPool2D(2, 2),\n",
    "                                        tf.keras.layers.Conv2D(64, (3, 3), activation='relu'),\n",
    "                                        tf.keras.layers.MaxPool2D(2, 2),\n",
    "                                        tf.keras.layers.Conv2D(128, (3, 3), activation='relu'),\n",
    "                                        tf.keras.layers.MaxPool2D(2, 2),\n",
    "                                        tf.keras.layers.Conv2D(64, (3, 3), activation='relu'),\n",
    "                                        tf.keras.layers.MaxPool2D(2, 2),\n",
    "                                        tf.keras.layers.Flatten(),\n",
    "                                        tf.keras.layers.Dense(32, activation='relu', kernel_regularizer=tf.keras.regularizers.l2(0.01)),\n",
    "                                        tf.keras.layers.Dropout(0.5),\n",
    "                                        tf.keras.layers.Dense(8, activation='softmax')\n",
    "])"
   ]
  },
  {
   "cell_type": "code",
   "execution_count": 12,
   "metadata": {},
   "outputs": [
    {
     "name": "stdout",
     "output_type": "stream",
     "text": [
      "Model: \"sequential\"\n",
      "_________________________________________________________________\n",
      " Layer (type)                Output Shape              Param #   \n",
      "=================================================================\n",
      " conv2d (Conv2D)             (None, 46, 46, 32)        320       \n",
      "                                                                 \n",
      " max_pooling2d (MaxPooling2  (None, 23, 23, 32)        0         \n",
      " D)                                                              \n",
      "                                                                 \n",
      " conv2d_1 (Conv2D)           (None, 21, 21, 64)        18496     \n",
      "                                                                 \n",
      " max_pooling2d_1 (MaxPoolin  (None, 10, 10, 64)        0         \n",
      " g2D)                                                            \n",
      "                                                                 \n",
      " conv2d_2 (Conv2D)           (None, 8, 8, 128)         73856     \n",
      "                                                                 \n",
      " max_pooling2d_2 (MaxPoolin  (None, 4, 4, 128)         0         \n",
      " g2D)                                                            \n",
      "                                                                 \n",
      " conv2d_3 (Conv2D)           (None, 2, 2, 64)          73792     \n",
      "                                                                 \n",
      " max_pooling2d_3 (MaxPoolin  (None, 1, 1, 64)          0         \n",
      " g2D)                                                            \n",
      "                                                                 \n",
      " flatten (Flatten)           (None, 64)                0         \n",
      "                                                                 \n",
      " dense (Dense)               (None, 32)                2080      \n",
      "                                                                 \n",
      " dropout (Dropout)           (None, 32)                0         \n",
      "                                                                 \n",
      " dense_1 (Dense)             (None, 8)                 264       \n",
      "                                                                 \n",
      "=================================================================\n",
      "Total params: 168808 (659.41 KB)\n",
      "Trainable params: 168808 (659.41 KB)\n",
      "Non-trainable params: 0 (0.00 Byte)\n",
      "_________________________________________________________________\n"
     ]
    }
   ],
   "source": [
    "basemodel.summary()"
   ]
  },
  {
   "cell_type": "code",
   "execution_count": 13,
   "metadata": {},
   "outputs": [],
   "source": [
    "initial_learning_rate = 0.0001  # You can adjust this value\n",
    "optimizer = tf.keras.optimizers.RMSprop(learning_rate=initial_learning_rate)\n",
    "basemodel.compile(optimizer=optimizer,\n",
    "                loss='sparse_categorical_crossentropy',\n",
    "                metrics=['accuracy'])"
   ]
  },
  {
   "cell_type": "code",
   "execution_count": 14,
   "metadata": {},
   "outputs": [],
   "source": [
    "def lr_schedule(epoch):\n",
    "    if epoch < 20:\n",
    "        return initial_learning_rate\n",
    "    else:\n",
    "        return initial_learning_rate * 0.1"
   ]
  },
  {
   "cell_type": "code",
   "execution_count": 15,
   "metadata": {},
   "outputs": [],
   "source": [
    "# Define early stopping\n",
    "early_stopping = tf.keras.callbacks.EarlyStopping(\n",
    "    monitor='val_accuracy',\n",
    "    patience=10,\n",
    "    restore_best_weights=True\n",
    ")"
   ]
  },
  {
   "cell_type": "code",
   "execution_count": 16,
   "metadata": {},
   "outputs": [],
   "source": [
    "file_name = 'best_model.h5'\n",
    "checkpoint_path= os.path.join('checkpoint',file_name)\n",
    "\n",
    "\n",
    "call_back = [\n",
    "    tf.keras.callbacks.ModelCheckpoint(filepath=checkpoint_path,\n",
    "                                        monitor='val_accuracy',\n",
    "                                        verbose=1,\n",
    "                                        save_freq='epoch',\n",
    "                                        save_best_only=True,\n",
    "                                        save_weights_only=False,\n",
    "                                        mode='max'),\n",
    "    tf.keras.callbacks.EarlyStopping(\n",
    "        monitor='val_loss',\n",
    "        patience=10,\n",
    "        restore_best_weights=True\n",
    "    ),\n",
    "    tf.keras.callbacks.LearningRateScheduler(lr_schedule)\n",
    "]"
   ]
  },
  {
   "cell_type": "code",
   "execution_count": 17,
   "metadata": {},
   "outputs": [
    {
     "name": "stdout",
     "output_type": "stream",
     "text": [
      "Epoch 1/30\n",
      "23/23 [==============================] - ETA: 0s - loss: 2.2900 - accuracy: 0.4198\n",
      "Epoch 1: val_accuracy improved from -inf to 0.63587, saving model to checkpoint\\best_model.h5\n",
      "23/23 [==============================] - 6s 122ms/step - loss: 2.2900 - accuracy: 0.4198 - val_loss: 2.0112 - val_accuracy: 0.6359 - lr: 1.0000e-04\n",
      "Epoch 2/30\n"
     ]
    },
    {
     "name": "stderr",
     "output_type": "stream",
     "text": [
      "C:\\Users\\vince\\AppData\\Local\\Packages\\PythonSoftwareFoundation.Python.3.11_qbz5n2kfra8p0\\LocalCache\\local-packages\\Python311\\site-packages\\keras\\src\\engine\\training.py:3000: UserWarning: You are saving your model as an HDF5 file via `model.save()`. This file format is considered legacy. We recommend using instead the native Keras format, e.g. `model.save('my_model.keras')`.\n",
      "  saving_api.save_model(\n"
     ]
    },
    {
     "name": "stdout",
     "output_type": "stream",
     "text": [
      "23/23 [==============================] - ETA: 0s - loss: 2.0937 - accuracy: 0.5014\n",
      "Epoch 2: val_accuracy did not improve from 0.63587\n",
      "23/23 [==============================] - 2s 80ms/step - loss: 2.0937 - accuracy: 0.5014 - val_loss: 1.8694 - val_accuracy: 0.6359 - lr: 1.0000e-04\n",
      "Epoch 3/30\n",
      "23/23 [==============================] - ETA: 0s - loss: 2.0853 - accuracy: 0.5204\n",
      "Epoch 3: val_accuracy did not improve from 0.63587\n",
      "23/23 [==============================] - 2s 84ms/step - loss: 2.0853 - accuracy: 0.5204 - val_loss: 1.8317 - val_accuracy: 0.6359 - lr: 1.0000e-04\n",
      "Epoch 4/30\n",
      "23/23 [==============================] - ETA: 0s - loss: 2.0103 - accuracy: 0.5503\n",
      "Epoch 4: val_accuracy did not improve from 0.63587\n",
      "23/23 [==============================] - 2s 84ms/step - loss: 2.0103 - accuracy: 0.5503 - val_loss: 1.8248 - val_accuracy: 0.6359 - lr: 1.0000e-04\n",
      "Epoch 5/30\n",
      "23/23 [==============================] - ETA: 0s - loss: 2.0233 - accuracy: 0.5462\n",
      "Epoch 5: val_accuracy did not improve from 0.63587\n",
      "23/23 [==============================] - 2s 75ms/step - loss: 2.0233 - accuracy: 0.5462 - val_loss: 1.8168 - val_accuracy: 0.6359 - lr: 1.0000e-04\n",
      "Epoch 6/30\n",
      "23/23 [==============================] - ETA: 0s - loss: 1.9946 - accuracy: 0.5448\n",
      "Epoch 6: val_accuracy did not improve from 0.63587\n",
      "23/23 [==============================] - 2s 76ms/step - loss: 1.9946 - accuracy: 0.5448 - val_loss: 1.7827 - val_accuracy: 0.6359 - lr: 1.0000e-04\n",
      "Epoch 7/30\n",
      "23/23 [==============================] - ETA: 0s - loss: 1.9517 - accuracy: 0.5639\n",
      "Epoch 7: val_accuracy did not improve from 0.63587\n",
      "23/23 [==============================] - 2s 77ms/step - loss: 1.9517 - accuracy: 0.5639 - val_loss: 1.7651 - val_accuracy: 0.6359 - lr: 1.0000e-04\n",
      "Epoch 8/30\n",
      "23/23 [==============================] - ETA: 0s - loss: 1.9561 - accuracy: 0.5462\n",
      "Epoch 8: val_accuracy did not improve from 0.63587\n",
      "23/23 [==============================] - 2s 76ms/step - loss: 1.9561 - accuracy: 0.5462 - val_loss: 1.7338 - val_accuracy: 0.6359 - lr: 1.0000e-04\n",
      "Epoch 9/30\n",
      "23/23 [==============================] - ETA: 0s - loss: 1.9678 - accuracy: 0.5516\n",
      "Epoch 9: val_accuracy did not improve from 0.63587\n",
      "23/23 [==============================] - 2s 79ms/step - loss: 1.9678 - accuracy: 0.5516 - val_loss: 1.7687 - val_accuracy: 0.6359 - lr: 1.0000e-04\n",
      "Epoch 10/30\n",
      "23/23 [==============================] - ETA: 0s - loss: 1.9185 - accuracy: 0.5707\n",
      "Epoch 10: val_accuracy did not improve from 0.63587\n",
      "23/23 [==============================] - 2s 75ms/step - loss: 1.9185 - accuracy: 0.5707 - val_loss: 1.7166 - val_accuracy: 0.6359 - lr: 1.0000e-04\n",
      "Epoch 11/30\n",
      "23/23 [==============================] - ETA: 0s - loss: 1.8925 - accuracy: 0.5734\n",
      "Epoch 11: val_accuracy did not improve from 0.63587\n",
      "23/23 [==============================] - 2s 75ms/step - loss: 1.8925 - accuracy: 0.5734 - val_loss: 1.7174 - val_accuracy: 0.6359 - lr: 1.0000e-04\n",
      "Epoch 12/30\n",
      "23/23 [==============================] - ETA: 0s - loss: 1.8899 - accuracy: 0.5652\n",
      "Epoch 12: val_accuracy did not improve from 0.63587\n",
      "23/23 [==============================] - 2s 80ms/step - loss: 1.8899 - accuracy: 0.5652 - val_loss: 1.7386 - val_accuracy: 0.6359 - lr: 1.0000e-04\n",
      "Epoch 13/30\n",
      "23/23 [==============================] - ETA: 0s - loss: 1.9162 - accuracy: 0.5625\n",
      "Epoch 13: val_accuracy did not improve from 0.63587\n",
      "23/23 [==============================] - 2s 76ms/step - loss: 1.9162 - accuracy: 0.5625 - val_loss: 1.7097 - val_accuracy: 0.6359 - lr: 1.0000e-04\n",
      "Epoch 14/30\n",
      "23/23 [==============================] - ETA: 0s - loss: 1.8719 - accuracy: 0.5883\n",
      "Epoch 14: val_accuracy did not improve from 0.63587\n",
      "23/23 [==============================] - 2s 78ms/step - loss: 1.8719 - accuracy: 0.5883 - val_loss: 1.7034 - val_accuracy: 0.6359 - lr: 1.0000e-04\n",
      "Epoch 15/30\n",
      "23/23 [==============================] - ETA: 0s - loss: 1.8629 - accuracy: 0.6005\n",
      "Epoch 15: val_accuracy did not improve from 0.63587\n",
      "23/23 [==============================] - 2s 80ms/step - loss: 1.8629 - accuracy: 0.6005 - val_loss: 1.6864 - val_accuracy: 0.6359 - lr: 1.0000e-04\n",
      "Epoch 16/30\n",
      "23/23 [==============================] - ETA: 0s - loss: 1.8710 - accuracy: 0.5951\n",
      "Epoch 16: val_accuracy did not improve from 0.63587\n",
      "23/23 [==============================] - 2s 82ms/step - loss: 1.8710 - accuracy: 0.5951 - val_loss: 1.6667 - val_accuracy: 0.6359 - lr: 1.0000e-04\n",
      "Epoch 17/30\n",
      "23/23 [==============================] - ETA: 0s - loss: 1.8578 - accuracy: 0.5788\n",
      "Epoch 17: val_accuracy did not improve from 0.63587\n",
      "23/23 [==============================] - 2s 82ms/step - loss: 1.8578 - accuracy: 0.5788 - val_loss: 1.6494 - val_accuracy: 0.6359 - lr: 1.0000e-04\n",
      "Epoch 18/30\n",
      "23/23 [==============================] - ETA: 0s - loss: 1.8204 - accuracy: 0.5910\n",
      "Epoch 18: val_accuracy did not improve from 0.63587\n",
      "23/23 [==============================] - 2s 78ms/step - loss: 1.8204 - accuracy: 0.5910 - val_loss: 1.6498 - val_accuracy: 0.6359 - lr: 1.0000e-04\n",
      "Epoch 19/30\n",
      "23/23 [==============================] - ETA: 0s - loss: 1.8001 - accuracy: 0.5829\n",
      "Epoch 19: val_accuracy did not improve from 0.63587\n",
      "23/23 [==============================] - 2s 74ms/step - loss: 1.8001 - accuracy: 0.5829 - val_loss: 1.6255 - val_accuracy: 0.6359 - lr: 1.0000e-04\n",
      "Epoch 20/30\n",
      "23/23 [==============================] - ETA: 0s - loss: 1.8114 - accuracy: 0.6019\n",
      "Epoch 20: val_accuracy did not improve from 0.63587\n",
      "23/23 [==============================] - 2s 77ms/step - loss: 1.8114 - accuracy: 0.6019 - val_loss: 1.6396 - val_accuracy: 0.6359 - lr: 1.0000e-04\n",
      "Epoch 21/30\n",
      "23/23 [==============================] - ETA: 0s - loss: 1.8186 - accuracy: 0.5951\n",
      "Epoch 21: val_accuracy did not improve from 0.63587\n",
      "23/23 [==============================] - 2s 75ms/step - loss: 1.8186 - accuracy: 0.5951 - val_loss: 1.6366 - val_accuracy: 0.6359 - lr: 1.0000e-05\n",
      "Epoch 22/30\n",
      "23/23 [==============================] - ETA: 0s - loss: 1.8028 - accuracy: 0.5938\n",
      "Epoch 22: val_accuracy did not improve from 0.63587\n",
      "23/23 [==============================] - 2s 78ms/step - loss: 1.8028 - accuracy: 0.5938 - val_loss: 1.6313 - val_accuracy: 0.6359 - lr: 1.0000e-05\n",
      "Epoch 23/30\n",
      "23/23 [==============================] - ETA: 0s - loss: 1.7393 - accuracy: 0.6005\n",
      "Epoch 23: val_accuracy did not improve from 0.63587\n",
      "23/23 [==============================] - 2s 75ms/step - loss: 1.7393 - accuracy: 0.6005 - val_loss: 1.6245 - val_accuracy: 0.6359 - lr: 1.0000e-05\n",
      "Epoch 24/30\n",
      "23/23 [==============================] - ETA: 0s - loss: 1.8092 - accuracy: 0.5951\n",
      "Epoch 24: val_accuracy did not improve from 0.63587\n",
      "23/23 [==============================] - 2s 75ms/step - loss: 1.8092 - accuracy: 0.5951 - val_loss: 1.6236 - val_accuracy: 0.6359 - lr: 1.0000e-05\n",
      "Epoch 25/30\n",
      "23/23 [==============================] - ETA: 0s - loss: 1.7757 - accuracy: 0.5965\n",
      "Epoch 25: val_accuracy did not improve from 0.63587\n",
      "23/23 [==============================] - 2s 78ms/step - loss: 1.7757 - accuracy: 0.5965 - val_loss: 1.6184 - val_accuracy: 0.6359 - lr: 1.0000e-05\n",
      "Epoch 26/30\n",
      "23/23 [==============================] - ETA: 0s - loss: 1.7764 - accuracy: 0.6033\n",
      "Epoch 26: val_accuracy did not improve from 0.63587\n",
      "23/23 [==============================] - 2s 74ms/step - loss: 1.7764 - accuracy: 0.6033 - val_loss: 1.6179 - val_accuracy: 0.6359 - lr: 1.0000e-05\n",
      "Epoch 27/30\n",
      "23/23 [==============================] - ETA: 0s - loss: 1.7669 - accuracy: 0.5924\n",
      "Epoch 27: val_accuracy did not improve from 0.63587\n",
      "23/23 [==============================] - 2s 77ms/step - loss: 1.7669 - accuracy: 0.5924 - val_loss: 1.6143 - val_accuracy: 0.6359 - lr: 1.0000e-05\n",
      "Epoch 28/30\n",
      "23/23 [==============================] - ETA: 0s - loss: 1.7712 - accuracy: 0.5924\n",
      "Epoch 28: val_accuracy did not improve from 0.63587\n",
      "23/23 [==============================] - 2s 76ms/step - loss: 1.7712 - accuracy: 0.5924 - val_loss: 1.6145 - val_accuracy: 0.6359 - lr: 1.0000e-05\n",
      "Epoch 29/30\n",
      "23/23 [==============================] - ETA: 0s - loss: 1.7858 - accuracy: 0.6101\n",
      "Epoch 29: val_accuracy did not improve from 0.63587\n",
      "23/23 [==============================] - 2s 74ms/step - loss: 1.7858 - accuracy: 0.6101 - val_loss: 1.6147 - val_accuracy: 0.6359 - lr: 1.0000e-05\n",
      "Epoch 30/30\n",
      "23/23 [==============================] - ETA: 0s - loss: 1.7368 - accuracy: 0.5978\n",
      "Epoch 30: val_accuracy did not improve from 0.63587\n",
      "23/23 [==============================] - 2s 75ms/step - loss: 1.7368 - accuracy: 0.5978 - val_loss: 1.6066 - val_accuracy: 0.6359 - lr: 1.0000e-05\n"
     ]
    }
   ],
   "source": [
    "history = basemodel.fit(train_generator,\n",
    "                        epochs=30,\n",
    "                        validation_data=(X_test, y_test),\n",
    "                        callbacks=call_back)"
   ]
  },
  {
   "cell_type": "code",
   "execution_count": 18,
   "metadata": {},
   "outputs": [
    {
     "data": {
      "text/plain": [
       "<matplotlib.legend.Legend at 0x27d93547e50>"
      ]
     },
     "execution_count": 18,
     "metadata": {},
     "output_type": "execute_result"
    },
    {
     "data": {
      "image/png": "[encoded data removed]",
      "text/plain": [
       "<Figure size 640x480 with 1 Axes>"
      ]
     },
     "metadata": {},
     "output_type": "display_data"
    }
   ],
   "source": [
    "# Plot loss per iteration\n",
    "import matplotlib.pyplot as plt\n",
    "plt.plot(history.history['loss'], label='loss')\n",
    "plt.plot(history.history['val_loss'], label='val_loss')\n",
    "plt.legend()"
   ]
  },
  {
   "cell_type": "code",
   "execution_count": 19,
   "metadata": {},
   "outputs": [
    {
     "data": {
      "text/plain": [
       "<matplotlib.legend.Legend at 0x27d935f4890>"
      ]
     },
     "execution_count": 19,
     "metadata": {},
     "output_type": "execute_result"
    },
    {
     "data": {
      "image/png": "[encoded data removed]",
      "text/plain": [
       "<Figure size 640x480 with 1 Axes>"
      ]
     },
     "metadata": {},
     "output_type": "display_data"
    }
   ],
   "source": [
    "# Plot accuracy per iteration\n",
    "plt.plot(history.history['accuracy'], label='acc')\n",
    "plt.plot(history.history['val_accuracy'], label='val_acc')\n",
    "plt.legend()"
   ]
  },
  {
   "cell_type": "code",
   "execution_count": 21,
   "metadata": {},
   "outputs": [
    {
     "ename": "AttributeError",
     "evalue": "'History' object has no attribute 'predict'",
     "output_type": "error",
     "traceback": [
      "\u001b[1;31m---------------------------------------------------------------------------\u001b[0m",
      "\u001b[1;31mAttributeError\u001b[0m                            Traceback (most recent call last)",
      "\u001b[1;32mc:\\Kecilin\\emotion_detection\\V3\\emotion_recognition.ipynb Cell 20\u001b[0m line \u001b[0;36m4\n\u001b[0;32m     <a href='vscode-notebook-cell:/c%3A/Kecilin/emotion_detection/V3/emotion_recognition.ipynb#X25sZmlsZQ%3D%3D?line=36'>37</a>\u001b[0m   plt\u001b[39m.\u001b[39mxlabel(\u001b[39m'\u001b[39m\u001b[39mPredicted label\u001b[39m\u001b[39m'\u001b[39m)\n\u001b[0;32m     <a href='vscode-notebook-cell:/c%3A/Kecilin/emotion_detection/V3/emotion_recognition.ipynb#X25sZmlsZQ%3D%3D?line=37'>38</a>\u001b[0m   plt\u001b[39m.\u001b[39mshow()\n\u001b[1;32m---> <a href='vscode-notebook-cell:/c%3A/Kecilin/emotion_detection/V3/emotion_recognition.ipynb#X25sZmlsZQ%3D%3D?line=40'>41</a>\u001b[0m p_test \u001b[39m=\u001b[39m history\u001b[39m.\u001b[39;49mpredict(X_test)\u001b[39m.\u001b[39margmax(axis\u001b[39m=\u001b[39m\u001b[39m1\u001b[39m)\n\u001b[0;32m     <a href='vscode-notebook-cell:/c%3A/Kecilin/emotion_detection/V3/emotion_recognition.ipynb#X25sZmlsZQ%3D%3D?line=41'>42</a>\u001b[0m cm \u001b[39m=\u001b[39m confusion_matrix(y_test, p_test)\n\u001b[0;32m     <a href='vscode-notebook-cell:/c%3A/Kecilin/emotion_detection/V3/emotion_recognition.ipynb#X25sZmlsZQ%3D%3D?line=42'>43</a>\u001b[0m plot_confusion_matrix(cm, \u001b[39mlist\u001b[39m(\u001b[39mrange\u001b[39m(\u001b[39m10\u001b[39m)))\n",
      "\u001b[1;31mAttributeError\u001b[0m: 'History' object has no attribute 'predict'"
     ]
    }
   ],
   "source": [
    "# Plot confusion matrix\n",
    "from sklearn.metrics import confusion_matrix\n",
    "import itertools\n",
    "\n",
    "def plot_confusion_matrix(cm, classes,\n",
    "                          normalize=False,\n",
    "                          title='Confusion matrix',\n",
    "                          cmap=plt.cm.Blues):\n",
    "  \"\"\"\n",
    "  This function prints and plots the confusion matrix.\n",
    "  Normalization can be applied by setting `normalize=True`.\n",
    "  \"\"\"\n",
    "  if normalize:\n",
    "      cm = cm.astype('float') / cm.sum(axis=1)[:, np.newaxis]\n",
    "      print(\"Normalized confusion matrix\")\n",
    "  else:\n",
    "      print('Confusion matrix, without normalization')\n",
    "\n",
    "  print(cm)\n",
    "\n",
    "  plt.imshow(cm, interpolation='nearest', cmap=cmap)\n",
    "  plt.title(title)\n",
    "  plt.colorbar()\n",
    "  tick_marks = np.arange(len(classes))\n",
    "  plt.xticks(tick_marks, classes, rotation=45)\n",
    "  plt.yticks(tick_marks, classes)\n",
    "\n",
    "  fmt = '.2f' if normalize else 'd'\n",
    "  thresh = cm.max() / 2.\n",
    "  for i, j in itertools.product(range(cm.shape[0]), range(cm.shape[1])):\n",
    "      plt.text(j, i, format(cm[i, j], fmt),\n",
    "               horizontalalignment=\"center\",\n",
    "               color=\"white\" if cm[i, j] > thresh else \"black\")\n",
    "\n",
    "  plt.tight_layout()\n",
    "  plt.ylabel('True label')\n",
    "  plt.xlabel('Predicted label')\n",
    "  plt.show()\n",
    "\n",
    "\n",
    "p_test = history.predict(X_test).argmax(axis=1)\n",
    "cm = confusion_matrix(y_test, p_test)\n",
    "plot_confusion_matrix(cm, list(range(10)))"
   ]
  },
  {
   "cell_type": "code",
   "execution_count": null,
   "metadata": {},
   "outputs": [],
   "source": [
    "checkpoint_path"
   ]
  },
  {
   "cell_type": "code",
   "execution_count": null,
   "metadata": {},
   "outputs": [],
   "source": [
    "final_model = tf.keras.models.load_model(checkpoint_path)\n",
    "from IPython.display import clear_output\n",
    "import time\n",
    "\n",
    "for k in range(40):\n",
    "        print(f'actual label is {label_to_text[y_test[k]]}')\n",
    "        predicted_class = final_model.predict(tf.expand_dims(X_test[k],0)).argmax()\n",
    "        print(f'predicted label is {label_to_text[predicted_class]}')\n",
    "        pyplot.imshow(X_test[k].reshape((48,48)))\n",
    "        pyplot.show()\n",
    "        time.sleep(3)\n",
    "        clear_output(wait=True)"
   ]
  }
 ],
 "metadata": {
  "kernelspec": {
   "display_name": "Python 3",
   "language": "python",
   "name": "python3"
  },
  "language_info": {
   "codemirror_mode": {
    "name": "ipython",
    "version": 3
   },
   "file_extension": ".py",
   "mimetype": "text/x-python",
   "name": "python",
   "nbconvert_exporter": "python",
   "pygments_lexer": "ipython3",
   "version": "3.11.5"
  },
  "orig_nbformat": 4
 },
 "nbformat": 4,
 "nbformat_minor": 2
}
