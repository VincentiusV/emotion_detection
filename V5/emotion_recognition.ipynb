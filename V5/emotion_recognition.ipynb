{
 "cells": [
  {
   "cell_type": "markdown",
   "metadata": {},
   "source": [
    "CK+ - CNN"
   ]
  },
  {
   "cell_type": "code",
   "execution_count": 1,
   "metadata": {},
   "outputs": [],
   "source": [
    "import os\n",
    "import pandas as pd\n",
    "import numpy as np\n",
    "import tensorflow as tf\n",
    "from matplotlib import pyplot\n",
    "from sklearn.model_selection import train_test_split\n",
    "from sklearn.preprocessing import StandardScaler\n",
    "from tensorflow.keras.callbacks import ReduceLROnPlateau"
   ]
  },
  {
   "cell_type": "code",
   "execution_count": 2,
   "metadata": {},
   "outputs": [
    {
     "data": {
      "text/html": [
       "<div>\n",
       "<style scoped>\n",
       "    .dataframe tbody tr th:only-of-type {\n",
       "        vertical-align: middle;\n",
       "    }\n",
       "\n",
       "    .dataframe tbody tr th {\n",
       "        vertical-align: top;\n",
       "    }\n",
       "\n",
       "    .dataframe thead th {\n",
       "        text-align: right;\n",
       "    }\n",
       "</style>\n",
       "<table border=\"1\" class=\"dataframe\">\n",
       "  <thead>\n",
       "    <tr style=\"text-align: right;\">\n",
       "      <th></th>\n",
       "      <th>emotion</th>\n",
       "      <th>pixels</th>\n",
       "      <th>Usage</th>\n",
       "    </tr>\n",
       "  </thead>\n",
       "  <tbody>\n",
       "    <tr>\n",
       "      <th>0</th>\n",
       "      <td>6</td>\n",
       "      <td>36 39 35 25 19 11 8 7 3 13 15 9 21 57 75 90 10...</td>\n",
       "      <td>Training</td>\n",
       "    </tr>\n",
       "    <tr>\n",
       "      <th>1</th>\n",
       "      <td>6</td>\n",
       "      <td>88 74 19 4 5 5 3 12 8 21 15 21 15 18 24 29 32 ...</td>\n",
       "      <td>Training</td>\n",
       "    </tr>\n",
       "    <tr>\n",
       "      <th>2</th>\n",
       "      <td>6</td>\n",
       "      <td>9 2 4 7 1 1 1 0 7 29 49 76 115 141 156 169 177...</td>\n",
       "      <td>Training</td>\n",
       "    </tr>\n",
       "    <tr>\n",
       "      <th>3</th>\n",
       "      <td>6</td>\n",
       "      <td>104 106 108 104 95 50 60 61 58 83 126 133 139 ...</td>\n",
       "      <td>Training</td>\n",
       "    </tr>\n",
       "    <tr>\n",
       "      <th>4</th>\n",
       "      <td>6</td>\n",
       "      <td>68 72 67 67 6 2 1 1 1 1 1 14 24 24 38 65 79 94...</td>\n",
       "      <td>Training</td>\n",
       "    </tr>\n",
       "  </tbody>\n",
       "</table>\n",
       "</div>"
      ],
      "text/plain": [
       "   emotion                                             pixels     Usage\n",
       "0        6  36 39 35 25 19 11 8 7 3 13 15 9 21 57 75 90 10...  Training\n",
       "1        6  88 74 19 4 5 5 3 12 8 21 15 21 15 18 24 29 32 ...  Training\n",
       "2        6  9 2 4 7 1 1 1 0 7 29 49 76 115 141 156 169 177...  Training\n",
       "3        6  104 106 108 104 95 50 60 61 58 83 126 133 139 ...  Training\n",
       "4        6  68 72 67 67 6 2 1 1 1 1 1 14 24 24 38 65 79 94...  Training"
      ]
     },
     "execution_count": 2,
     "metadata": {},
     "output_type": "execute_result"
    }
   ],
   "source": [
    "df = pd.read_csv('C:/Kecilin/emotion_detection/V3/ckextended.csv')\n",
    "df.head()"
   ]
  },
  {
   "cell_type": "code",
   "execution_count": 3,
   "metadata": {},
   "outputs": [],
   "source": [
    "label_to_text = {0: 'Anger', 1: 'Disgust', 2: 'Fear', 3: 'Happiness', 4: 'Sadness', 5: 'Surprise', 6: 'Neutral', 7: 'Contempt'}\n",
    "\n",
    "# Define the new class mapping\n",
    "new_classes = {\n",
    "    1: ['Happiness', 'Surprise'],  # Positive\n",
    "    0: ['Neutral'],  # Neutral\n",
    "    2: ['Anger', 'Disgust', 'Fear', 'Sadness', 'Contempt']  # Negative\n",
    "}\n",
    "\n",
    "# Create a dictionary to map old labels to new labels\n",
    "new_label_mapping = {}\n",
    "for new_label, old_classes in new_classes.items():\n",
    "    for old_label, old_class in label_to_text.items():\n",
    "        if old_class in old_classes:\n",
    "            new_label_mapping[old_label] = new_label"
   ]
  },
  {
   "cell_type": "code",
   "execution_count": 4,
   "metadata": {},
   "outputs": [],
   "source": [
    "img_array = df.pixels.apply(lambda x: np.array(x.split(\" \")).reshape(48,48,1).astype('float32'))\n",
    "img_array = np.stack(img_array, axis=0)\n",
    "labels = df.emotion.values"
   ]
  },
  {
   "cell_type": "code",
   "execution_count": 5,
   "metadata": {},
   "outputs": [
    {
     "data": {
      "text/plain": [
       "(920, 48, 48, 1)"
      ]
     },
     "execution_count": 5,
     "metadata": {},
     "output_type": "execute_result"
    }
   ],
   "source": [
    "img_array.shape"
   ]
  },
  {
   "cell_type": "code",
   "execution_count": 6,
   "metadata": {},
   "outputs": [],
   "source": [
    "X_train, X_test, y_train, y_test = train_test_split(img_array, labels, test_size= .2)"
   ]
  },
  {
   "cell_type": "code",
   "execution_count": 7,
   "metadata": {},
   "outputs": [],
   "source": [
    "X_train = X_train/255\n",
    "X_test = X_test/255"
   ]
  },
  {
   "cell_type": "code",
   "execution_count": 8,
   "metadata": {},
   "outputs": [],
   "source": [
    "# Flatten the input data\n",
    "X_train_flattened = X_train.reshape(X_train.shape[0], -1)\n",
    "X_test_flattened = X_test.reshape(X_test.shape[0], -1)\n",
    "\n",
    "# Normalize your data\n",
    "scaler = StandardScaler()\n",
    "X_train_normalized = scaler.fit_transform(X_train_flattened)\n",
    "X_test_normalized = scaler.transform(X_test_flattened)\n",
    "\n",
    "# Reshape the data back to its original shape\n",
    "X_train_normalized = X_train_normalized.reshape(X_train.shape)\n",
    "X_test_normalized = X_test_normalized.reshape(X_test.shape)"
   ]
  },
  {
   "cell_type": "code",
   "execution_count": 9,
   "metadata": {},
   "outputs": [],
   "source": [
    "# Update the labels using the new label mapping\n",
    "y_train_updated = np.array([new_label_mapping[label] for label in y_train])\n",
    "y_test_updated = np.array([new_label_mapping[label] for label in y_test])"
   ]
  },
  {
   "cell_type": "code",
   "execution_count": 11,
   "metadata": {},
   "outputs": [],
   "source": [
    "basemodel = tf.keras.models.Sequential([\n",
    "    tf.keras.layers.Conv2D(32, (3, 3), activation='relu', input_shape=(48, 48, 1)),\n",
    "    tf.keras.layers.BatchNormalization(),\n",
    "    tf.keras.layers.MaxPool2D(2, 2),\n",
    "    tf.keras.layers.Conv2D(64, (3, 3), activation='relu'),\n",
    "    tf.keras.layers.BatchNormalization(),\n",
    "    tf.keras.layers.MaxPool2D(2, 2),\n",
    "    tf.keras.layers.Flatten(),\n",
    "    tf.keras.layers.Dense(128, activation='relu'),\n",
    "    tf.keras.layers.BatchNormalization(),\n",
    "    tf.keras.layers.Dropout(0.5),\n",
    "    tf.keras.layers.Dense(3, activation='linear')\n",
    "])"
   ]
  },
  {
   "cell_type": "code",
   "execution_count": 12,
   "metadata": {},
   "outputs": [
    {
     "name": "stdout",
     "output_type": "stream",
     "text": [
      "Model: \"sequential\"\n",
      "_________________________________________________________________\n",
      " Layer (type)                Output Shape              Param #   \n",
      "=================================================================\n",
      " conv2d (Conv2D)             (None, 46, 46, 32)        320       \n",
      "                                                                 \n",
      " batch_normalization (Batch  (None, 46, 46, 32)        128       \n",
      " Normalization)                                                  \n",
      "                                                                 \n",
      " max_pooling2d (MaxPooling2  (None, 23, 23, 32)        0         \n",
      " D)                                                              \n",
      "                                                                 \n",
      " conv2d_1 (Conv2D)           (None, 21, 21, 64)        18496     \n",
      "                                                                 \n",
      " batch_normalization_1 (Bat  (None, 21, 21, 64)        256       \n",
      " chNormalization)                                                \n",
      "                                                                 \n",
      " max_pooling2d_1 (MaxPoolin  (None, 10, 10, 64)        0         \n",
      " g2D)                                                            \n",
      "                                                                 \n",
      " flatten (Flatten)           (None, 6400)              0         \n",
      "                                                                 \n",
      " dense (Dense)               (None, 128)               819328    \n",
      "                                                                 \n",
      " batch_normalization_2 (Bat  (None, 128)               512       \n",
      " chNormalization)                                                \n",
      "                                                                 \n",
      " dropout (Dropout)           (None, 128)               0         \n",
      "                                                                 \n",
      " dense_1 (Dense)             (None, 3)                 387       \n",
      "                                                                 \n",
      "=================================================================\n",
      "Total params: 839427 (3.20 MB)\n",
      "Trainable params: 838979 (3.20 MB)\n",
      "Non-trainable params: 448 (1.75 KB)\n",
      "_________________________________________________________________\n"
     ]
    }
   ],
   "source": [
    "basemodel.summary()"
   ]
  },
  {
   "cell_type": "code",
   "execution_count": 13,
   "metadata": {},
   "outputs": [],
   "source": [
    "initial_learning_rate = 0.001  # You can adjust this value\n",
    "optimizer = tf.keras.optimizers.Adam(learning_rate=initial_learning_rate)\n",
    "basemodel.compile(optimizer=optimizer,\n",
    "                loss=tf.keras.losses.SparseCategoricalCrossentropy(from_logits=True),\n",
    "                metrics=['accuracy'])"
   ]
  },
  {
   "cell_type": "code",
   "execution_count": 14,
   "metadata": {},
   "outputs": [],
   "source": [
    "# def lr_schedule(epoch):\n",
    "#     if epoch < 20:\n",
    "#         return initial_learning_rate\n",
    "#     else:\n",
    "#         return initial_learning_rate * 0.1\n",
    "\n",
    "reduce_lr = ReduceLROnPlateau(\n",
    "    monitor='val_loss',  # Monitor validation loss\n",
    "    factor=0.5,          # Reduce the learning rate by a factor of 0.5\n",
    "    patience=5,          # If no improvement after 5 epochs, reduce the learning rate\n",
    "    min_lr=1e-6          # Minimum learning rate\n",
    ")"
   ]
  },
  {
   "cell_type": "code",
   "execution_count": 15,
   "metadata": {},
   "outputs": [],
   "source": [
    "file_name = 'best_model_with_reducelronplateau.h5'\n",
    "checkpoint_path= os.path.join('checkpoint',file_name)\n",
    "\n",
    "\n",
    "call_back = [\n",
    "    tf.keras.callbacks.ModelCheckpoint(filepath=checkpoint_path,\n",
    "                                        monitor='val_accuracy',\n",
    "                                        verbose=1,\n",
    "                                        save_freq='epoch',\n",
    "                                        save_best_only=True,\n",
    "                                        save_weights_only=False,\n",
    "                                        mode='max'),\n",
    "    tf.keras.callbacks.EarlyStopping(\n",
    "        monitor='val_accuracy',\n",
    "        patience=20,\n",
    "        restore_best_weights=True\n",
    "    ),\n",
    "    # tf.keras.callbacks.LearningRateScheduler(lr_schedule)\n",
    "    reduce_lr\n",
    "]"
   ]
  },
  {
   "cell_type": "code",
   "execution_count": 16,
   "metadata": {},
   "outputs": [
    {
     "name": "stdout",
     "output_type": "stream",
     "text": [
      "Epoch 1/50\n"
     ]
    },
    {
     "name": "stdout",
     "output_type": "stream",
     "text": [
      "91/92 [============================>.] - ETA: 0s - loss: 1.1579 - accuracy: 0.5852\n",
      "Epoch 1: val_accuracy improved from -inf to 0.67935, saving model to checkpoint\\best_model_with_reducelronplateau.h5\n",
      "92/92 [==============================] - 4s 31ms/step - loss: 1.1567 - accuracy: 0.5856 - val_loss: 1.1132 - val_accuracy: 0.6793 - lr: 0.0010\n",
      "Epoch 2/50\n",
      " 3/92 [..............................] - ETA: 2s - loss: 0.7610 - accuracy: 0.7500"
     ]
    },
    {
     "name": "stderr",
     "output_type": "stream",
     "text": [
      "C:\\Users\\vince\\AppData\\Local\\Packages\\PythonSoftwareFoundation.Python.3.10_qbz5n2kfra8p0\\LocalCache\\local-packages\\Python310\\site-packages\\keras\\src\\engine\\training.py:3079: UserWarning: You are saving your model as an HDF5 file via `model.save()`. This file format is considered legacy. We recommend using instead the native Keras format, e.g. `model.save('my_model.keras')`.\n",
      "  saving_api.save_model(\n"
     ]
    },
    {
     "name": "stdout",
     "output_type": "stream",
     "text": [
      "92/92 [==============================] - ETA: 0s - loss: 0.7085 - accuracy: 0.7473\n",
      "Epoch 2: val_accuracy did not improve from 0.67935\n",
      "92/92 [==============================] - 3s 32ms/step - loss: 0.7085 - accuracy: 0.7473 - val_loss: 2.4312 - val_accuracy: 0.6793 - lr: 0.0010\n",
      "Epoch 3/50\n",
      "91/92 [============================>.] - ETA: 0s - loss: 0.6007 - accuracy: 0.7761\n",
      "Epoch 3: val_accuracy did not improve from 0.67935\n",
      "92/92 [==============================] - 3s 29ms/step - loss: 0.6031 - accuracy: 0.7745 - val_loss: 2.4943 - val_accuracy: 0.6793 - lr: 0.0010\n",
      "Epoch 4/50\n",
      "91/92 [============================>.] - ETA: 0s - loss: 0.4981 - accuracy: 0.8104\n",
      "Epoch 4: val_accuracy improved from 0.67935 to 0.71196, saving model to checkpoint\\best_model_with_reducelronplateau.h5\n",
      "92/92 [==============================] - 3s 31ms/step - loss: 0.4964 - accuracy: 0.8111 - val_loss: 0.9280 - val_accuracy: 0.7120 - lr: 0.0010\n",
      "Epoch 5/50\n",
      "90/92 [============================>.] - ETA: 0s - loss: 0.4019 - accuracy: 0.8458\n",
      "Epoch 5: val_accuracy improved from 0.71196 to 0.84783, saving model to checkpoint\\best_model_with_reducelronplateau.h5\n",
      "92/92 [==============================] - 2s 27ms/step - loss: 0.3985 - accuracy: 0.8465 - val_loss: 0.4106 - val_accuracy: 0.8478 - lr: 0.0010\n",
      "Epoch 6/50\n",
      "92/92 [==============================] - ETA: 0s - loss: 0.2931 - accuracy: 0.8967\n",
      "Epoch 6: val_accuracy improved from 0.84783 to 0.90217, saving model to checkpoint\\best_model_with_reducelronplateau.h5\n",
      "92/92 [==============================] - 3s 30ms/step - loss: 0.2931 - accuracy: 0.8967 - val_loss: 0.3109 - val_accuracy: 0.9022 - lr: 0.0010\n",
      "Epoch 7/50\n",
      "91/92 [============================>.] - ETA: 0s - loss: 0.3109 - accuracy: 0.8805\n",
      "Epoch 7: val_accuracy improved from 0.90217 to 0.90761, saving model to checkpoint\\best_model_with_reducelronplateau.h5\n",
      "92/92 [==============================] - 3s 34ms/step - loss: 0.3091 - accuracy: 0.8804 - val_loss: 0.2600 - val_accuracy: 0.9076 - lr: 0.0010\n",
      "Epoch 8/50\n",
      "91/92 [============================>.] - ETA: 0s - loss: 0.2003 - accuracy: 0.9272\n",
      "Epoch 8: val_accuracy improved from 0.90761 to 0.91304, saving model to checkpoint\\best_model_with_reducelronplateau.h5\n",
      "92/92 [==============================] - 3s 29ms/step - loss: 0.1990 - accuracy: 0.9280 - val_loss: 0.2732 - val_accuracy: 0.9130 - lr: 0.0010\n",
      "Epoch 9/50\n",
      "92/92 [==============================] - ETA: 0s - loss: 0.1535 - accuracy: 0.9402\n",
      "Epoch 9: val_accuracy did not improve from 0.91304\n",
      "92/92 [==============================] - 3s 29ms/step - loss: 0.1535 - accuracy: 0.9402 - val_loss: 0.2399 - val_accuracy: 0.9076 - lr: 0.0010\n",
      "Epoch 10/50\n",
      "91/92 [============================>.] - ETA: 0s - loss: 0.2041 - accuracy: 0.9245\n",
      "Epoch 10: val_accuracy did not improve from 0.91304\n",
      "92/92 [==============================] - 3s 29ms/step - loss: 0.2059 - accuracy: 0.9239 - val_loss: 0.3719 - val_accuracy: 0.8696 - lr: 0.0010\n",
      "Epoch 11/50\n",
      "92/92 [==============================] - ETA: 0s - loss: 0.2121 - accuracy: 0.9185\n",
      "Epoch 11: val_accuracy did not improve from 0.91304\n",
      "92/92 [==============================] - 3s 28ms/step - loss: 0.2121 - accuracy: 0.9185 - val_loss: 0.2267 - val_accuracy: 0.9022 - lr: 0.0010\n",
      "Epoch 12/50\n",
      "92/92 [==============================] - ETA: 0s - loss: 0.1479 - accuracy: 0.9538\n",
      "Epoch 12: val_accuracy did not improve from 0.91304\n",
      "92/92 [==============================] - 2s 27ms/step - loss: 0.1479 - accuracy: 0.9538 - val_loss: 0.2429 - val_accuracy: 0.8967 - lr: 0.0010\n",
      "Epoch 13/50\n",
      "91/92 [============================>.] - ETA: 0s - loss: 0.1755 - accuracy: 0.9313\n",
      "Epoch 13: val_accuracy did not improve from 0.91304\n",
      "92/92 [==============================] - 2s 27ms/step - loss: 0.1748 - accuracy: 0.9321 - val_loss: 0.3538 - val_accuracy: 0.8587 - lr: 0.0010\n",
      "Epoch 14/50\n",
      "92/92 [==============================] - ETA: 0s - loss: 0.1599 - accuracy: 0.9524\n",
      "Epoch 14: val_accuracy improved from 0.91304 to 0.92935, saving model to checkpoint\\best_model_with_reducelronplateau.h5\n",
      "92/92 [==============================] - 3s 28ms/step - loss: 0.1599 - accuracy: 0.9524 - val_loss: 0.2151 - val_accuracy: 0.9293 - lr: 0.0010\n",
      "Epoch 15/50\n",
      "92/92 [==============================] - ETA: 0s - loss: 0.1871 - accuracy: 0.9389\n",
      "Epoch 15: val_accuracy did not improve from 0.92935\n",
      "92/92 [==============================] - 3s 29ms/step - loss: 0.1871 - accuracy: 0.9389 - val_loss: 0.2378 - val_accuracy: 0.9185 - lr: 0.0010\n",
      "Epoch 16/50\n",
      "91/92 [============================>.] - ETA: 0s - loss: 0.1502 - accuracy: 0.9533\n",
      "Epoch 16: val_accuracy did not improve from 0.92935\n",
      "92/92 [==============================] - 3s 28ms/step - loss: 0.1489 - accuracy: 0.9538 - val_loss: 0.2066 - val_accuracy: 0.9239 - lr: 0.0010\n",
      "Epoch 17/50\n",
      "91/92 [============================>.] - ETA: 0s - loss: 0.0842 - accuracy: 0.9725\n",
      "Epoch 17: val_accuracy improved from 0.92935 to 0.94022, saving model to checkpoint\\best_model_with_reducelronplateau.h5\n",
      "92/92 [==============================] - 3s 29ms/step - loss: 0.0836 - accuracy: 0.9728 - val_loss: 0.1926 - val_accuracy: 0.9402 - lr: 0.0010\n",
      "Epoch 18/50\n",
      "92/92 [==============================] - ETA: 0s - loss: 0.0843 - accuracy: 0.9728\n",
      "Epoch 18: val_accuracy did not improve from 0.94022\n",
      "92/92 [==============================] - 3s 28ms/step - loss: 0.0843 - accuracy: 0.9728 - val_loss: 0.1905 - val_accuracy: 0.9239 - lr: 0.0010\n",
      "Epoch 19/50\n",
      "92/92 [==============================] - ETA: 0s - loss: 0.1157 - accuracy: 0.9538\n",
      "Epoch 19: val_accuracy improved from 0.94022 to 0.94565, saving model to checkpoint\\best_model_with_reducelronplateau.h5\n",
      "92/92 [==============================] - 3s 28ms/step - loss: 0.1157 - accuracy: 0.9538 - val_loss: 0.1674 - val_accuracy: 0.9457 - lr: 0.0010\n",
      "Epoch 20/50\n",
      "92/92 [==============================] - ETA: 0s - loss: 0.1285 - accuracy: 0.9497\n",
      "Epoch 20: val_accuracy did not improve from 0.94565\n",
      "92/92 [==============================] - 3s 29ms/step - loss: 0.1285 - accuracy: 0.9497 - val_loss: 0.2417 - val_accuracy: 0.9185 - lr: 0.0010\n",
      "Epoch 21/50\n",
      "91/92 [============================>.] - ETA: 0s - loss: 0.1070 - accuracy: 0.9588\n",
      "Epoch 21: val_accuracy did not improve from 0.94565\n",
      "92/92 [==============================] - 3s 28ms/step - loss: 0.1058 - accuracy: 0.9592 - val_loss: 0.1683 - val_accuracy: 0.9293 - lr: 0.0010\n",
      "Epoch 22/50\n",
      "92/92 [==============================] - ETA: 0s - loss: 0.0677 - accuracy: 0.9837\n",
      "Epoch 22: val_accuracy did not improve from 0.94565\n",
      "92/92 [==============================] - 3s 29ms/step - loss: 0.0677 - accuracy: 0.9837 - val_loss: 0.1780 - val_accuracy: 0.9293 - lr: 0.0010\n",
      "Epoch 23/50\n",
      "92/92 [==============================] - ETA: 0s - loss: 0.0924 - accuracy: 0.9606\n",
      "Epoch 23: val_accuracy did not improve from 0.94565\n",
      "92/92 [==============================] - 3s 28ms/step - loss: 0.0924 - accuracy: 0.9606 - val_loss: 0.2472 - val_accuracy: 0.9185 - lr: 0.0010\n",
      "Epoch 24/50\n",
      "92/92 [==============================] - ETA: 0s - loss: 0.0760 - accuracy: 0.9783\n",
      "Epoch 24: val_accuracy did not improve from 0.94565\n",
      "92/92 [==============================] - 3s 28ms/step - loss: 0.0760 - accuracy: 0.9783 - val_loss: 0.1969 - val_accuracy: 0.9293 - lr: 0.0010\n",
      "Epoch 25/50\n",
      "92/92 [==============================] - ETA: 0s - loss: 0.0652 - accuracy: 0.9742\n",
      "Epoch 25: val_accuracy did not improve from 0.94565\n",
      "92/92 [==============================] - 3s 33ms/step - loss: 0.0652 - accuracy: 0.9742 - val_loss: 0.1731 - val_accuracy: 0.9348 - lr: 5.0000e-04\n",
      "Epoch 26/50\n",
      "91/92 [============================>.] - ETA: 0s - loss: 0.0662 - accuracy: 0.9780\n",
      "Epoch 26: val_accuracy did not improve from 0.94565\n",
      "92/92 [==============================] - 3s 30ms/step - loss: 0.0657 - accuracy: 0.9783 - val_loss: 0.1906 - val_accuracy: 0.9239 - lr: 5.0000e-04\n",
      "Epoch 27/50\n",
      "91/92 [============================>.] - ETA: 0s - loss: 0.0575 - accuracy: 0.9821\n",
      "Epoch 27: val_accuracy did not improve from 0.94565\n",
      "92/92 [==============================] - 3s 28ms/step - loss: 0.0570 - accuracy: 0.9823 - val_loss: 0.1795 - val_accuracy: 0.9457 - lr: 5.0000e-04\n",
      "Epoch 28/50\n",
      "91/92 [============================>.] - ETA: 0s - loss: 0.0341 - accuracy: 0.9890\n",
      "Epoch 28: val_accuracy did not improve from 0.94565\n",
      "92/92 [==============================] - 3s 28ms/step - loss: 0.0338 - accuracy: 0.9891 - val_loss: 0.1809 - val_accuracy: 0.9457 - lr: 5.0000e-04\n",
      "Epoch 29/50\n",
      "91/92 [============================>.] - ETA: 0s - loss: 0.0335 - accuracy: 0.9931\n",
      "Epoch 29: val_accuracy did not improve from 0.94565\n",
      "92/92 [==============================] - 3s 28ms/step - loss: 0.0332 - accuracy: 0.9932 - val_loss: 0.1983 - val_accuracy: 0.9402 - lr: 5.0000e-04\n",
      "Epoch 30/50\n",
      "91/92 [============================>.] - ETA: 0s - loss: 0.0265 - accuracy: 0.9959\n",
      "Epoch 30: val_accuracy did not improve from 0.94565\n",
      "92/92 [==============================] - 3s 28ms/step - loss: 0.0262 - accuracy: 0.9959 - val_loss: 0.1972 - val_accuracy: 0.9348 - lr: 2.5000e-04\n",
      "Epoch 31/50\n",
      "91/92 [============================>.] - ETA: 0s - loss: 0.0208 - accuracy: 0.9959\n",
      "Epoch 31: val_accuracy did not improve from 0.94565\n",
      "92/92 [==============================] - 3s 28ms/step - loss: 0.0214 - accuracy: 0.9959 - val_loss: 0.1993 - val_accuracy: 0.9402 - lr: 2.5000e-04\n",
      "Epoch 32/50\n",
      "92/92 [==============================] - ETA: 0s - loss: 0.0300 - accuracy: 0.9905\n",
      "Epoch 32: val_accuracy did not improve from 0.94565\n",
      "92/92 [==============================] - 3s 28ms/step - loss: 0.0300 - accuracy: 0.9905 - val_loss: 0.1853 - val_accuracy: 0.9457 - lr: 2.5000e-04\n",
      "Epoch 33/50\n",
      "92/92 [==============================] - ETA: 0s - loss: 0.0424 - accuracy: 0.9878\n",
      "Epoch 33: val_accuracy did not improve from 0.94565\n",
      "92/92 [==============================] - 3s 28ms/step - loss: 0.0424 - accuracy: 0.9878 - val_loss: 0.1816 - val_accuracy: 0.9402 - lr: 2.5000e-04\n",
      "Epoch 34/50\n",
      "91/92 [============================>.] - ETA: 0s - loss: 0.0152 - accuracy: 0.9959\n",
      "Epoch 34: val_accuracy improved from 0.94565 to 0.95109, saving model to checkpoint\\best_model_with_reducelronplateau.h5\n",
      "92/92 [==============================] - 3s 29ms/step - loss: 0.0150 - accuracy: 0.9959 - val_loss: 0.1819 - val_accuracy: 0.9511 - lr: 2.5000e-04\n",
      "Epoch 35/50\n",
      "91/92 [============================>.] - ETA: 0s - loss: 0.0240 - accuracy: 0.9918\n",
      "Epoch 35: val_accuracy did not improve from 0.95109\n",
      "92/92 [==============================] - 3s 28ms/step - loss: 0.0238 - accuracy: 0.9918 - val_loss: 0.1821 - val_accuracy: 0.9457 - lr: 1.2500e-04\n",
      "Epoch 36/50\n",
      "90/92 [============================>.] - ETA: 0s - loss: 0.0205 - accuracy: 0.9931\n",
      "Epoch 36: val_accuracy did not improve from 0.95109\n",
      "92/92 [==============================] - 3s 28ms/step - loss: 0.0202 - accuracy: 0.9932 - val_loss: 0.1867 - val_accuracy: 0.9402 - lr: 1.2500e-04\n",
      "Epoch 37/50\n",
      "91/92 [============================>.] - ETA: 0s - loss: 0.0301 - accuracy: 0.9876\n",
      "Epoch 37: val_accuracy did not improve from 0.95109\n",
      "92/92 [==============================] - 3s 29ms/step - loss: 0.0298 - accuracy: 0.9878 - val_loss: 0.1743 - val_accuracy: 0.9457 - lr: 1.2500e-04\n",
      "Epoch 38/50\n",
      "91/92 [============================>.] - ETA: 0s - loss: 0.0294 - accuracy: 0.9904\n",
      "Epoch 38: val_accuracy did not improve from 0.95109\n",
      "92/92 [==============================] - 3s 28ms/step - loss: 0.0290 - accuracy: 0.9905 - val_loss: 0.1845 - val_accuracy: 0.9511 - lr: 1.2500e-04\n",
      "Epoch 39/50\n",
      "92/92 [==============================] - ETA: 0s - loss: 0.0441 - accuracy: 0.9851\n",
      "Epoch 39: val_accuracy did not improve from 0.95109\n",
      "92/92 [==============================] - 3s 28ms/step - loss: 0.0441 - accuracy: 0.9851 - val_loss: 0.1784 - val_accuracy: 0.9457 - lr: 1.2500e-04\n",
      "Epoch 40/50\n",
      "91/92 [============================>.] - ETA: 0s - loss: 0.0229 - accuracy: 0.9945\n",
      "Epoch 40: val_accuracy did not improve from 0.95109\n",
      "92/92 [==============================] - 2s 27ms/step - loss: 0.0226 - accuracy: 0.9946 - val_loss: 0.1805 - val_accuracy: 0.9457 - lr: 6.2500e-05\n",
      "Epoch 41/50\n",
      "92/92 [==============================] - ETA: 0s - loss: 0.0271 - accuracy: 0.9946\n",
      "Epoch 41: val_accuracy did not improve from 0.95109\n",
      "92/92 [==============================] - 3s 28ms/step - loss: 0.0271 - accuracy: 0.9946 - val_loss: 0.1858 - val_accuracy: 0.9348 - lr: 6.2500e-05\n",
      "Epoch 42/50\n",
      "91/92 [============================>.] - ETA: 0s - loss: 0.0200 - accuracy: 0.9973\n",
      "Epoch 42: val_accuracy did not improve from 0.95109\n",
      "92/92 [==============================] - 3s 28ms/step - loss: 0.0199 - accuracy: 0.9973 - val_loss: 0.1859 - val_accuracy: 0.9457 - lr: 6.2500e-05\n",
      "Epoch 43/50\n",
      "92/92 [==============================] - ETA: 0s - loss: 0.0133 - accuracy: 0.9986\n",
      "Epoch 43: val_accuracy did not improve from 0.95109\n",
      "92/92 [==============================] - 3s 27ms/step - loss: 0.0133 - accuracy: 0.9986 - val_loss: 0.1830 - val_accuracy: 0.9511 - lr: 6.2500e-05\n",
      "Epoch 44/50\n",
      "92/92 [==============================] - ETA: 0s - loss: 0.0283 - accuracy: 0.9932\n",
      "Epoch 44: val_accuracy did not improve from 0.95109\n",
      "92/92 [==============================] - 2s 27ms/step - loss: 0.0283 - accuracy: 0.9932 - val_loss: 0.1795 - val_accuracy: 0.9511 - lr: 6.2500e-05\n",
      "Epoch 45/50\n",
      "91/92 [============================>.] - ETA: 0s - loss: 0.0214 - accuracy: 0.9945\n",
      "Epoch 45: val_accuracy did not improve from 0.95109\n",
      "92/92 [==============================] - 3s 28ms/step - loss: 0.0212 - accuracy: 0.9946 - val_loss: 0.1780 - val_accuracy: 0.9511 - lr: 3.1250e-05\n",
      "Epoch 46/50\n",
      "92/92 [==============================] - ETA: 0s - loss: 0.0324 - accuracy: 0.9932\n",
      "Epoch 46: val_accuracy did not improve from 0.95109\n",
      "92/92 [==============================] - 3s 27ms/step - loss: 0.0324 - accuracy: 0.9932 - val_loss: 0.1781 - val_accuracy: 0.9511 - lr: 3.1250e-05\n",
      "Epoch 47/50\n",
      "92/92 [==============================] - ETA: 0s - loss: 0.0195 - accuracy: 0.9973\n",
      "Epoch 47: val_accuracy did not improve from 0.95109\n",
      "92/92 [==============================] - 2s 27ms/step - loss: 0.0195 - accuracy: 0.9973 - val_loss: 0.1789 - val_accuracy: 0.9511 - lr: 3.1250e-05\n",
      "Epoch 48/50\n",
      "90/92 [============================>.] - ETA: 0s - loss: 0.0095 - accuracy: 1.0000\n",
      "Epoch 48: val_accuracy did not improve from 0.95109\n",
      "92/92 [==============================] - 3s 28ms/step - loss: 0.0098 - accuracy: 1.0000 - val_loss: 0.1807 - val_accuracy: 0.9511 - lr: 3.1250e-05\n",
      "Epoch 49/50\n",
      "92/92 [==============================] - ETA: 0s - loss: 0.0135 - accuracy: 0.9986\n",
      "Epoch 49: val_accuracy did not improve from 0.95109\n",
      "92/92 [==============================] - 3s 28ms/step - loss: 0.0135 - accuracy: 0.9986 - val_loss: 0.1818 - val_accuracy: 0.9511 - lr: 3.1250e-05\n",
      "Epoch 50/50\n",
      "92/92 [==============================] - ETA: 0s - loss: 0.0478 - accuracy: 0.9810\n",
      "Epoch 50: val_accuracy did not improve from 0.95109\n",
      "92/92 [==============================] - 3s 28ms/step - loss: 0.0478 - accuracy: 0.9810 - val_loss: 0.1847 - val_accuracy: 0.9511 - lr: 1.5625e-05\n"
     ]
    }
   ],
   "source": [
    "history = basemodel.fit(X_train_normalized, y_train_updated,\n",
    "                        epochs=50,\n",
    "                        batch_size=8,\n",
    "                        validation_data=(X_test_normalized, y_test_updated),\n",
    "                        callbacks=call_back)"
   ]
  },
  {
   "cell_type": "code",
   "execution_count": 17,
   "metadata": {},
   "outputs": [
    {
     "data": {
      "text/plain": [
       "<matplotlib.legend.Legend at 0x1dc4b941240>"
      ]
     },
     "execution_count": 17,
     "metadata": {},
     "output_type": "execute_result"
    },
    {
     "data": {
      "image/png": "[encoded data removed]",
      "text/plain": [
       "<Figure size 640x480 with 1 Axes>"
      ]
     },
     "metadata": {},
     "output_type": "display_data"
    }
   ],
   "source": [
    "# Plot loss per iteration\n",
    "import matplotlib.pyplot as plt\n",
    "plt.plot(history.history['loss'], label='loss')\n",
    "plt.plot(history.history['val_loss'], label='val_loss')\n",
    "plt.legend()"
   ]
  },
  {
   "cell_type": "code",
   "execution_count": 18,
   "metadata": {},
   "outputs": [
    {
     "data": {
      "text/plain": [
       "<matplotlib.legend.Legend at 0x1dc51f17f40>"
      ]
     },
     "execution_count": 18,
     "metadata": {},
     "output_type": "execute_result"
    },
    {
     "data": {
      "image/png": "[encoded data removed]",
      "text/plain": [
       "<Figure size 640x480 with 1 Axes>"
      ]
     },
     "metadata": {},
     "output_type": "display_data"
    }
   ],
   "source": [
    "# Plot accuracy per iteration\n",
    "plt.plot(history.history['accuracy'], label='acc')\n",
    "plt.plot(history.history['val_accuracy'], label='val_acc')\n",
    "plt.legend()"
   ]
  },
  {
   "cell_type": "code",
   "execution_count": 19,
   "metadata": {},
   "outputs": [
    {
     "name": "stdout",
     "output_type": "stream",
     "text": [
      "6/6 [==============================] - 0s 14ms/step\n",
      "Confusion matrix, without normalization\n",
      "[[  0   0  13   0   0   0   0   0]\n",
      " [  0   0  13   0   0   0   0   0]\n",
      " [  0   0   4   0   0   0   0   0]\n",
      " [  1   0   8   0   0   0   0   0]\n",
      " [  0   0   2   0   0   0   0   0]\n",
      " [  0   0  15   0   0   0   0   0]\n",
      " [  0   0 125   0   0   0   0   0]\n",
      " [  0   0   3   0   0   0   0   0]]\n"
     ]
    },
    {
     "data": {
      "image/png": "[encoded data removed]",
      "text/plain": [
       "<Figure size 640x480 with 2 Axes>"
      ]
     },
     "metadata": {},
     "output_type": "display_data"
    }
   ],
   "source": [
    "# Plot confusion matrix\n",
    "from sklearn.metrics import confusion_matrix\n",
    "import itertools\n",
    "\n",
    "def plot_confusion_matrix(cm, classes,\n",
    "                          normalize=False,\n",
    "                          title='Confusion matrix',\n",
    "                          cmap=plt.cm.Blues):\n",
    "  \"\"\"\n",
    "  This function prints and plots the confusion matrix.\n",
    "  Normalization can be applied by setting `normalize=True`.\n",
    "  \"\"\"\n",
    "  if normalize:\n",
    "      cm = cm.astype('float') / cm.sum(axis=1)[:, np.newaxis]\n",
    "      print(\"Normalized confusion matrix\")\n",
    "  else:\n",
    "      print('Confusion matrix, without normalization')\n",
    "\n",
    "  print(cm)\n",
    "\n",
    "  plt.imshow(cm, interpolation='nearest', cmap=cmap)\n",
    "  plt.title(title)\n",
    "  plt.colorbar()\n",
    "  tick_marks = np.arange(len(classes))\n",
    "  plt.xticks(tick_marks, classes, rotation=45)\n",
    "  plt.yticks(tick_marks, classes)\n",
    "\n",
    "  fmt = '.2f' if normalize else 'd'\n",
    "  thresh = cm.max() / 2.\n",
    "  for i, j in itertools.product(range(cm.shape[0]), range(cm.shape[1])):\n",
    "      plt.text(j, i, format(cm[i, j], fmt),\n",
    "               horizontalalignment=\"center\",\n",
    "               color=\"white\" if cm[i, j] > thresh else \"black\")\n",
    "\n",
    "  plt.tight_layout()\n",
    "  plt.ylabel('True label')\n",
    "  plt.xlabel('Predicted label')\n",
    "  plt.show()\n",
    "\n",
    "\n",
    "p_test = basemodel.predict(X_test).argmax(axis=1)\n",
    "cm = confusion_matrix(y_test, p_test)\n",
    "plot_confusion_matrix(cm, list(range(3)))"
   ]
  },
  {
   "cell_type": "code",
   "execution_count": 20,
   "metadata": {},
   "outputs": [
    {
     "data": {
      "text/plain": [
       "'checkpoint\\\\best_model_with_reducelronplateau.h5'"
      ]
     },
     "execution_count": 20,
     "metadata": {},
     "output_type": "execute_result"
    }
   ],
   "source": [
    "checkpoint_path"
   ]
  },
  {
   "cell_type": "code",
   "execution_count": 21,
   "metadata": {},
   "outputs": [],
   "source": [
    "# final_model = tf.keras.models.load_model(checkpoint_path)\n",
    "# from IPython.display import clear_output\n",
    "# import time\n",
    "\n",
    "# for k in range(40):\n",
    "#         print(f'actual label is {label_to_text[y_test[k]]}')\n",
    "#         predicted_class = final_model.predict(tf.expand_dims(X_test[k],0)).argmax()\n",
    "#         print(f'predicted label is {label_to_text[predicted_class]}')\n",
    "#         pyplot.imshow(X_test[k].reshape((48,48)))\n",
    "#         pyplot.show()\n",
    "#         time.sleep(3)\n",
    "#         clear_output(wait=True)"
   ]
  }
 ],
 "metadata": {
  "kernelspec": {
   "display_name": "Python 3",
   "language": "python",
   "name": "python3"
  },
  "language_info": {
   "codemirror_mode": {
    "name": "ipython",
    "version": 3
   },
   "file_extension": ".py",
   "mimetype": "text/x-python",
   "name": "python",
   "nbconvert_exporter": "python",
   "pygments_lexer": "ipython3",
   "version": "3.10.11"
  },
  "orig_nbformat": 4
 },
 "nbformat": 4,
 "nbformat_minor": 2
}
