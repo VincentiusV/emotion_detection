{
 "cells": [
  {
   "cell_type": "markdown",
   "metadata": {},
   "source": [
    "CK+ - CNN"
   ]
  },
  {
   "cell_type": "code",
   "execution_count": 21,
   "metadata": {},
   "outputs": [],
   "source": [
    "import os\n",
    "import pandas as pd\n",
    "import numpy as np\n",
    "import tensorflow as tf\n",
    "from matplotlib import pyplot\n",
    "from sklearn.model_selection import train_test_split\n",
    "from sklearn.preprocessing import StandardScaler\n",
    "from tensorflow.keras.callbacks import ReduceLROnPlateau"
   ]
  },
  {
   "cell_type": "code",
   "execution_count": 22,
   "metadata": {},
   "outputs": [
    {
     "data": {
      "text/html": [
       "<div>\n",
       "<style scoped>\n",
       "    .dataframe tbody tr th:only-of-type {\n",
       "        vertical-align: middle;\n",
       "    }\n",
       "\n",
       "    .dataframe tbody tr th {\n",
       "        vertical-align: top;\n",
       "    }\n",
       "\n",
       "    .dataframe thead th {\n",
       "        text-align: right;\n",
       "    }\n",
       "</style>\n",
       "<table border=\"1\" class=\"dataframe\">\n",
       "  <thead>\n",
       "    <tr style=\"text-align: right;\">\n",
       "      <th></th>\n",
       "      <th>emotion</th>\n",
       "      <th>pixels</th>\n",
       "      <th>Usage</th>\n",
       "    </tr>\n",
       "  </thead>\n",
       "  <tbody>\n",
       "    <tr>\n",
       "      <th>0</th>\n",
       "      <td>6</td>\n",
       "      <td>36 39 35 25 19 11 8 7 3 13 15 9 21 57 75 90 10...</td>\n",
       "      <td>Training</td>\n",
       "    </tr>\n",
       "    <tr>\n",
       "      <th>1</th>\n",
       "      <td>6</td>\n",
       "      <td>88 74 19 4 5 5 3 12 8 21 15 21 15 18 24 29 32 ...</td>\n",
       "      <td>Training</td>\n",
       "    </tr>\n",
       "    <tr>\n",
       "      <th>2</th>\n",
       "      <td>6</td>\n",
       "      <td>9 2 4 7 1 1 1 0 7 29 49 76 115 141 156 169 177...</td>\n",
       "      <td>Training</td>\n",
       "    </tr>\n",
       "    <tr>\n",
       "      <th>3</th>\n",
       "      <td>6</td>\n",
       "      <td>104 106 108 104 95 50 60 61 58 83 126 133 139 ...</td>\n",
       "      <td>Training</td>\n",
       "    </tr>\n",
       "    <tr>\n",
       "      <th>4</th>\n",
       "      <td>6</td>\n",
       "      <td>68 72 67 67 6 2 1 1 1 1 1 14 24 24 38 65 79 94...</td>\n",
       "      <td>Training</td>\n",
       "    </tr>\n",
       "  </tbody>\n",
       "</table>\n",
       "</div>"
      ],
      "text/plain": [
       "   emotion                                             pixels     Usage\n",
       "0        6  36 39 35 25 19 11 8 7 3 13 15 9 21 57 75 90 10...  Training\n",
       "1        6  88 74 19 4 5 5 3 12 8 21 15 21 15 18 24 29 32 ...  Training\n",
       "2        6  9 2 4 7 1 1 1 0 7 29 49 76 115 141 156 169 177...  Training\n",
       "3        6  104 106 108 104 95 50 60 61 58 83 126 133 139 ...  Training\n",
       "4        6  68 72 67 67 6 2 1 1 1 1 1 14 24 24 38 65 79 94...  Training"
      ]
     },
     "execution_count": 22,
     "metadata": {},
     "output_type": "execute_result"
    }
   ],
   "source": [
    "df = pd.read_csv('C:/Kecilin/emotion_detection/V3/ckextended.csv')\n",
    "df.head()"
   ]
  },
  {
   "cell_type": "code",
   "execution_count": 23,
   "metadata": {},
   "outputs": [],
   "source": [
    "label_to_text = {0: 'Anger', 1: 'Disgust', 2: 'Fear', 3: 'Happiness', 4: 'Sadness', 5: 'Surprise', 6: 'Neutral', 7: 'Contempt'}\n",
    "\n",
    "# Define the new class mapping\n",
    "new_classes = {\n",
    "    1: ['Happiness', 'Surprise'],  # Positive\n",
    "    0: ['Neutral'],  # Neutral\n",
    "    2: ['Anger', 'Disgust', 'Fear', 'Sadness', 'Contempt']  # Negative\n",
    "}\n",
    "\n",
    "# Create a dictionary to map old labels to new labels\n",
    "new_label_mapping = {}\n",
    "for new_label, old_classes in new_classes.items():\n",
    "    for old_label, old_class in label_to_text.items():\n",
    "        if old_class in old_classes:\n",
    "            new_label_mapping[old_label] = new_label"
   ]
  },
  {
   "cell_type": "code",
   "execution_count": 24,
   "metadata": {},
   "outputs": [],
   "source": [
    "img_array = df.pixels.apply(lambda x: np.array(x.split(\" \")).reshape(48,48,1).astype('float32'))\n",
    "img_array = np.stack(img_array, axis=0)\n",
    "labels = df.emotion.values"
   ]
  },
  {
   "cell_type": "code",
   "execution_count": 25,
   "metadata": {},
   "outputs": [
    {
     "data": {
      "text/plain": [
       "(920, 48, 48, 1)"
      ]
     },
     "execution_count": 25,
     "metadata": {},
     "output_type": "execute_result"
    }
   ],
   "source": [
    "img_array.shape"
   ]
  },
  {
   "cell_type": "code",
   "execution_count": 26,
   "metadata": {},
   "outputs": [],
   "source": [
    "X_train, X_test, y_train, y_test = train_test_split(img_array, labels, test_size= .2)"
   ]
  },
  {
   "cell_type": "code",
   "execution_count": 27,
   "metadata": {},
   "outputs": [],
   "source": [
    "X_train = X_train/255\n",
    "X_test = X_test/255"
   ]
  },
  {
   "cell_type": "code",
   "execution_count": 28,
   "metadata": {},
   "outputs": [],
   "source": [
    "# Flatten the input data\n",
    "X_train_flattened = X_train.reshape(X_train.shape[0], -1)\n",
    "X_test_flattened = X_test.reshape(X_test.shape[0], -1)\n",
    "\n",
    "# Normalize your data\n",
    "scaler = StandardScaler()\n",
    "X_train_normalized = scaler.fit_transform(X_train_flattened)\n",
    "X_test_normalized = scaler.transform(X_test_flattened)\n",
    "\n",
    "# Reshape the data back to its original shape\n",
    "X_train_normalized = X_train_normalized.reshape(X_train.shape)\n",
    "X_test_normalized = X_test_normalized.reshape(X_test.shape)"
   ]
  },
  {
   "cell_type": "code",
   "execution_count": 29,
   "metadata": {},
   "outputs": [],
   "source": [
    "# Update the labels using the new label mapping\n",
    "y_train_updated = np.array([new_label_mapping[label] for label in y_train])\n",
    "y_test_updated = np.array([new_label_mapping[label] for label in y_test])"
   ]
  },
  {
   "cell_type": "code",
   "execution_count": 30,
   "metadata": {},
   "outputs": [],
   "source": [
    "basemodel = tf.keras.models.Sequential([\n",
    "    tf.keras.layers.Conv2D(32, (3, 3), activation='relu', input_shape=(48, 48, 1)),\n",
    "    tf.keras.layers.BatchNormalization(),\n",
    "    tf.keras.layers.MaxPool2D(2, 2),\n",
    "    tf.keras.layers.Conv2D(64, (3, 3), activation='relu'),\n",
    "    tf.keras.layers.BatchNormalization(),\n",
    "    tf.keras.layers.MaxPool2D(2, 2),\n",
    "    tf.keras.layers.Flatten(),\n",
    "    tf.keras.layers.Dense(128, activation='relu'),\n",
    "    tf.keras.layers.BatchNormalization(),\n",
    "    tf.keras.layers.Dropout(0.5),\n",
    "    tf.keras.layers.Dense(3, activation='linear')\n",
    "])"
   ]
  },
  {
   "cell_type": "code",
   "execution_count": 31,
   "metadata": {},
   "outputs": [
    {
     "name": "stdout",
     "output_type": "stream",
     "text": [
      "Model: \"sequential_1\"\n",
      "_________________________________________________________________\n",
      " Layer (type)                Output Shape              Param #   \n",
      "=================================================================\n",
      " conv2d_2 (Conv2D)           (None, 46, 46, 32)        320       \n",
      "                                                                 \n",
      " batch_normalization_3 (Bat  (None, 46, 46, 32)        128       \n",
      " chNormalization)                                                \n",
      "                                                                 \n",
      " max_pooling2d_2 (MaxPoolin  (None, 23, 23, 32)        0         \n",
      " g2D)                                                            \n",
      "                                                                 \n",
      " conv2d_3 (Conv2D)           (None, 21, 21, 64)        18496     \n",
      "                                                                 \n",
      " batch_normalization_4 (Bat  (None, 21, 21, 64)        256       \n",
      " chNormalization)                                                \n",
      "                                                                 \n",
      " max_pooling2d_3 (MaxPoolin  (None, 10, 10, 64)        0         \n",
      " g2D)                                                            \n",
      "                                                                 \n",
      " flatten_1 (Flatten)         (None, 6400)              0         \n",
      "                                                                 \n",
      " dense_2 (Dense)             (None, 128)               819328    \n",
      "                                                                 \n",
      " batch_normalization_5 (Bat  (None, 128)               512       \n",
      " chNormalization)                                                \n",
      "                                                                 \n",
      " dropout_1 (Dropout)         (None, 128)               0         \n",
      "                                                                 \n",
      " dense_3 (Dense)             (None, 3)                 387       \n",
      "                                                                 \n",
      "=================================================================\n",
      "Total params: 839427 (3.20 MB)\n",
      "Trainable params: 838979 (3.20 MB)\n",
      "Non-trainable params: 448 (1.75 KB)\n",
      "_________________________________________________________________\n"
     ]
    }
   ],
   "source": [
    "basemodel.summary()"
   ]
  },
  {
   "cell_type": "code",
   "execution_count": 32,
   "metadata": {},
   "outputs": [],
   "source": [
    "initial_learning_rate = 0.001  # You can adjust this value\n",
    "optimizer = tf.keras.optimizers.Adam(learning_rate=initial_learning_rate)\n",
    "basemodel.compile(optimizer=optimizer,\n",
    "                loss=tf.keras.losses.SparseCategoricalCrossentropy(from_logits=True),\n",
    "                metrics=['accuracy'])"
   ]
  },
  {
   "cell_type": "code",
   "execution_count": 33,
   "metadata": {},
   "outputs": [],
   "source": [
    "# def lr_schedule(epoch):\n",
    "#     if epoch < 20:\n",
    "#         return initial_learning_rate\n",
    "#     else:\n",
    "#         return initial_learning_rate * 0.1\n",
    "\n",
    "reduce_lr = ReduceLROnPlateau(\n",
    "    monitor='val_loss',  # Monitor validation loss\n",
    "    factor=0.5,          # Reduce the learning rate by a factor of 0.5\n",
    "    patience=5,          # If no improvement after 5 epochs, reduce the learning rate\n",
    "    min_lr=1e-6          # Minimum learning rate\n",
    ")"
   ]
  },
  {
   "cell_type": "code",
   "execution_count": 34,
   "metadata": {},
   "outputs": [],
   "source": [
    "file_name = 'best_model_with_reducelronplateau_v2.h5'\n",
    "checkpoint_path= os.path.join('checkpoint',file_name)\n",
    "\n",
    "\n",
    "call_back = [\n",
    "    tf.keras.callbacks.ModelCheckpoint(filepath=checkpoint_path,\n",
    "                                        monitor='val_accuracy',\n",
    "                                        verbose=1,\n",
    "                                        save_freq='epoch',\n",
    "                                        save_best_only=True,\n",
    "                                        save_weights_only=False,\n",
    "                                        mode='max'),\n",
    "    tf.keras.callbacks.EarlyStopping(\n",
    "        monitor='val_accuracy',\n",
    "        patience=20,\n",
    "        restore_best_weights=True\n",
    "    ),\n",
    "    # tf.keras.callbacks.LearningRateScheduler(lr_schedule)\n",
    "    reduce_lr\n",
    "]"
   ]
  },
  {
   "cell_type": "code",
   "execution_count": 35,
   "metadata": {},
   "outputs": [
    {
     "name": "stdout",
     "output_type": "stream",
     "text": [
      "Epoch 1/60\n"
     ]
    },
    {
     "name": "stdout",
     "output_type": "stream",
     "text": [
      "73/74 [============================>.] - ETA: 0s - loss: 1.2932 - accuracy: 0.5452\n",
      "Epoch 1: val_accuracy improved from -inf to 0.65217, saving model to checkpoint\\best_model_with_reducelronplateau_v2.h5\n",
      "74/74 [==============================] - 4s 35ms/step - loss: 1.2873 - accuracy: 0.5476 - val_loss: 1.3208 - val_accuracy: 0.6522 - lr: 0.0010\n",
      "Epoch 2/60\n",
      " 5/74 [=>............................] - ETA: 1s - loss: 0.6028 - accuracy: 0.6800"
     ]
    },
    {
     "name": "stderr",
     "output_type": "stream",
     "text": [
      "C:\\Users\\vince\\AppData\\Local\\Packages\\PythonSoftwareFoundation.Python.3.10_qbz5n2kfra8p0\\LocalCache\\local-packages\\Python310\\site-packages\\keras\\src\\engine\\training.py:3079: UserWarning: You are saving your model as an HDF5 file via `model.save()`. This file format is considered legacy. We recommend using instead the native Keras format, e.g. `model.save('my_model.keras')`.\n",
      "  saving_api.save_model(\n"
     ]
    },
    {
     "name": "stdout",
     "output_type": "stream",
     "text": [
      "72/74 [============================>.] - ETA: 0s - loss: 0.7221 - accuracy: 0.7056\n",
      "Epoch 2: val_accuracy did not improve from 0.65217\n",
      "74/74 [==============================] - 2s 30ms/step - loss: 0.7231 - accuracy: 0.7038 - val_loss: 2.2206 - val_accuracy: 0.6522 - lr: 0.0010\n",
      "Epoch 3/60\n",
      "73/74 [============================>.] - ETA: 0s - loss: 0.5450 - accuracy: 0.8055\n",
      "Epoch 3: val_accuracy did not improve from 0.65217\n",
      "74/74 [==============================] - 2s 30ms/step - loss: 0.5431 - accuracy: 0.8043 - val_loss: 2.4997 - val_accuracy: 0.6522 - lr: 0.0010\n",
      "Epoch 4/60\n",
      "72/74 [============================>.] - ETA: 0s - loss: 0.4026 - accuracy: 0.8514\n",
      "Epoch 4: val_accuracy did not improve from 0.65217\n",
      "74/74 [==============================] - 2s 31ms/step - loss: 0.4024 - accuracy: 0.8505 - val_loss: 1.9198 - val_accuracy: 0.6522 - lr: 0.0010\n",
      "Epoch 5/60\n",
      "73/74 [============================>.] - ETA: 0s - loss: 0.3827 - accuracy: 0.8658\n",
      "Epoch 5: val_accuracy improved from 0.65217 to 0.66304, saving model to checkpoint\\best_model_with_reducelronplateau_v2.h5\n",
      "74/74 [==============================] - 2s 28ms/step - loss: 0.3803 - accuracy: 0.8668 - val_loss: 1.4979 - val_accuracy: 0.6630 - lr: 0.0010\n",
      "Epoch 6/60\n",
      "73/74 [============================>.] - ETA: 0s - loss: 0.3889 - accuracy: 0.8616\n",
      "Epoch 6: val_accuracy improved from 0.66304 to 0.78261, saving model to checkpoint\\best_model_with_reducelronplateau_v2.h5\n",
      "74/74 [==============================] - 2s 29ms/step - loss: 0.3866 - accuracy: 0.8628 - val_loss: 0.5111 - val_accuracy: 0.7826 - lr: 0.0010\n",
      "Epoch 7/60\n",
      "73/74 [============================>.] - ETA: 0s - loss: 0.3377 - accuracy: 0.8781\n",
      "Epoch 7: val_accuracy improved from 0.78261 to 0.83152, saving model to checkpoint\\best_model_with_reducelronplateau_v2.h5\n",
      "74/74 [==============================] - 2s 29ms/step - loss: 0.3364 - accuracy: 0.8791 - val_loss: 0.5261 - val_accuracy: 0.8315 - lr: 0.0010\n",
      "Epoch 8/60\n",
      "73/74 [============================>.] - ETA: 0s - loss: 0.2130 - accuracy: 0.9178\n",
      "Epoch 8: val_accuracy improved from 0.83152 to 0.84783, saving model to checkpoint\\best_model_with_reducelronplateau_v2.h5\n",
      "74/74 [==============================] - 2s 29ms/step - loss: 0.2140 - accuracy: 0.9171 - val_loss: 0.4095 - val_accuracy: 0.8478 - lr: 0.0010\n",
      "Epoch 9/60\n",
      "72/74 [============================>.] - ETA: 0s - loss: 0.2446 - accuracy: 0.9014\n",
      "Epoch 9: val_accuracy improved from 0.84783 to 0.88043, saving model to checkpoint\\best_model_with_reducelronplateau_v2.h5\n",
      "74/74 [==============================] - 2s 29ms/step - loss: 0.2428 - accuracy: 0.9035 - val_loss: 0.3485 - val_accuracy: 0.8804 - lr: 0.0010\n",
      "Epoch 10/60\n",
      "72/74 [============================>.] - ETA: 0s - loss: 0.2301 - accuracy: 0.9042\n",
      "Epoch 10: val_accuracy did not improve from 0.88043\n",
      "74/74 [==============================] - 2s 28ms/step - loss: 0.2291 - accuracy: 0.9049 - val_loss: 0.3342 - val_accuracy: 0.8804 - lr: 0.0010\n",
      "Epoch 11/60\n",
      "72/74 [============================>.] - ETA: 0s - loss: 0.1717 - accuracy: 0.9458\n",
      "Epoch 11: val_accuracy improved from 0.88043 to 0.88587, saving model to checkpoint\\best_model_with_reducelronplateau_v2.h5\n",
      "74/74 [==============================] - 2s 30ms/step - loss: 0.1760 - accuracy: 0.9443 - val_loss: 0.3287 - val_accuracy: 0.8859 - lr: 0.0010\n",
      "Epoch 12/60\n",
      "74/74 [==============================] - ETA: 0s - loss: 0.1758 - accuracy: 0.9307\n",
      "Epoch 12: val_accuracy improved from 0.88587 to 0.89674, saving model to checkpoint\\best_model_with_reducelronplateau_v2.h5\n",
      "74/74 [==============================] - 2s 28ms/step - loss: 0.1758 - accuracy: 0.9307 - val_loss: 0.2548 - val_accuracy: 0.8967 - lr: 0.0010\n",
      "Epoch 13/60\n",
      "73/74 [============================>.] - ETA: 0s - loss: 0.1422 - accuracy: 0.9479\n",
      "Epoch 13: val_accuracy improved from 0.89674 to 0.91304, saving model to checkpoint\\best_model_with_reducelronplateau_v2.h5\n",
      "74/74 [==============================] - 2s 29ms/step - loss: 0.1416 - accuracy: 0.9484 - val_loss: 0.2392 - val_accuracy: 0.9130 - lr: 0.0010\n",
      "Epoch 14/60\n",
      "72/74 [============================>.] - ETA: 0s - loss: 0.1215 - accuracy: 0.9556\n",
      "Epoch 14: val_accuracy did not improve from 0.91304\n",
      "74/74 [==============================] - 2s 29ms/step - loss: 0.1198 - accuracy: 0.9565 - val_loss: 0.2837 - val_accuracy: 0.8859 - lr: 0.0010\n",
      "Epoch 15/60\n",
      "74/74 [==============================] - ETA: 0s - loss: 0.1177 - accuracy: 0.9606\n",
      "Epoch 15: val_accuracy improved from 0.91304 to 0.91848, saving model to checkpoint\\best_model_with_reducelronplateau_v2.h5\n",
      "74/74 [==============================] - 2s 28ms/step - loss: 0.1177 - accuracy: 0.9606 - val_loss: 0.2302 - val_accuracy: 0.9185 - lr: 0.0010\n",
      "Epoch 16/60\n",
      "73/74 [============================>.] - ETA: 0s - loss: 0.1120 - accuracy: 0.9603\n",
      "Epoch 16: val_accuracy did not improve from 0.91848\n",
      "74/74 [==============================] - 2s 28ms/step - loss: 0.1178 - accuracy: 0.9579 - val_loss: 0.2706 - val_accuracy: 0.8967 - lr: 0.0010\n",
      "Epoch 17/60\n",
      "72/74 [============================>.] - ETA: 0s - loss: 0.0726 - accuracy: 0.9778\n",
      "Epoch 17: val_accuracy improved from 0.91848 to 0.92391, saving model to checkpoint\\best_model_with_reducelronplateau_v2.h5\n",
      "74/74 [==============================] - 2s 29ms/step - loss: 0.0722 - accuracy: 0.9783 - val_loss: 0.2301 - val_accuracy: 0.9239 - lr: 0.0010\n",
      "Epoch 18/60\n",
      "72/74 [============================>.] - ETA: 0s - loss: 0.0884 - accuracy: 0.9778\n",
      "Epoch 18: val_accuracy did not improve from 0.92391\n",
      "74/74 [==============================] - 2s 28ms/step - loss: 0.0866 - accuracy: 0.9783 - val_loss: 0.2343 - val_accuracy: 0.8967 - lr: 0.0010\n",
      "Epoch 19/60\n",
      "72/74 [============================>.] - ETA: 0s - loss: 0.0969 - accuracy: 0.9625\n",
      "Epoch 19: val_accuracy did not improve from 0.92391\n",
      "74/74 [==============================] - 2s 28ms/step - loss: 0.0978 - accuracy: 0.9620 - val_loss: 0.2855 - val_accuracy: 0.9022 - lr: 0.0010\n",
      "Epoch 20/60\n",
      "73/74 [============================>.] - ETA: 0s - loss: 0.0752 - accuracy: 0.9767\n",
      "Epoch 20: val_accuracy did not improve from 0.92391\n",
      "74/74 [==============================] - 2s 28ms/step - loss: 0.0764 - accuracy: 0.9755 - val_loss: 0.2380 - val_accuracy: 0.9130 - lr: 0.0010\n",
      "Epoch 21/60\n",
      "72/74 [============================>.] - ETA: 0s - loss: 0.0638 - accuracy: 0.9819\n",
      "Epoch 21: val_accuracy did not improve from 0.92391\n",
      "74/74 [==============================] - 2s 28ms/step - loss: 0.0629 - accuracy: 0.9823 - val_loss: 0.2385 - val_accuracy: 0.9185 - lr: 5.0000e-04\n",
      "Epoch 22/60\n",
      "72/74 [============================>.] - ETA: 0s - loss: 0.0882 - accuracy: 0.9708\n",
      "Epoch 22: val_accuracy did not improve from 0.92391\n",
      "74/74 [==============================] - 2s 28ms/step - loss: 0.0866 - accuracy: 0.9715 - val_loss: 0.2560 - val_accuracy: 0.9239 - lr: 5.0000e-04\n",
      "Epoch 23/60\n",
      "72/74 [============================>.] - ETA: 0s - loss: 0.0457 - accuracy: 0.9833\n",
      "Epoch 23: val_accuracy did not improve from 0.92391\n",
      "74/74 [==============================] - 2s 28ms/step - loss: 0.0448 - accuracy: 0.9837 - val_loss: 0.2781 - val_accuracy: 0.9185 - lr: 5.0000e-04\n",
      "Epoch 24/60\n",
      "73/74 [============================>.] - ETA: 0s - loss: 0.0436 - accuracy: 0.9890\n",
      "Epoch 24: val_accuracy did not improve from 0.92391\n",
      "74/74 [==============================] - 2s 28ms/step - loss: 0.0435 - accuracy: 0.9891 - val_loss: 0.2930 - val_accuracy: 0.9239 - lr: 5.0000e-04\n",
      "Epoch 25/60\n",
      "73/74 [============================>.] - ETA: 0s - loss: 0.0516 - accuracy: 0.9767\n",
      "Epoch 25: val_accuracy did not improve from 0.92391\n",
      "74/74 [==============================] - 2s 29ms/step - loss: 0.0512 - accuracy: 0.9769 - val_loss: 0.2344 - val_accuracy: 0.9185 - lr: 5.0000e-04\n",
      "Epoch 26/60\n",
      "73/74 [============================>.] - ETA: 0s - loss: 0.0244 - accuracy: 0.9945\n",
      "Epoch 26: val_accuracy did not improve from 0.92391\n",
      "74/74 [==============================] - 2s 30ms/step - loss: 0.0243 - accuracy: 0.9946 - val_loss: 0.2430 - val_accuracy: 0.9239 - lr: 2.5000e-04\n",
      "Epoch 27/60\n",
      "72/74 [============================>.] - ETA: 0s - loss: 0.0338 - accuracy: 0.9875\n",
      "Epoch 27: val_accuracy improved from 0.92391 to 0.92935, saving model to checkpoint\\best_model_with_reducelronplateau_v2.h5\n",
      "74/74 [==============================] - 2s 28ms/step - loss: 0.0356 - accuracy: 0.9864 - val_loss: 0.2311 - val_accuracy: 0.9293 - lr: 2.5000e-04\n",
      "Epoch 28/60\n",
      "73/74 [============================>.] - ETA: 0s - loss: 0.0318 - accuracy: 0.9945\n",
      "Epoch 28: val_accuracy did not improve from 0.92935\n",
      "74/74 [==============================] - 2s 28ms/step - loss: 0.0316 - accuracy: 0.9946 - val_loss: 0.2237 - val_accuracy: 0.9293 - lr: 2.5000e-04\n",
      "Epoch 29/60\n",
      "72/74 [============================>.] - ETA: 0s - loss: 0.0395 - accuracy: 0.9903\n",
      "Epoch 29: val_accuracy did not improve from 0.92935\n",
      "74/74 [==============================] - 2s 28ms/step - loss: 0.0391 - accuracy: 0.9905 - val_loss: 0.2466 - val_accuracy: 0.9130 - lr: 2.5000e-04\n",
      "Epoch 30/60\n",
      "73/74 [============================>.] - ETA: 0s - loss: 0.0301 - accuracy: 0.9918\n",
      "Epoch 30: val_accuracy did not improve from 0.92935\n",
      "74/74 [==============================] - 2s 28ms/step - loss: 0.0304 - accuracy: 0.9918 - val_loss: 0.2596 - val_accuracy: 0.9239 - lr: 2.5000e-04\n",
      "Epoch 31/60\n",
      "72/74 [============================>.] - ETA: 0s - loss: 0.0281 - accuracy: 0.9931\n",
      "Epoch 31: val_accuracy did not improve from 0.92935\n",
      "74/74 [==============================] - 2s 28ms/step - loss: 0.0278 - accuracy: 0.9932 - val_loss: 0.2636 - val_accuracy: 0.9185 - lr: 2.5000e-04\n",
      "Epoch 32/60\n",
      "73/74 [============================>.] - ETA: 0s - loss: 0.0173 - accuracy: 0.9986\n",
      "Epoch 32: val_accuracy did not improve from 0.92935\n",
      "74/74 [==============================] - 2s 29ms/step - loss: 0.0172 - accuracy: 0.9986 - val_loss: 0.2743 - val_accuracy: 0.9239 - lr: 2.5000e-04\n",
      "Epoch 33/60\n",
      "72/74 [============================>.] - ETA: 0s - loss: 0.0196 - accuracy: 0.9972\n",
      "Epoch 33: val_accuracy did not improve from 0.92935\n",
      "74/74 [==============================] - 2s 28ms/step - loss: 0.0202 - accuracy: 0.9973 - val_loss: 0.2542 - val_accuracy: 0.9130 - lr: 2.5000e-04\n",
      "Epoch 34/60\n",
      "73/74 [============================>.] - ETA: 0s - loss: 0.0301 - accuracy: 0.9932\n",
      "Epoch 34: val_accuracy improved from 0.92935 to 0.94022, saving model to checkpoint\\best_model_with_reducelronplateau_v2.h5\n",
      "74/74 [==============================] - 2s 29ms/step - loss: 0.0304 - accuracy: 0.9932 - val_loss: 0.2258 - val_accuracy: 0.9402 - lr: 1.2500e-04\n",
      "Epoch 35/60\n",
      "73/74 [============================>.] - ETA: 0s - loss: 0.0250 - accuracy: 0.9904\n",
      "Epoch 35: val_accuracy did not improve from 0.94022\n",
      "74/74 [==============================] - 2s 29ms/step - loss: 0.0248 - accuracy: 0.9905 - val_loss: 0.2315 - val_accuracy: 0.9185 - lr: 1.2500e-04\n",
      "Epoch 36/60\n",
      "72/74 [============================>.] - ETA: 0s - loss: 0.0248 - accuracy: 0.9944\n",
      "Epoch 36: val_accuracy did not improve from 0.94022\n",
      "74/74 [==============================] - 2s 28ms/step - loss: 0.0244 - accuracy: 0.9946 - val_loss: 0.2515 - val_accuracy: 0.9239 - lr: 1.2500e-04\n",
      "Epoch 37/60\n",
      "72/74 [============================>.] - ETA: 0s - loss: 0.0187 - accuracy: 0.9972\n",
      "Epoch 37: val_accuracy did not improve from 0.94022\n",
      "74/74 [==============================] - 2s 29ms/step - loss: 0.0191 - accuracy: 0.9973 - val_loss: 0.2464 - val_accuracy: 0.9239 - lr: 1.2500e-04\n",
      "Epoch 38/60\n",
      "73/74 [============================>.] - ETA: 0s - loss: 0.0147 - accuracy: 0.9973\n",
      "Epoch 38: val_accuracy did not improve from 0.94022\n",
      "74/74 [==============================] - 2s 28ms/step - loss: 0.0155 - accuracy: 0.9973 - val_loss: 0.2605 - val_accuracy: 0.9185 - lr: 1.2500e-04\n",
      "Epoch 39/60\n",
      "74/74 [==============================] - ETA: 0s - loss: 0.0127 - accuracy: 0.9986\n",
      "Epoch 39: val_accuracy did not improve from 0.94022\n",
      "74/74 [==============================] - 2s 29ms/step - loss: 0.0127 - accuracy: 0.9986 - val_loss: 0.2557 - val_accuracy: 0.9239 - lr: 6.2500e-05\n",
      "Epoch 40/60\n",
      "72/74 [============================>.] - ETA: 0s - loss: 0.0112 - accuracy: 1.0000\n",
      "Epoch 40: val_accuracy did not improve from 0.94022\n",
      "74/74 [==============================] - 2s 28ms/step - loss: 0.0123 - accuracy: 1.0000 - val_loss: 0.2563 - val_accuracy: 0.9239 - lr: 6.2500e-05\n",
      "Epoch 41/60\n",
      "73/74 [============================>.] - ETA: 0s - loss: 0.0230 - accuracy: 0.9945\n",
      "Epoch 41: val_accuracy did not improve from 0.94022\n",
      "74/74 [==============================] - 2s 29ms/step - loss: 0.0229 - accuracy: 0.9946 - val_loss: 0.2469 - val_accuracy: 0.9293 - lr: 6.2500e-05\n",
      "Epoch 42/60\n",
      "72/74 [============================>.] - ETA: 0s - loss: 0.0140 - accuracy: 0.9972\n",
      "Epoch 42: val_accuracy did not improve from 0.94022\n",
      "74/74 [==============================] - 2s 28ms/step - loss: 0.0137 - accuracy: 0.9973 - val_loss: 0.2480 - val_accuracy: 0.9293 - lr: 6.2500e-05\n",
      "Epoch 43/60\n",
      "72/74 [============================>.] - ETA: 0s - loss: 0.0116 - accuracy: 0.9972\n",
      "Epoch 43: val_accuracy did not improve from 0.94022\n",
      "74/74 [==============================] - 2s 29ms/step - loss: 0.0120 - accuracy: 0.9973 - val_loss: 0.2416 - val_accuracy: 0.9348 - lr: 6.2500e-05\n",
      "Epoch 44/60\n",
      "72/74 [============================>.] - ETA: 0s - loss: 0.0138 - accuracy: 0.9986\n",
      "Epoch 44: val_accuracy did not improve from 0.94022\n",
      "74/74 [==============================] - 2s 29ms/step - loss: 0.0136 - accuracy: 0.9986 - val_loss: 0.2409 - val_accuracy: 0.9293 - lr: 3.1250e-05\n",
      "Epoch 45/60\n",
      "73/74 [============================>.] - ETA: 0s - loss: 0.0124 - accuracy: 0.9973\n",
      "Epoch 45: val_accuracy did not improve from 0.94022\n",
      "74/74 [==============================] - 2s 29ms/step - loss: 0.0123 - accuracy: 0.9973 - val_loss: 0.2445 - val_accuracy: 0.9293 - lr: 3.1250e-05\n",
      "Epoch 46/60\n",
      "73/74 [============================>.] - ETA: 0s - loss: 0.0173 - accuracy: 0.9959\n",
      "Epoch 46: val_accuracy did not improve from 0.94022\n",
      "74/74 [==============================] - 2s 28ms/step - loss: 0.0215 - accuracy: 0.9932 - val_loss: 0.2405 - val_accuracy: 0.9293 - lr: 3.1250e-05\n",
      "Epoch 47/60\n",
      "73/74 [============================>.] - ETA: 0s - loss: 0.0406 - accuracy: 0.9877\n",
      "Epoch 47: val_accuracy did not improve from 0.94022\n",
      "74/74 [==============================] - 2s 29ms/step - loss: 0.0403 - accuracy: 0.9878 - val_loss: 0.2438 - val_accuracy: 0.9293 - lr: 3.1250e-05\n",
      "Epoch 48/60\n",
      "73/74 [============================>.] - ETA: 0s - loss: 0.0125 - accuracy: 0.9973\n",
      "Epoch 48: val_accuracy did not improve from 0.94022\n",
      "74/74 [==============================] - 2s 30ms/step - loss: 0.0124 - accuracy: 0.9973 - val_loss: 0.2506 - val_accuracy: 0.9239 - lr: 3.1250e-05\n",
      "Epoch 49/60\n",
      "73/74 [============================>.] - ETA: 0s - loss: 0.0155 - accuracy: 0.9959\n",
      "Epoch 49: val_accuracy did not improve from 0.94022\n",
      "74/74 [==============================] - 2s 31ms/step - loss: 0.0161 - accuracy: 0.9959 - val_loss: 0.2525 - val_accuracy: 0.9239 - lr: 1.5625e-05\n",
      "Epoch 50/60\n",
      "73/74 [============================>.] - ETA: 0s - loss: 0.0108 - accuracy: 0.9973\n",
      "Epoch 50: val_accuracy did not improve from 0.94022\n",
      "74/74 [==============================] - 2s 31ms/step - loss: 0.0112 - accuracy: 0.9973 - val_loss: 0.2492 - val_accuracy: 0.9239 - lr: 1.5625e-05\n",
      "Epoch 51/60\n",
      "73/74 [============================>.] - ETA: 0s - loss: 0.0295 - accuracy: 0.9890\n",
      "Epoch 51: val_accuracy did not improve from 0.94022\n",
      "74/74 [==============================] - 2s 30ms/step - loss: 0.0294 - accuracy: 0.9891 - val_loss: 0.2501 - val_accuracy: 0.9239 - lr: 1.5625e-05\n",
      "Epoch 52/60\n",
      "73/74 [============================>.] - ETA: 0s - loss: 0.0282 - accuracy: 0.9904\n",
      "Epoch 52: val_accuracy did not improve from 0.94022\n",
      "74/74 [==============================] - 2s 31ms/step - loss: 0.0280 - accuracy: 0.9905 - val_loss: 0.2532 - val_accuracy: 0.9239 - lr: 1.5625e-05\n",
      "Epoch 53/60\n",
      "73/74 [============================>.] - ETA: 0s - loss: 0.0150 - accuracy: 0.9973\n",
      "Epoch 53: val_accuracy did not improve from 0.94022\n",
      "74/74 [==============================] - 2s 31ms/step - loss: 0.0165 - accuracy: 0.9959 - val_loss: 0.2558 - val_accuracy: 0.9239 - lr: 1.5625e-05\n",
      "Epoch 54/60\n",
      "73/74 [============================>.] - ETA: 0s - loss: 0.0168 - accuracy: 0.9973\n",
      "Epoch 54: val_accuracy did not improve from 0.94022\n",
      "74/74 [==============================] - 2s 31ms/step - loss: 0.0167 - accuracy: 0.9973 - val_loss: 0.2545 - val_accuracy: 0.9239 - lr: 7.8125e-06\n"
     ]
    }
   ],
   "source": [
    "history = basemodel.fit(X_train_normalized, y_train_updated,\n",
    "                        epochs=50,\n",
    "                        batch_size=8,\n",
    "                        validation_data=(X_test_normalized, y_test_updated),\n",
    "                        callbacks=call_back)"
   ]
  },
  {
   "cell_type": "code",
   "execution_count": 36,
   "metadata": {},
   "outputs": [
    {
     "data": {
      "text/plain": [
       "<matplotlib.legend.Legend at 0x2725e4aab30>"
      ]
     },
     "execution_count": 36,
     "metadata": {},
     "output_type": "execute_result"
    },
    {
     "data": {
      "image/png": "[encoded data removed]",
      "text/plain": [
       "<Figure size 640x480 with 1 Axes>"
      ]
     },
     "metadata": {},
     "output_type": "display_data"
    }
   ],
   "source": [
    "# Plot loss per iteration\n",
    "import matplotlib.pyplot as plt\n",
    "plt.plot(history.history['loss'], label='loss')\n",
    "plt.plot(history.history['val_loss'], label='val_loss')\n",
    "plt.legend()"
   ]
  },
  {
   "cell_type": "code",
   "execution_count": 37,
   "metadata": {},
   "outputs": [
    {
     "data": {
      "text/plain": [
       "<matplotlib.legend.Legend at 0x2725e573730>"
      ]
     },
     "execution_count": 37,
     "metadata": {},
     "output_type": "execute_result"
    },
    {
     "data": {
      "image/png": "[encoded data removed]",
      "text/plain": [
       "<Figure size 640x480 with 1 Axes>"
      ]
     },
     "metadata": {},
     "output_type": "display_data"
    }
   ],
   "source": [
    "# Plot accuracy per iteration\n",
    "plt.plot(history.history['accuracy'], label='acc')\n",
    "plt.plot(history.history['val_accuracy'], label='val_acc')\n",
    "plt.legend()"
   ]
  },
  {
   "cell_type": "code",
   "execution_count": 38,
   "metadata": {},
   "outputs": [
    {
     "name": "stdout",
     "output_type": "stream",
     "text": [
      "6/6 [==============================] - 0s 13ms/step\n",
      "Confusion matrix, without normalization\n",
      "[[  0  13   0   0   0   0   0   0]\n",
      " [  0   9   0   0   0   0   0   0]\n",
      " [  0   3   0   0   0   0   0   0]\n",
      " [  0   9   0   0   0   0   0   0]\n",
      " [  0   6   0   0   0   0   0   0]\n",
      " [  0  17   0   0   0   0   0   0]\n",
      " [  0 120   0   0   0   0   0   0]\n",
      " [  0   7   0   0   0   0   0   0]]\n"
     ]
    },
    {
     "data": {
      "image/png": "[encoded data removed]",
      "text/plain": [
       "<Figure size 640x480 with 2 Axes>"
      ]
     },
     "metadata": {},
     "output_type": "display_data"
    }
   ],
   "source": [
    "# Plot confusion matrix\n",
    "from sklearn.metrics import confusion_matrix\n",
    "import itertools\n",
    "\n",
    "def plot_confusion_matrix(cm, classes,\n",
    "                          normalize=False,\n",
    "                          title='Confusion matrix',\n",
    "                          cmap=plt.cm.Blues):\n",
    "  \"\"\"\n",
    "  This function prints and plots the confusion matrix.\n",
    "  Normalization can be applied by setting `normalize=True`.\n",
    "  \"\"\"\n",
    "  if normalize:\n",
    "      cm = cm.astype('float') / cm.sum(axis=1)[:, np.newaxis]\n",
    "      print(\"Normalized confusion matrix\")\n",
    "  else:\n",
    "      print('Confusion matrix, without normalization')\n",
    "\n",
    "  print(cm)\n",
    "\n",
    "  plt.imshow(cm, interpolation='nearest', cmap=cmap)\n",
    "  plt.title(title)\n",
    "  plt.colorbar()\n",
    "  tick_marks = np.arange(len(classes))\n",
    "  plt.xticks(tick_marks, classes, rotation=45)\n",
    "  plt.yticks(tick_marks, classes)\n",
    "\n",
    "  fmt = '.2f' if normalize else 'd'\n",
    "  thresh = cm.max() / 2.\n",
    "  for i, j in itertools.product(range(cm.shape[0]), range(cm.shape[1])):\n",
    "      plt.text(j, i, format(cm[i, j], fmt),\n",
    "               horizontalalignment=\"center\",\n",
    "               color=\"white\" if cm[i, j] > thresh else \"black\")\n",
    "\n",
    "  plt.tight_layout()\n",
    "  plt.ylabel('True label')\n",
    "  plt.xlabel('Predicted label')\n",
    "  plt.show()\n",
    "\n",
    "\n",
    "p_test = basemodel.predict(X_test).argmax(axis=1)\n",
    "cm = confusion_matrix(y_test, p_test)\n",
    "plot_confusion_matrix(cm, list(range(3)))"
   ]
  },
  {
   "cell_type": "code",
   "execution_count": 39,
   "metadata": {},
   "outputs": [
    {
     "data": {
      "text/plain": [
       "'checkpoint\\\\best_model_with_reducelronplateau_v2.h5'"
      ]
     },
     "execution_count": 39,
     "metadata": {},
     "output_type": "execute_result"
    }
   ],
   "source": [
    "checkpoint_path"
   ]
  },
  {
   "cell_type": "code",
   "execution_count": 40,
   "metadata": {},
   "outputs": [],
   "source": [
    "# final_model = tf.keras.models.load_model(checkpoint_path)\n",
    "# from IPython.display import clear_output\n",
    "# import time\n",
    "\n",
    "# for k in range(40):\n",
    "#         print(f'actual label is {label_to_text[y_test[k]]}')\n",
    "#         predicted_class = final_model.predict(tf.expand_dims(X_test[k],0)).argmax()\n",
    "#         print(f'predicted label is {label_to_text[predicted_class]}')\n",
    "#         pyplot.imshow(X_test[k].reshape((48,48)))\n",
    "#         pyplot.show()\n",
    "#         time.sleep(3)\n",
    "#         clear_output(wait=True)"
   ]
  }
 ],
 "metadata": {
  "kernelspec": {
   "display_name": "Python 3",
   "language": "python",
   "name": "python3"
  },
  "language_info": {
   "codemirror_mode": {
    "name": "ipython",
    "version": 3
   },
   "file_extension": ".py",
   "mimetype": "text/x-python",
   "name": "python",
   "nbconvert_exporter": "python",
   "pygments_lexer": "ipython3",
   "version": "3.10.11"
  },
  "orig_nbformat": 4
 },
 "nbformat": 4,
 "nbformat_minor": 2
}
